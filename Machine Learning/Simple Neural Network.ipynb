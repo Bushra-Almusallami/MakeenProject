{
  "nbformat": 4,
  "nbformat_minor": 0,
  "metadata": {
    "colab": {
      "provenance": []
    },
    "kernelspec": {
      "name": "python3",
      "display_name": "Python 3"
    },
    "language_info": {
      "name": "python"
    }
  },
  "cells": [
    {
      "cell_type": "code",
      "execution_count": 1,
      "metadata": {
        "id": "_WF4S8sn1Frp"
      },
      "outputs": [],
      "source": [
        "import tensorflow as tf"
      ]
    },
    {
      "cell_type": "code",
      "source": [],
      "metadata": {
        "id": "WXgZyH4D1GdH"
      },
      "execution_count": null,
      "outputs": []
    },
    {
      "cell_type": "markdown",
      "source": [
        "Define a simple dummy dataset"
      ],
      "metadata": {
        "id": "u2uvzaaC1P3b"
      }
    },
    {
      "cell_type": "code",
      "source": [
        "X = tf.random.uniform((100, 2))\n",
        "y = (X + 5) * 0.3"
      ],
      "metadata": {
        "id": "VrW7PRWX1QeL"
      },
      "execution_count": 2,
      "outputs": []
    },
    {
      "cell_type": "code",
      "source": [
        " type(X), type(y)"
      ],
      "metadata": {
        "colab": {
          "base_uri": "https://localhost:8080/"
        },
        "id": "3nanh1_o1Sic",
        "outputId": "fda3beb5-59f8-4c3d-b17b-78128deb45f2"
      },
      "execution_count": 3,
      "outputs": [
        {
          "output_type": "execute_result",
          "data": {
            "text/plain": [
              "(tensorflow.python.framework.ops.EagerTensor,\n",
              " tensorflow.python.framework.ops.EagerTensor)"
            ]
          },
          "metadata": {},
          "execution_count": 3
        }
      ]
    },
    {
      "cell_type": "code",
      "source": [
        " X.shape, y.shape"
      ],
      "metadata": {
        "colab": {
          "base_uri": "https://localhost:8080/"
        },
        "id": "xSOQv8Ex1WFa",
        "outputId": "385e0878-e697-4128-846b-438a14e164c8"
      },
      "execution_count": 4,
      "outputs": [
        {
          "output_type": "execute_result",
          "data": {
            "text/plain": [
              "(TensorShape([100, 2]), TensorShape([100, 2]))"
            ]
          },
          "metadata": {},
          "execution_count": 4
        }
      ]
    },
    {
      "cell_type": "code",
      "source": [],
      "metadata": {
        "id": "R5fYrQCm1ZV7"
      },
      "execution_count": null,
      "outputs": []
    },
    {
      "cell_type": "markdown",
      "source": [
        "Define a simple Neural Network"
      ],
      "metadata": {
        "id": "W1uNW3aW1dsg"
      }
    },
    {
      "cell_type": "code",
      "source": [
        "model =  tf.keras.Sequential([\n",
        "    tf.keras.layers.Input(name=\"InputLayer\", shape=[2]),\n",
        "    tf.keras.layers.Dense(2, name=\"Layer1\"),\n",
        "    # tf.keras.layers.Dense(1, name=\"Layer2\"),\n",
        " ])"
      ],
      "metadata": {
        "id": "9BU17wWB1eT0"
      },
      "execution_count": 5,
      "outputs": []
    },
    {
      "cell_type": "code",
      "source": [
        "model.summary()"
      ],
      "metadata": {
        "colab": {
          "base_uri": "https://localhost:8080/"
        },
        "id": "lnJBa0bC1hNJ",
        "outputId": "3c4056d3-ea47-41fd-ff0f-da8356200689"
      },
      "execution_count": 6,
      "outputs": [
        {
          "output_type": "stream",
          "name": "stdout",
          "text": [
            "Model: \"sequential\"\n",
            "_________________________________________________________________\n",
            " Layer (type)                Output Shape              Param #   \n",
            "=================================================================\n",
            " Layer1 (Dense)              (None, 2)                 6         \n",
            "                                                                 \n",
            "=================================================================\n",
            "Total params: 6\n",
            "Trainable params: 6\n",
            "Non-trainable params: 0\n",
            "_________________________________________________________________\n"
          ]
        }
      ]
    },
    {
      "cell_type": "code",
      "source": [
        " model.layers[0].weights"
      ],
      "metadata": {
        "colab": {
          "base_uri": "https://localhost:8080/"
        },
        "id": "TF40Nbck1lhb",
        "outputId": "3de782c8-3e9e-4fd6-dd5e-7336759e78ed"
      },
      "execution_count": 7,
      "outputs": [
        {
          "output_type": "execute_result",
          "data": {
            "text/plain": [
              "[<tf.Variable 'Layer1/kernel:0' shape=(2, 2) dtype=float32, numpy=\n",
              " array([[ 1.1313325 ,  1.1675817 ],\n",
              "        [ 1.2237376 , -0.70033365]], dtype=float32)>,\n",
              " <tf.Variable 'Layer1/bias:0' shape=(2,) dtype=float32, numpy=array([0., 0.], dtype=float32)>]"
            ]
          },
          "metadata": {},
          "execution_count": 7
        }
      ]
    },
    {
      "cell_type": "code",
      "source": [],
      "metadata": {
        "id": "nOjbaLSl1n-U"
      },
      "execution_count": null,
      "outputs": []
    },
    {
      "cell_type": "markdown",
      "source": [
        "Train Neural Network"
      ],
      "metadata": {
        "id": "9wSmnjXO1rA-"
      }
    },
    {
      "cell_type": "code",
      "source": [
        " model.compile(loss=\"MSE\", optimizer=\"adam\")"
      ],
      "metadata": {
        "id": "dxMN3Ixa1roY"
      },
      "execution_count": 8,
      "outputs": []
    },
    {
      "cell_type": "code",
      "source": [
        " model.fit(X, y, epochs=100)"
      ],
      "metadata": {
        "colab": {
          "base_uri": "https://localhost:8080/"
        },
        "id": "0Z-QS65H1tv7",
        "outputId": "711c7731-8142-4015-bc9d-dd88b31b6f3e"
      },
      "execution_count": 9,
      "outputs": [
        {
          "output_type": "stream",
          "name": "stdout",
          "text": [
            "Epoch 1/100\n",
            "4/4 [==============================] - 1s 8ms/step - loss: 1.4451\n",
            "Epoch 2/100\n",
            "4/4 [==============================] - 0s 11ms/step - loss: 1.4306\n",
            "Epoch 3/100\n",
            "4/4 [==============================] - 0s 5ms/step - loss: 1.4163\n",
            "Epoch 4/100\n",
            "4/4 [==============================] - 0s 12ms/step - loss: 1.4019\n",
            "Epoch 5/100\n",
            "4/4 [==============================] - 0s 11ms/step - loss: 1.3879\n",
            "Epoch 6/100\n",
            "4/4 [==============================] - 0s 6ms/step - loss: 1.3741\n",
            "Epoch 7/100\n",
            "4/4 [==============================] - 0s 10ms/step - loss: 1.3602\n",
            "Epoch 8/100\n",
            "4/4 [==============================] - 0s 13ms/step - loss: 1.3466\n",
            "Epoch 9/100\n",
            "4/4 [==============================] - 0s 9ms/step - loss: 1.3331\n",
            "Epoch 10/100\n",
            "4/4 [==============================] - 0s 13ms/step - loss: 1.3198\n",
            "Epoch 11/100\n",
            "4/4 [==============================] - 0s 7ms/step - loss: 1.3069\n",
            "Epoch 12/100\n",
            "4/4 [==============================] - 0s 5ms/step - loss: 1.2940\n",
            "Epoch 13/100\n",
            "4/4 [==============================] - 0s 4ms/step - loss: 1.2814\n",
            "Epoch 14/100\n",
            "4/4 [==============================] - 0s 4ms/step - loss: 1.2688\n",
            "Epoch 15/100\n",
            "4/4 [==============================] - 0s 6ms/step - loss: 1.2564\n",
            "Epoch 16/100\n",
            "4/4 [==============================] - 0s 4ms/step - loss: 1.2441\n",
            "Epoch 17/100\n",
            "4/4 [==============================] - 0s 4ms/step - loss: 1.2319\n",
            "Epoch 18/100\n",
            "4/4 [==============================] - 0s 4ms/step - loss: 1.2200\n",
            "Epoch 19/100\n",
            "4/4 [==============================] - 0s 4ms/step - loss: 1.2080\n",
            "Epoch 20/100\n",
            "4/4 [==============================] - 0s 4ms/step - loss: 1.1963\n",
            "Epoch 21/100\n",
            "4/4 [==============================] - 0s 5ms/step - loss: 1.1848\n",
            "Epoch 22/100\n",
            "4/4 [==============================] - 0s 3ms/step - loss: 1.1734\n",
            "Epoch 23/100\n",
            "4/4 [==============================] - 0s 4ms/step - loss: 1.1623\n",
            "Epoch 24/100\n",
            "4/4 [==============================] - 0s 4ms/step - loss: 1.1511\n",
            "Epoch 25/100\n",
            "4/4 [==============================] - 0s 4ms/step - loss: 1.1403\n",
            "Epoch 26/100\n",
            "4/4 [==============================] - 0s 4ms/step - loss: 1.1296\n",
            "Epoch 27/100\n",
            "4/4 [==============================] - 0s 4ms/step - loss: 1.1191\n",
            "Epoch 28/100\n",
            "4/4 [==============================] - 0s 4ms/step - loss: 1.1086\n",
            "Epoch 29/100\n",
            "4/4 [==============================] - 0s 4ms/step - loss: 1.0984\n",
            "Epoch 30/100\n",
            "4/4 [==============================] - 0s 4ms/step - loss: 1.0881\n",
            "Epoch 31/100\n",
            "4/4 [==============================] - 0s 4ms/step - loss: 1.0782\n",
            "Epoch 32/100\n",
            "4/4 [==============================] - 0s 6ms/step - loss: 1.0682\n",
            "Epoch 33/100\n",
            "4/4 [==============================] - 0s 4ms/step - loss: 1.0583\n",
            "Epoch 34/100\n",
            "4/4 [==============================] - 0s 4ms/step - loss: 1.0485\n",
            "Epoch 35/100\n",
            "4/4 [==============================] - 0s 4ms/step - loss: 1.0387\n",
            "Epoch 36/100\n",
            "4/4 [==============================] - 0s 4ms/step - loss: 1.0290\n",
            "Epoch 37/100\n",
            "4/4 [==============================] - 0s 4ms/step - loss: 1.0195\n",
            "Epoch 38/100\n",
            "4/4 [==============================] - 0s 6ms/step - loss: 1.0099\n",
            "Epoch 39/100\n",
            "4/4 [==============================] - 0s 5ms/step - loss: 1.0004\n",
            "Epoch 40/100\n",
            "4/4 [==============================] - 0s 4ms/step - loss: 0.9913\n",
            "Epoch 41/100\n",
            "4/4 [==============================] - 0s 5ms/step - loss: 0.9822\n",
            "Epoch 42/100\n",
            "4/4 [==============================] - 0s 5ms/step - loss: 0.9732\n",
            "Epoch 43/100\n",
            "4/4 [==============================] - 0s 4ms/step - loss: 0.9645\n",
            "Epoch 44/100\n",
            "4/4 [==============================] - 0s 6ms/step - loss: 0.9556\n",
            "Epoch 45/100\n",
            "4/4 [==============================] - 0s 4ms/step - loss: 0.9471\n",
            "Epoch 46/100\n",
            "4/4 [==============================] - 0s 3ms/step - loss: 0.9386\n",
            "Epoch 47/100\n",
            "4/4 [==============================] - 0s 3ms/step - loss: 0.9304\n",
            "Epoch 48/100\n",
            "4/4 [==============================] - 0s 3ms/step - loss: 0.9221\n",
            "Epoch 49/100\n",
            "4/4 [==============================] - 0s 4ms/step - loss: 0.9139\n",
            "Epoch 50/100\n",
            "4/4 [==============================] - 0s 3ms/step - loss: 0.9056\n",
            "Epoch 51/100\n",
            "4/4 [==============================] - 0s 3ms/step - loss: 0.8975\n",
            "Epoch 52/100\n",
            "4/4 [==============================] - 0s 3ms/step - loss: 0.8894\n",
            "Epoch 53/100\n",
            "4/4 [==============================] - 0s 3ms/step - loss: 0.8816\n",
            "Epoch 54/100\n",
            "4/4 [==============================] - 0s 5ms/step - loss: 0.8737\n",
            "Epoch 55/100\n",
            "4/4 [==============================] - 0s 3ms/step - loss: 0.8661\n",
            "Epoch 56/100\n",
            "4/4 [==============================] - 0s 4ms/step - loss: 0.8584\n",
            "Epoch 57/100\n",
            "4/4 [==============================] - 0s 3ms/step - loss: 0.8508\n",
            "Epoch 58/100\n",
            "4/4 [==============================] - 0s 3ms/step - loss: 0.8432\n",
            "Epoch 59/100\n",
            "4/4 [==============================] - 0s 4ms/step - loss: 0.8358\n",
            "Epoch 60/100\n",
            "4/4 [==============================] - 0s 3ms/step - loss: 0.8284\n",
            "Epoch 61/100\n",
            "4/4 [==============================] - 0s 3ms/step - loss: 0.8210\n",
            "Epoch 62/100\n",
            "4/4 [==============================] - 0s 4ms/step - loss: 0.8136\n",
            "Epoch 63/100\n",
            "4/4 [==============================] - 0s 4ms/step - loss: 0.8065\n",
            "Epoch 64/100\n",
            "4/4 [==============================] - 0s 4ms/step - loss: 0.7991\n",
            "Epoch 65/100\n",
            "4/4 [==============================] - 0s 4ms/step - loss: 0.7922\n",
            "Epoch 66/100\n",
            "4/4 [==============================] - 0s 4ms/step - loss: 0.7853\n",
            "Epoch 67/100\n",
            "4/4 [==============================] - 0s 4ms/step - loss: 0.7784\n",
            "Epoch 68/100\n",
            "4/4 [==============================] - 0s 4ms/step - loss: 0.7718\n",
            "Epoch 69/100\n",
            "4/4 [==============================] - 0s 4ms/step - loss: 0.7652\n",
            "Epoch 70/100\n",
            "4/4 [==============================] - 0s 4ms/step - loss: 0.7587\n",
            "Epoch 71/100\n",
            "4/4 [==============================] - 0s 3ms/step - loss: 0.7520\n",
            "Epoch 72/100\n",
            "4/4 [==============================] - 0s 5ms/step - loss: 0.7456\n",
            "Epoch 73/100\n",
            "4/4 [==============================] - 0s 4ms/step - loss: 0.7390\n",
            "Epoch 74/100\n",
            "4/4 [==============================] - 0s 3ms/step - loss: 0.7326\n",
            "Epoch 75/100\n",
            "4/4 [==============================] - 0s 4ms/step - loss: 0.7264\n",
            "Epoch 76/100\n",
            "4/4 [==============================] - 0s 4ms/step - loss: 0.7201\n",
            "Epoch 77/100\n",
            "4/4 [==============================] - 0s 4ms/step - loss: 0.7140\n",
            "Epoch 78/100\n",
            "4/4 [==============================] - 0s 3ms/step - loss: 0.7080\n",
            "Epoch 79/100\n",
            "4/4 [==============================] - 0s 4ms/step - loss: 0.7020\n",
            "Epoch 80/100\n",
            "4/4 [==============================] - 0s 4ms/step - loss: 0.6960\n",
            "Epoch 81/100\n",
            "4/4 [==============================] - 0s 4ms/step - loss: 0.6900\n",
            "Epoch 82/100\n",
            "4/4 [==============================] - 0s 3ms/step - loss: 0.6843\n",
            "Epoch 83/100\n",
            "4/4 [==============================] - 0s 3ms/step - loss: 0.6787\n",
            "Epoch 84/100\n",
            "4/4 [==============================] - 0s 4ms/step - loss: 0.6730\n",
            "Epoch 85/100\n",
            "4/4 [==============================] - 0s 5ms/step - loss: 0.6675\n",
            "Epoch 86/100\n",
            "4/4 [==============================] - 0s 3ms/step - loss: 0.6621\n",
            "Epoch 87/100\n",
            "4/4 [==============================] - 0s 4ms/step - loss: 0.6568\n",
            "Epoch 88/100\n",
            "4/4 [==============================] - 0s 3ms/step - loss: 0.6515\n",
            "Epoch 89/100\n",
            "4/4 [==============================] - 0s 3ms/step - loss: 0.6462\n",
            "Epoch 90/100\n",
            "4/4 [==============================] - 0s 4ms/step - loss: 0.6410\n",
            "Epoch 91/100\n",
            "4/4 [==============================] - 0s 4ms/step - loss: 0.6359\n",
            "Epoch 92/100\n",
            "4/4 [==============================] - 0s 5ms/step - loss: 0.6309\n",
            "Epoch 93/100\n",
            "4/4 [==============================] - 0s 4ms/step - loss: 0.6257\n",
            "Epoch 94/100\n",
            "4/4 [==============================] - 0s 3ms/step - loss: 0.6206\n",
            "Epoch 95/100\n",
            "4/4 [==============================] - 0s 4ms/step - loss: 0.6156\n",
            "Epoch 96/100\n",
            "4/4 [==============================] - 0s 4ms/step - loss: 0.6105\n",
            "Epoch 97/100\n",
            "4/4 [==============================] - 0s 4ms/step - loss: 0.6056\n",
            "Epoch 98/100\n",
            "4/4 [==============================] - 0s 3ms/step - loss: 0.6006\n",
            "Epoch 99/100\n",
            "4/4 [==============================] - 0s 3ms/step - loss: 0.5958\n",
            "Epoch 100/100\n",
            "4/4 [==============================] - 0s 3ms/step - loss: 0.5910\n"
          ]
        },
        {
          "output_type": "execute_result",
          "data": {
            "text/plain": [
              "<keras.callbacks.History at 0x7f23b0f92c50>"
            ]
          },
          "metadata": {},
          "execution_count": 9
        }
      ]
    },
    {
      "cell_type": "code",
      "source": [
        "(20.0 * l.weights[0][0]) + (3.0 * l.weights[0][1]) + ( l.weights[1])"
      ],
      "metadata": {
        "colab": {
          "base_uri": "https://localhost:8080/"
        },
        "id": "U9R5Adud9oPs",
        "outputId": "e06f1679-4c38-49e3-88aa-5181283099ee"
      },
      "execution_count": 19,
      "outputs": [
        {
          "output_type": "execute_result",
          "data": {
            "text/plain": [
              "<tf.Tensor: shape=(2,), dtype=float32, numpy=array([28.849564, 29.188782], dtype=float32)>"
            ]
          },
          "metadata": {},
          "execution_count": 19
        }
      ]
    },
    {
      "cell_type": "code",
      "source": [
        " model.weights"
      ],
      "metadata": {
        "colab": {
          "base_uri": "https://localhost:8080/"
        },
        "id": "4IL5kL6-1v2T",
        "outputId": "a72249cf-9068-4874-fa8a-16e4eda519a8"
      },
      "execution_count": 10,
      "outputs": [
        {
          "output_type": "execute_result",
          "data": {
            "text/plain": [
              "[<tf.Variable 'Layer1/kernel:0' shape=(2, 2) dtype=float32, numpy=\n",
              " array([[ 1.2373873,  1.4961845],\n",
              "        [ 1.2721008, -0.3609791]], dtype=float32)>,\n",
              " <tf.Variable 'Layer1/bias:0' shape=(2,) dtype=float32, numpy=array([0.28551468, 0.3480296 ], dtype=float32)>]"
            ]
          },
          "metadata": {},
          "execution_count": 10
        }
      ]
    },
    {
      "cell_type": "code",
      "source": [
        " l = model.layers[0]"
      ],
      "metadata": {
        "id": "dBNLXyXz10WX"
      },
      "execution_count": 11,
      "outputs": []
    },
    {
      "cell_type": "code",
      "source": [
        "l"
      ],
      "metadata": {
        "colab": {
          "base_uri": "https://localhost:8080/"
        },
        "id": "80hkGMCj_QWj",
        "outputId": "57a1eb7d-ee7b-4573-b281-34bbc65e5069"
      },
      "execution_count": 20,
      "outputs": [
        {
          "output_type": "execute_result",
          "data": {
            "text/plain": [
              "<keras.layers.core.dense.Dense at 0x7f23b1040910>"
            ]
          },
          "metadata": {},
          "execution_count": 20
        }
      ]
    },
    {
      "cell_type": "code",
      "source": [
        " l.weights"
      ],
      "metadata": {
        "colab": {
          "base_uri": "https://localhost:8080/"
        },
        "id": "ycFvLTMw143c",
        "outputId": "484644cc-a99d-40cc-ffa4-6a8a2fa93e85"
      },
      "execution_count": 12,
      "outputs": [
        {
          "output_type": "execute_result",
          "data": {
            "text/plain": [
              "[<tf.Variable 'Layer1/kernel:0' shape=(2, 2) dtype=float32, numpy=\n",
              " array([[ 1.2373873,  1.4961845],\n",
              "        [ 1.2721008, -0.3609791]], dtype=float32)>,\n",
              " <tf.Variable 'Layer1/bias:0' shape=(2,) dtype=float32, numpy=array([0.28551468, 0.3480296 ], dtype=float32)>]"
            ]
          },
          "metadata": {},
          "execution_count": 12
        }
      ]
    },
    {
      "cell_type": "code",
      "source": [
        "model.predict([[20.0, 3.0]])"
      ],
      "metadata": {
        "colab": {
          "base_uri": "https://localhost:8080/"
        },
        "id": "8TnHYmXO2DdF",
        "outputId": "810424fc-216f-408e-a92a-f6fd5e5169ce"
      },
      "execution_count": 13,
      "outputs": [
        {
          "output_type": "stream",
          "name": "stdout",
          "text": [
            "1/1 [==============================] - 0s 101ms/step\n"
          ]
        },
        {
          "output_type": "execute_result",
          "data": {
            "text/plain": [
              "array([[28.849564, 29.188782]], dtype=float32)"
            ]
          },
          "metadata": {},
          "execution_count": 13
        }
      ]
    },
    {
      "cell_type": "markdown",
      "source": [
        "Plot the model"
      ],
      "metadata": {
        "id": "XGA-IVw44IDH"
      }
    },
    {
      "cell_type": "code",
      "source": [
        "tf.keras.utils.plot_model(model)"
      ],
      "metadata": {
        "colab": {
          "base_uri": "https://localhost:8080/",
          "height": 174
        },
        "id": "Pp4UYduB2qSz",
        "outputId": "17d8661f-e6e6-4692-90e0-18e9ca876e6d"
      },
      "execution_count": 18,
      "outputs": [
        {
          "output_type": "execute_result",
          "data": {
            "image/png": "[encoded data removed]",
            "text/plain": [
              "<IPython.core.display.Image object>"
            ]
          },
          "metadata": {},
          "execution_count": 18
        }
      ]
    },
    {
      "cell_type": "code",
      "source": [],
      "metadata": {
        "id": "6MQ8BU2y4QMJ"
      },
      "execution_count": null,
      "outputs": []
    }
  ]
}