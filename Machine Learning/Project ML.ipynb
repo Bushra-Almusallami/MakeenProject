{
 "cells": [
  {
   "cell_type": "markdown",
   "id": "910d326b",
   "metadata": {},
   "source": [
    "# Title: Prediction of Cyber Security Salaries in different jobs."
   ]
  },
  {
   "cell_type": "markdown",
   "id": "5b97df81",
   "metadata": {},
   "source": [
    "A collection of pay scale for the people working in the cyber security domain."
   ]
  },
  {
   "cell_type": "markdown",
   "id": "2d913175",
   "metadata": {},
   "source": [
    "# Case Study"
   ]
  },
  {
   "cell_type": "markdown",
   "id": "c2a993b4",
   "metadata": {},
   "source": [
    "Study a model that predicts salary based on experiences."
   ]
  },
  {
   "cell_type": "markdown",
   "id": "a0a3fa3d",
   "metadata": {},
   "source": [
    "## Column Name, Description\n",
    "work_year: The number of years of work experience in cybersecurity.\n",
    "\n",
    "experience_level: The experience level or category of the cybersecurity professional, such as entry-level, mid-level, or senior-level.\n",
    "\n",
    "employment_type: The type of employment, such as full-time, part-time, contract, or freelance.\n",
    "\n",
    "job_title: The job title or position of the cybersecurity professional.\n",
    "\n",
    "salary_currency: The currency in which the salary is denominated.\n",
    "\n",
    "salary_in_usd: The salary amount converted to United States Dollars (USD) for standardization and comparison purposes.\n",
    "\n",
    "employee_residence: The country or region where the employee resides.\n",
    "\n",
    "remote_ratio: The proportion of remote work allowed in the cybersecurity position, represented as a decimal (e.g., 0.5 for 50%).\n",
    "\n",
    "company_location: The location or country where the employing company is located.\n",
    "\n",
    "company_size: The size or scale of the employing company, typically categorized as small, medium, or large."
   ]
  },
  {
   "cell_type": "markdown",
   "id": "d8839cb3",
   "metadata": {},
   "source": [
    "# Prepare Problem"
   ]
  },
  {
   "cell_type": "markdown",
   "id": "eebf2eb8",
   "metadata": {},
   "source": [
    "### a) Load libraries"
   ]
  },
  {
   "cell_type": "code",
   "execution_count": 2,
   "id": "dfc7e5e2",
   "metadata": {},
   "outputs": [],
   "source": [
    "# \n",
    "import numpy as np\n",
    "import pandas as pd\n",
    "\n",
    "# Visulization \n",
    "from matplotlib import pyplot\n",
    "\n",
    "# data modeling\n",
    "from sklearn.linear_model import LinearRegression\n",
    "from sklearn.linear_model import SGDRegressor\n",
    "from sklearn.linear_model import Lasso\n",
    "from sklearn.linear_model import ElasticNet\n",
    "from sklearn.tree import DecisionTreeRegressor\n",
    "from sklearn import tree\n",
    "from sklearn.neighbors import KNeighborsRegressor\n",
    "from sklearn.svm import SVR\n",
    "\n",
    "# pipeline setup\n",
    "from sklearn.compose import ColumnTransformer\n",
    "from sklearn.pipeline import Pipeline\n",
    "from sklearn.base import BaseEstimator, TransformerMixin\n",
    "\n",
    "# metrics \n",
    "from sklearn.metrics import mean_squared_error\n",
    "\n",
    "# model selection\n",
    "from sklearn.model_selection import train_test_split\n",
    "from sklearn.model_selection import cross_val_score\n",
    "from sklearn.model_selection import KFold\n",
    "\n",
    "# preprocessing\n",
    "from sklearn.preprocessing import MinMaxScaler\n",
    "from sklearn.preprocessing import StandardScaler\n",
    "from sklearn.preprocessing import PolynomialFeatures\n",
    "\n",
    "import datetime as dt\n",
    "import ipywidgets as widgets\n",
    "import matplotlib.pyplot as plt\n",
    "import plotly.express as px\n",
    "import seaborn as sns"
   ]
  },
  {
   "cell_type": "markdown",
   "id": "ea954e02",
   "metadata": {},
   "source": [
    "### b) Load Dataset"
   ]
  },
  {
   "cell_type": "code",
   "execution_count": 3,
   "id": "65c79220",
   "metadata": {},
   "outputs": [
    {
     "data": {
      "text/html": [
       "<div>\n",
       "<style scoped>\n",
       "    .dataframe tbody tr th:only-of-type {\n",
       "        vertical-align: middle;\n",
       "    }\n",
       "\n",
       "    .dataframe tbody tr th {\n",
       "        vertical-align: top;\n",
       "    }\n",
       "\n",
       "    .dataframe thead th {\n",
       "        text-align: right;\n",
       "    }\n",
       "</style>\n",
       "<table border=\"1\" class=\"dataframe\">\n",
       "  <thead>\n",
       "    <tr style=\"text-align: right;\">\n",
       "      <th></th>\n",
       "      <th>work_year</th>\n",
       "      <th>experience_level</th>\n",
       "      <th>employment_type</th>\n",
       "      <th>job_title</th>\n",
       "      <th>salary</th>\n",
       "      <th>salary_currency</th>\n",
       "      <th>salary_in_usd</th>\n",
       "      <th>employee_residence</th>\n",
       "      <th>remote_ratio</th>\n",
       "      <th>company_location</th>\n",
       "      <th>company_size</th>\n",
       "    </tr>\n",
       "  </thead>\n",
       "  <tbody>\n",
       "    <tr>\n",
       "      <th>0</th>\n",
       "      <td>2022</td>\n",
       "      <td>EN</td>\n",
       "      <td>FT</td>\n",
       "      <td>Cyber Program Manager</td>\n",
       "      <td>63000</td>\n",
       "      <td>USD</td>\n",
       "      <td>63000</td>\n",
       "      <td>US</td>\n",
       "      <td>50</td>\n",
       "      <td>US</td>\n",
       "      <td>S</td>\n",
       "    </tr>\n",
       "    <tr>\n",
       "      <th>1</th>\n",
       "      <td>2022</td>\n",
       "      <td>MI</td>\n",
       "      <td>FT</td>\n",
       "      <td>Security Analyst</td>\n",
       "      <td>95000</td>\n",
       "      <td>USD</td>\n",
       "      <td>95000</td>\n",
       "      <td>US</td>\n",
       "      <td>0</td>\n",
       "      <td>US</td>\n",
       "      <td>M</td>\n",
       "    </tr>\n",
       "    <tr>\n",
       "      <th>2</th>\n",
       "      <td>2022</td>\n",
       "      <td>MI</td>\n",
       "      <td>FT</td>\n",
       "      <td>Security Analyst</td>\n",
       "      <td>70000</td>\n",
       "      <td>USD</td>\n",
       "      <td>70000</td>\n",
       "      <td>US</td>\n",
       "      <td>0</td>\n",
       "      <td>US</td>\n",
       "      <td>M</td>\n",
       "    </tr>\n",
       "    <tr>\n",
       "      <th>3</th>\n",
       "      <td>2022</td>\n",
       "      <td>MI</td>\n",
       "      <td>FT</td>\n",
       "      <td>IT Security Analyst</td>\n",
       "      <td>250000</td>\n",
       "      <td>BRL</td>\n",
       "      <td>48853</td>\n",
       "      <td>BR</td>\n",
       "      <td>50</td>\n",
       "      <td>BR</td>\n",
       "      <td>L</td>\n",
       "    </tr>\n",
       "    <tr>\n",
       "      <th>4</th>\n",
       "      <td>2022</td>\n",
       "      <td>EN</td>\n",
       "      <td>CT</td>\n",
       "      <td>Cyber Security Analyst</td>\n",
       "      <td>120000</td>\n",
       "      <td>USD</td>\n",
       "      <td>120000</td>\n",
       "      <td>BW</td>\n",
       "      <td>100</td>\n",
       "      <td>BW</td>\n",
       "      <td>S</td>\n",
       "    </tr>\n",
       "    <tr>\n",
       "      <th>...</th>\n",
       "      <td>...</td>\n",
       "      <td>...</td>\n",
       "      <td>...</td>\n",
       "      <td>...</td>\n",
       "      <td>...</td>\n",
       "      <td>...</td>\n",
       "      <td>...</td>\n",
       "      <td>...</td>\n",
       "      <td>...</td>\n",
       "      <td>...</td>\n",
       "      <td>...</td>\n",
       "    </tr>\n",
       "    <tr>\n",
       "      <th>1242</th>\n",
       "      <td>2020</td>\n",
       "      <td>MI</td>\n",
       "      <td>FT</td>\n",
       "      <td>Cyber Security Analyst</td>\n",
       "      <td>140000</td>\n",
       "      <td>AUD</td>\n",
       "      <td>96422</td>\n",
       "      <td>AU</td>\n",
       "      <td>50</td>\n",
       "      <td>AU</td>\n",
       "      <td>M</td>\n",
       "    </tr>\n",
       "    <tr>\n",
       "      <th>1243</th>\n",
       "      <td>2021</td>\n",
       "      <td>SE</td>\n",
       "      <td>FT</td>\n",
       "      <td>Information Security Manager</td>\n",
       "      <td>60000</td>\n",
       "      <td>GBP</td>\n",
       "      <td>82528</td>\n",
       "      <td>GB</td>\n",
       "      <td>50</td>\n",
       "      <td>GB</td>\n",
       "      <td>L</td>\n",
       "    </tr>\n",
       "    <tr>\n",
       "      <th>1244</th>\n",
       "      <td>2021</td>\n",
       "      <td>SE</td>\n",
       "      <td>FT</td>\n",
       "      <td>Penetration Testing Engineer</td>\n",
       "      <td>126000</td>\n",
       "      <td>USD</td>\n",
       "      <td>126000</td>\n",
       "      <td>US</td>\n",
       "      <td>100</td>\n",
       "      <td>US</td>\n",
       "      <td>L</td>\n",
       "    </tr>\n",
       "    <tr>\n",
       "      <th>1245</th>\n",
       "      <td>2021</td>\n",
       "      <td>MI</td>\n",
       "      <td>FT</td>\n",
       "      <td>Information Security Analyst</td>\n",
       "      <td>42000</td>\n",
       "      <td>GBP</td>\n",
       "      <td>57769</td>\n",
       "      <td>GB</td>\n",
       "      <td>100</td>\n",
       "      <td>GB</td>\n",
       "      <td>L</td>\n",
       "    </tr>\n",
       "    <tr>\n",
       "      <th>1246</th>\n",
       "      <td>2021</td>\n",
       "      <td>MI</td>\n",
       "      <td>FT</td>\n",
       "      <td>Threat Intelligence Analyst</td>\n",
       "      <td>66310</td>\n",
       "      <td>USD</td>\n",
       "      <td>66310</td>\n",
       "      <td>US</td>\n",
       "      <td>0</td>\n",
       "      <td>US</td>\n",
       "      <td>L</td>\n",
       "    </tr>\n",
       "  </tbody>\n",
       "</table>\n",
       "<p>1247 rows × 11 columns</p>\n",
       "</div>"
      ],
      "text/plain": [
       "      work_year experience_level employment_type  \\\n",
       "0          2022               EN              FT   \n",
       "1          2022               MI              FT   \n",
       "2          2022               MI              FT   \n",
       "3          2022               MI              FT   \n",
       "4          2022               EN              CT   \n",
       "...         ...              ...             ...   \n",
       "1242       2020               MI              FT   \n",
       "1243       2021               SE              FT   \n",
       "1244       2021               SE              FT   \n",
       "1245       2021               MI              FT   \n",
       "1246       2021               MI              FT   \n",
       "\n",
       "                         job_title  salary salary_currency  salary_in_usd  \\\n",
       "0            Cyber Program Manager   63000             USD          63000   \n",
       "1                 Security Analyst   95000             USD          95000   \n",
       "2                 Security Analyst   70000             USD          70000   \n",
       "3              IT Security Analyst  250000             BRL          48853   \n",
       "4           Cyber Security Analyst  120000             USD         120000   \n",
       "...                            ...     ...             ...            ...   \n",
       "1242        Cyber Security Analyst  140000             AUD          96422   \n",
       "1243  Information Security Manager   60000             GBP          82528   \n",
       "1244  Penetration Testing Engineer  126000             USD         126000   \n",
       "1245  Information Security Analyst   42000             GBP          57769   \n",
       "1246   Threat Intelligence Analyst   66310             USD          66310   \n",
       "\n",
       "     employee_residence  remote_ratio company_location company_size  \n",
       "0                    US            50               US            S  \n",
       "1                    US             0               US            M  \n",
       "2                    US             0               US            M  \n",
       "3                    BR            50               BR            L  \n",
       "4                    BW           100               BW            S  \n",
       "...                 ...           ...              ...          ...  \n",
       "1242                 AU            50               AU            M  \n",
       "1243                 GB            50               GB            L  \n",
       "1244                 US           100               US            L  \n",
       "1245                 GB           100               GB            L  \n",
       "1246                 US             0               US            L  \n",
       "\n",
       "[1247 rows x 11 columns]"
      ]
     },
     "execution_count": 3,
     "metadata": {},
     "output_type": "execute_result"
    }
   ],
   "source": [
    "# import dataset\n",
    "data = pd.read_csv('salaries_cyber.csv')\n",
    "data"
   ]
  },
  {
   "cell_type": "markdown",
   "id": "1a749115",
   "metadata": {},
   "source": [
    "# 2. Summarize Data"
   ]
  },
  {
   "cell_type": "markdown",
   "id": "77514c16",
   "metadata": {},
   "source": [
    "### a) Descriptive statistics"
   ]
  },
  {
   "cell_type": "code",
   "execution_count": 527,
   "id": "488b093b",
   "metadata": {},
   "outputs": [
    {
     "data": {
      "text/html": [
       "<div>\n",
       "<style scoped>\n",
       "    .dataframe tbody tr th:only-of-type {\n",
       "        vertical-align: middle;\n",
       "    }\n",
       "\n",
       "    .dataframe tbody tr th {\n",
       "        vertical-align: top;\n",
       "    }\n",
       "\n",
       "    .dataframe thead th {\n",
       "        text-align: right;\n",
       "    }\n",
       "</style>\n",
       "<table border=\"1\" class=\"dataframe\">\n",
       "  <thead>\n",
       "    <tr style=\"text-align: right;\">\n",
       "      <th></th>\n",
       "      <th>work_year</th>\n",
       "      <th>salary</th>\n",
       "      <th>salary_in_usd</th>\n",
       "      <th>remote_ratio</th>\n",
       "    </tr>\n",
       "  </thead>\n",
       "  <tbody>\n",
       "    <tr>\n",
       "      <th>count</th>\n",
       "      <td>1247.000000</td>\n",
       "      <td>1.247000e+03</td>\n",
       "      <td>1247.000000</td>\n",
       "      <td>1247.000000</td>\n",
       "    </tr>\n",
       "    <tr>\n",
       "      <th>mean</th>\n",
       "      <td>2021.316760</td>\n",
       "      <td>5.608525e+05</td>\n",
       "      <td>120278.218925</td>\n",
       "      <td>71.491580</td>\n",
       "    </tr>\n",
       "    <tr>\n",
       "      <th>std</th>\n",
       "      <td>0.715501</td>\n",
       "      <td>1.415944e+07</td>\n",
       "      <td>70291.394942</td>\n",
       "      <td>39.346851</td>\n",
       "    </tr>\n",
       "    <tr>\n",
       "      <th>min</th>\n",
       "      <td>2020.000000</td>\n",
       "      <td>1.740000e+03</td>\n",
       "      <td>2000.000000</td>\n",
       "      <td>0.000000</td>\n",
       "    </tr>\n",
       "    <tr>\n",
       "      <th>25%</th>\n",
       "      <td>2021.000000</td>\n",
       "      <td>7.975450e+04</td>\n",
       "      <td>74594.500000</td>\n",
       "      <td>50.000000</td>\n",
       "    </tr>\n",
       "    <tr>\n",
       "      <th>50%</th>\n",
       "      <td>2021.000000</td>\n",
       "      <td>1.200000e+05</td>\n",
       "      <td>110000.000000</td>\n",
       "      <td>100.000000</td>\n",
       "    </tr>\n",
       "    <tr>\n",
       "      <th>75%</th>\n",
       "      <td>2022.000000</td>\n",
       "      <td>1.600800e+05</td>\n",
       "      <td>150000.000000</td>\n",
       "      <td>100.000000</td>\n",
       "    </tr>\n",
       "    <tr>\n",
       "      <th>max</th>\n",
       "      <td>2022.000000</td>\n",
       "      <td>5.000000e+08</td>\n",
       "      <td>910991.000000</td>\n",
       "      <td>100.000000</td>\n",
       "    </tr>\n",
       "  </tbody>\n",
       "</table>\n",
       "</div>"
      ],
      "text/plain": [
       "         work_year        salary  salary_in_usd  remote_ratio\n",
       "count  1247.000000  1.247000e+03    1247.000000   1247.000000\n",
       "mean   2021.316760  5.608525e+05  120278.218925     71.491580\n",
       "std       0.715501  1.415944e+07   70291.394942     39.346851\n",
       "min    2020.000000  1.740000e+03    2000.000000      0.000000\n",
       "25%    2021.000000  7.975450e+04   74594.500000     50.000000\n",
       "50%    2021.000000  1.200000e+05  110000.000000    100.000000\n",
       "75%    2022.000000  1.600800e+05  150000.000000    100.000000\n",
       "max    2022.000000  5.000000e+08  910991.000000    100.000000"
      ]
     },
     "execution_count": 527,
     "metadata": {},
     "output_type": "execute_result"
    }
   ],
   "source": [
    "# giving an overview of the data's central tendency, dispersion, and distribution. \n",
    "data.describe()"
   ]
  },
  {
   "cell_type": "code",
   "execution_count": 529,
   "id": "601a1c1a",
   "metadata": {},
   "outputs": [
    {
     "name": "stdout",
     "output_type": "stream",
     "text": [
      "<class 'pandas.core.frame.DataFrame'>\n",
      "RangeIndex: 1247 entries, 0 to 1246\n",
      "Data columns (total 11 columns):\n",
      " #   Column              Non-Null Count  Dtype \n",
      "---  ------              --------------  ----- \n",
      " 0   work_year           1247 non-null   int64 \n",
      " 1   experience_level    1247 non-null   object\n",
      " 2   employment_type     1247 non-null   object\n",
      " 3   job_title           1247 non-null   object\n",
      " 4   salary              1247 non-null   int64 \n",
      " 5   salary_currency     1247 non-null   object\n",
      " 6   salary_in_usd       1247 non-null   int64 \n",
      " 7   employee_residence  1247 non-null   object\n",
      " 8   remote_ratio        1247 non-null   int64 \n",
      " 9   company_location    1247 non-null   object\n",
      " 10  company_size        1247 non-null   object\n",
      "dtypes: int64(4), object(7)\n",
      "memory usage: 107.3+ KB\n"
     ]
    }
   ],
   "source": [
    "data.info()"
   ]
  },
  {
   "cell_type": "code",
   "execution_count": 530,
   "id": "d504bfef",
   "metadata": {},
   "outputs": [
    {
     "data": {
      "text/plain": [
       "(1247, 11)"
      ]
     },
     "execution_count": 530,
     "metadata": {},
     "output_type": "execute_result"
    }
   ],
   "source": [
    "#Examining the shape of the dataset\n",
    "data.shape"
   ]
  },
  {
   "cell_type": "code",
   "execution_count": 534,
   "id": "55e84e57",
   "metadata": {},
   "outputs": [
    {
     "data": {
      "text/plain": [
       "work_year              int64\n",
       "experience_level      object\n",
       "employment_type       object\n",
       "job_title             object\n",
       "salary                 int64\n",
       "salary_currency       object\n",
       "salary_in_usd          int64\n",
       "employee_residence    object\n",
       "remote_ratio           int64\n",
       "company_location      object\n",
       "company_size          object\n",
       "dtype: object"
      ]
     },
     "execution_count": 534,
     "metadata": {},
     "output_type": "execute_result"
    }
   ],
   "source": [
    "#Check for data types \n",
    "data.dtypes"
   ]
  },
  {
   "cell_type": "markdown",
   "id": "62622f51",
   "metadata": {},
   "source": [
    "### b) Data visualizations"
   ]
  },
  {
   "cell_type": "code",
   "execution_count": 496,
   "id": "b466f2a3",
   "metadata": {},
   "outputs": [
    {
     "data": {
      "text/plain": [
       "'temp-plot.html'"
      ]
     },
     "execution_count": 496,
     "metadata": {},
     "output_type": "execute_result"
    }
   ],
   "source": [
    "import plotly.graph_objects as go\n",
    "import plotly.offline as opy\n",
    "\n",
    "# Calculate the rounded average salary by job title and select the top 10 highest paid roles in ascending order\n",
    "avg_salary_by_job_title = data.groupby(\"job_title\")[\"salary_in_usd\"].mean().nlargest(10).sort_values(ascending=True)\n",
    "\n",
    "# Round up the average salary amounts\n",
    "avg_salary_by_job_title_rounded = np.ceil(avg_salary_by_job_title)\n",
    "\n",
    "# Add labels to the bars\n",
    "fig = go.Figure(\n",
    "    data=[\n",
    "        go.Bar(\n",
    "            x=avg_salary_by_job_title_rounded,\n",
    "            y=avg_salary_by_job_title_rounded.index,\n",
    "            orientation='h',\n",
    "            base=0,\n",
    "            marker=dict(color=avg_salary_by_job_title_rounded),\n",
    "            text=avg_salary_by_job_title_rounded,\n",
    "            textposition='auto',\n",
    "        )\n",
    "    ]\n",
    ")\n",
    "\n",
    "# Set the title of the figure\n",
    "fig.update_layout(title=\"Top 10 Highest Paid Job Titles\")\n",
    "\n",
    "# Set the labels for the x-axis and y-axis\n",
    "fig.update_xaxes(title=\"Average Salary (USD)\")\n",
    "fig.update_yaxes(title=\"Job Title\")\n",
    "\n",
    "# Show the figure\n",
    "opy.plot(fig)\n"
   ]
  },
  {
   "cell_type": "code",
   "execution_count": 498,
   "id": "76e3944b",
   "metadata": {},
   "outputs": [
    {
     "data": {
      "text/plain": [
       "'temp-plot.html'"
      ]
     },
     "execution_count": 498,
     "metadata": {},
     "output_type": "execute_result"
    }
   ],
   "source": [
    "# Calculate the average salary by job title and select the bottom 10 least paid roles in descending order\n",
    "avg_salary_by_job_title = data.groupby('job_title')['salary_in_usd'].mean().tail(10).sort_values(ascending=False)\n",
    "\n",
    "# Round up the average salary amounts\n",
    "avg_salary_by_job_title_rounded = np.ceil(avg_salary_by_job_title)\n",
    "\n",
    "# Add labels to the bars\n",
    "fig = go.Figure(\n",
    "    data=[\n",
    "        go.Bar(\n",
    "            x=avg_salary_by_job_title_rounded,\n",
    "            y=avg_salary_by_job_title_rounded.index,\n",
    "            orientation='h',\n",
    "            base=0,\n",
    "            marker=dict(color=avg_salary_by_job_title_rounded),\n",
    "            text=avg_salary_by_job_title_rounded,\n",
    "            textposition='auto',\n",
    "        )\n",
    "    ]\n",
    ")\n",
    "\n",
    "# Set the title of the figure\n",
    "fig.update_layout(title=\"Bottom 10 Lowest Paid Job Titles\")\n",
    "\n",
    "# Set the labels for the x-axis and y-axis\n",
    "fig.update_xaxes(title=\"Average Salary (USD)\")\n",
    "fig.update_yaxes(title=\"Job Title\")\n",
    "\n",
    "# Show the figure\n",
    "opy.plot(fig)\n"
   ]
  },
  {
   "cell_type": "code",
   "execution_count": 499,
   "id": "0553749d",
   "metadata": {},
   "outputs": [
    {
     "data": {
      "text/plain": [
       "'temp-plot.html'"
      ]
     },
     "execution_count": 499,
     "metadata": {},
     "output_type": "execute_result"
    }
   ],
   "source": [
    "import plotly.graph_objects as go\n",
    "import plotly.offline as opy\n",
    "\n",
    "# Calculate the average salary by experience level\n",
    "avg_salary_by_experience_level = data.groupby('experience_level')['salary_in_usd'].mean()\n",
    "\n",
    "# Create a box plot\n",
    "fig = go.Figure(\n",
    "    data=[\n",
    "        go.Box(\n",
    "            x=avg_salary_by_experience_level.index,\n",
    "            y=avg_salary_by_experience_level,\n",
    "            boxpoints='all',\n",
    "            jitter=0.2,\n",
    "            whiskerwidth=0.2,\n",
    "            fillcolor='#999999',\n",
    "            marker={\n",
    "                'color': 'black',\n",
    "                'size': 5,\n",
    "                'symbol': 'circle',\n",
    "            },\n",
    "        )\n",
    "    ]\n",
    ")\n",
    "\n",
    "# Set the title of the figure\n",
    "fig.update_layout(title=\"Salary Distribution by Experience Level\")\n",
    "\n",
    "# Set the labels for the x-axis and y-axis\n",
    "fig.update_xaxes(title=\"Experience Level\")\n",
    "fig.update_yaxes(title=\"Average Salary (USD)\")\n",
    "\n",
    "# Show the figure\n",
    "opy.plot(fig)\n"
   ]
  },
  {
   "cell_type": "markdown",
   "id": "29183e39",
   "metadata": {},
   "source": [
    "### Number of Jobs by Experience Level"
   ]
  },
  {
   "cell_type": "code",
   "execution_count": 1158,
   "id": "b6cdd35f",
   "metadata": {},
   "outputs": [
    {
     "data": {
      "image/png": "[encoded data removed]",
      "text/plain": [
       "<Figure size 640x480 with 1 Axes>"
      ]
     },
     "metadata": {},
     "output_type": "display_data"
    }
   ],
   "source": [
    "plt.xticks([])\n",
    "num_types = data.groupby(by='experience_level').size()\n",
    "bargraph = num_types.sort_values().plot.bar(ylabel = 'number of jobs', title = 'Number of jobs by Experience Level', color=['red','blue','green', 'purple'],rot=0)"
   ]
  },
  {
   "cell_type": "markdown",
   "id": "e729e1bf",
   "metadata": {},
   "source": [
    "### Average Salary Based on Experience"
   ]
  },
  {
   "cell_type": "code",
   "execution_count": 1157,
   "id": "6faf970c",
   "metadata": {},
   "outputs": [
    {
     "data": {
      "image/png": "[encoded data removed]",
      "text/plain": [
       "<Figure size 640x480 with 1 Axes>"
      ]
     },
     "metadata": {},
     "output_type": "display_data"
    }
   ],
   "source": [
    "num_types = data.groupby(by='experience_level').salary_in_usd.mean()\n",
    "barplot = num_types.sort_values().plot.bar(ylabel = 'Salary', title = 'Average Salary Based on Experience', color=['blue','green','purple','red'],rot=0)"
   ]
  },
  {
   "cell_type": "code",
   "execution_count": 1166,
   "id": "f0445abd",
   "metadata": {},
   "outputs": [
    {
     "data": {
      "text/plain": [
       "<Axes: xlabel='employment_type'>"
      ]
     },
     "execution_count": 1166,
     "metadata": {},
     "output_type": "execute_result"
    },
    {
     "data": {
      "image/png": "[encoded data removed]",
      "text/plain": [
       "<Figure size 640x480 with 1 Axes>"
      ]
     },
     "metadata": {},
     "output_type": "display_data"
    }
   ],
   "source": [
    "import pandas as pd\n",
    "import numpy as np\n",
    "\n",
    "data = pd.DataFrame({\n",
    "    \"employment_type\": [\"Part-Time\", \"Full-Time\", \"Contract\", \"Freelance\"],\n",
    "    \"salary_in_usd\": [50000, 100000, 200000, 300000]\n",
    "})\n",
    "\n",
    "mean_salary = data.groupby(\"employment_type\")[\"salary_in_usd\"].mean()\n",
    "mean_salary_np = mean_salary.to_numpy()\n",
    "\n",
    "sns.barplot(y=mean_salary_np, x=\"employment_type\", data=data, palette=\"Set3\")\n"
   ]
  },
  {
   "cell_type": "markdown",
   "id": "b70c6192",
   "metadata": {},
   "source": [
    "This bar plot shows the distribution of mean salaries for different employment types. "
   ]
  },
  {
   "cell_type": "code",
   "execution_count": 1165,
   "id": "1cbc2b98",
   "metadata": {},
   "outputs": [
    {
     "data": {
      "text/plain": [
       "<Axes: xlabel='experience_level'>"
      ]
     },
     "execution_count": 1165,
     "metadata": {},
     "output_type": "execute_result"
    },
    {
     "data": {
      "image/png": "[encoded data removed]",
      "text/plain": [
       "<Figure size 640x480 with 1 Axes>"
      ]
     },
     "metadata": {},
     "output_type": "display_data"
    }
   ],
   "source": [
    "import pandas as pd\n",
    "import numpy as np\n",
    "import seaborn as sns\n",
    "\n",
    "data = pd.DataFrame({\n",
    "    \"experience_level\": [\"Entry-Level\", \"Mid-Level\", \"Senior\"],\n",
    "    \"salary_in_usd\": [50000, 100000, 200000]\n",
    "})\n",
    "\n",
    "mean_salary = data.groupby(\"experience_level\")[\"salary_in_usd\"].mean()\n",
    "mean_salary_np = mean_salary.to_numpy()\n",
    "\n",
    "sns.barplot(y=mean_salary_np, x=\"experience_level\", data=data, palette=\"Set3\")\n"
   ]
  },
  {
   "cell_type": "code",
   "execution_count": 521,
   "id": "8f8efe71",
   "metadata": {},
   "outputs": [
    {
     "data": {
      "text/html": [
       "<div>\n",
       "<style scoped>\n",
       "    .dataframe tbody tr th:only-of-type {\n",
       "        vertical-align: middle;\n",
       "    }\n",
       "\n",
       "    .dataframe tbody tr th {\n",
       "        vertical-align: top;\n",
       "    }\n",
       "\n",
       "    .dataframe thead th {\n",
       "        text-align: right;\n",
       "    }\n",
       "</style>\n",
       "<table border=\"1\" class=\"dataframe\">\n",
       "  <thead>\n",
       "    <tr style=\"text-align: right;\">\n",
       "      <th></th>\n",
       "      <th>work_year</th>\n",
       "      <th>experience_level</th>\n",
       "      <th>employment_type</th>\n",
       "      <th>job_title</th>\n",
       "      <th>salary_in_usd</th>\n",
       "      <th>employee_residence</th>\n",
       "      <th>remote_ratio</th>\n",
       "      <th>company_location</th>\n",
       "      <th>company_size</th>\n",
       "    </tr>\n",
       "  </thead>\n",
       "  <tbody>\n",
       "    <tr>\n",
       "      <th>work_year</th>\n",
       "      <td>1.000000</td>\n",
       "      <td>0.095830</td>\n",
       "      <td>-0.003291</td>\n",
       "      <td>0.259548</td>\n",
       "      <td>0.184246</td>\n",
       "      <td>0.084868</td>\n",
       "      <td>0.135720</td>\n",
       "      <td>0.101912</td>\n",
       "      <td>0.179436</td>\n",
       "    </tr>\n",
       "    <tr>\n",
       "      <th>experience_level</th>\n",
       "      <td>0.095830</td>\n",
       "      <td>1.000000</td>\n",
       "      <td>-0.001406</td>\n",
       "      <td>0.229522</td>\n",
       "      <td>0.333232</td>\n",
       "      <td>0.110785</td>\n",
       "      <td>0.112433</td>\n",
       "      <td>0.105919</td>\n",
       "      <td>0.011989</td>\n",
       "    </tr>\n",
       "    <tr>\n",
       "      <th>employment_type</th>\n",
       "      <td>-0.003291</td>\n",
       "      <td>-0.001406</td>\n",
       "      <td>1.000000</td>\n",
       "      <td>0.079657</td>\n",
       "      <td>-0.004873</td>\n",
       "      <td>0.041032</td>\n",
       "      <td>-0.003370</td>\n",
       "      <td>0.049794</td>\n",
       "      <td>-0.026572</td>\n",
       "    </tr>\n",
       "    <tr>\n",
       "      <th>job_title</th>\n",
       "      <td>0.259548</td>\n",
       "      <td>0.229522</td>\n",
       "      <td>0.079657</td>\n",
       "      <td>1.000000</td>\n",
       "      <td>0.138915</td>\n",
       "      <td>0.102947</td>\n",
       "      <td>0.091686</td>\n",
       "      <td>0.114465</td>\n",
       "      <td>0.217610</td>\n",
       "    </tr>\n",
       "    <tr>\n",
       "      <th>salary_in_usd</th>\n",
       "      <td>0.184246</td>\n",
       "      <td>0.333232</td>\n",
       "      <td>-0.004873</td>\n",
       "      <td>0.138915</td>\n",
       "      <td>1.000000</td>\n",
       "      <td>0.261688</td>\n",
       "      <td>0.174523</td>\n",
       "      <td>0.248111</td>\n",
       "      <td>-0.069485</td>\n",
       "    </tr>\n",
       "    <tr>\n",
       "      <th>employee_residence</th>\n",
       "      <td>0.084868</td>\n",
       "      <td>0.110785</td>\n",
       "      <td>0.041032</td>\n",
       "      <td>0.102947</td>\n",
       "      <td>0.261688</td>\n",
       "      <td>1.000000</td>\n",
       "      <td>0.093911</td>\n",
       "      <td>0.798427</td>\n",
       "      <td>-0.045515</td>\n",
       "    </tr>\n",
       "    <tr>\n",
       "      <th>remote_ratio</th>\n",
       "      <td>0.135720</td>\n",
       "      <td>0.112433</td>\n",
       "      <td>-0.003370</td>\n",
       "      <td>0.091686</td>\n",
       "      <td>0.174523</td>\n",
       "      <td>0.093911</td>\n",
       "      <td>1.000000</td>\n",
       "      <td>0.088345</td>\n",
       "      <td>-0.030295</td>\n",
       "    </tr>\n",
       "    <tr>\n",
       "      <th>company_location</th>\n",
       "      <td>0.101912</td>\n",
       "      <td>0.105919</td>\n",
       "      <td>0.049794</td>\n",
       "      <td>0.114465</td>\n",
       "      <td>0.248111</td>\n",
       "      <td>0.798427</td>\n",
       "      <td>0.088345</td>\n",
       "      <td>1.000000</td>\n",
       "      <td>-0.069852</td>\n",
       "    </tr>\n",
       "    <tr>\n",
       "      <th>company_size</th>\n",
       "      <td>0.179436</td>\n",
       "      <td>0.011989</td>\n",
       "      <td>-0.026572</td>\n",
       "      <td>0.217610</td>\n",
       "      <td>-0.069485</td>\n",
       "      <td>-0.045515</td>\n",
       "      <td>-0.030295</td>\n",
       "      <td>-0.069852</td>\n",
       "      <td>1.000000</td>\n",
       "    </tr>\n",
       "  </tbody>\n",
       "</table>\n",
       "</div>"
      ],
      "text/plain": [
       "                    work_year  experience_level  employment_type  job_title  \\\n",
       "work_year            1.000000          0.095830        -0.003291   0.259548   \n",
       "experience_level     0.095830          1.000000        -0.001406   0.229522   \n",
       "employment_type     -0.003291         -0.001406         1.000000   0.079657   \n",
       "job_title            0.259548          0.229522         0.079657   1.000000   \n",
       "salary_in_usd        0.184246          0.333232        -0.004873   0.138915   \n",
       "employee_residence   0.084868          0.110785         0.041032   0.102947   \n",
       "remote_ratio         0.135720          0.112433        -0.003370   0.091686   \n",
       "company_location     0.101912          0.105919         0.049794   0.114465   \n",
       "company_size         0.179436          0.011989        -0.026572   0.217610   \n",
       "\n",
       "                    salary_in_usd  employee_residence  remote_ratio  \\\n",
       "work_year                0.184246            0.084868      0.135720   \n",
       "experience_level         0.333232            0.110785      0.112433   \n",
       "employment_type         -0.004873            0.041032     -0.003370   \n",
       "job_title                0.138915            0.102947      0.091686   \n",
       "salary_in_usd            1.000000            0.261688      0.174523   \n",
       "employee_residence       0.261688            1.000000      0.093911   \n",
       "remote_ratio             0.174523            0.093911      1.000000   \n",
       "company_location         0.248111            0.798427      0.088345   \n",
       "company_size            -0.069485           -0.045515     -0.030295   \n",
       "\n",
       "                    company_location  company_size  \n",
       "work_year                   0.101912      0.179436  \n",
       "experience_level            0.105919      0.011989  \n",
       "employment_type             0.049794     -0.026572  \n",
       "job_title                   0.114465      0.217610  \n",
       "salary_in_usd               0.248111     -0.069485  \n",
       "employee_residence          0.798427     -0.045515  \n",
       "remote_ratio                0.088345     -0.030295  \n",
       "company_location            1.000000     -0.069852  \n",
       "company_size               -0.069852      1.000000  "
      ]
     },
     "execution_count": 521,
     "metadata": {},
     "output_type": "execute_result"
    }
   ],
   "source": [
    "corr_matrix=data.corr()\n",
    "corr_matrix"
   ]
  },
  {
   "cell_type": "code",
   "execution_count": 522,
   "id": "0af599ff",
   "metadata": {},
   "outputs": [
    {
     "data": {
      "image/png": "[encoded data removed]",
      "text/plain": [
       "<Figure size 800x800 with 2 Axes>"
      ]
     },
     "metadata": {},
     "output_type": "display_data"
    }
   ],
   "source": [
    "plt.figure(figsize=(8,8))\n",
    "sns.heatmap(corr_matrix, annot = True)\n",
    "\n",
    "# display the plot\n",
    "plt.show()"
   ]
  },
  {
   "cell_type": "code",
   "execution_count": 1164,
   "id": "25c50691",
   "metadata": {},
   "outputs": [
    {
     "data": {
      "text/html": [
       "<div>\n",
       "<style scoped>\n",
       "    .dataframe tbody tr th:only-of-type {\n",
       "        vertical-align: middle;\n",
       "    }\n",
       "\n",
       "    .dataframe tbody tr th {\n",
       "        vertical-align: top;\n",
       "    }\n",
       "\n",
       "    .dataframe thead th {\n",
       "        text-align: right;\n",
       "    }\n",
       "</style>\n",
       "<table border=\"1\" class=\"dataframe\">\n",
       "  <thead>\n",
       "    <tr style=\"text-align: right;\">\n",
       "      <th></th>\n",
       "      <th>work_year</th>\n",
       "      <th>experience_level</th>\n",
       "      <th>employment_type</th>\n",
       "      <th>job_title</th>\n",
       "      <th>salary_in_usd</th>\n",
       "      <th>employee_residence</th>\n",
       "      <th>remote_ratio</th>\n",
       "      <th>company_location</th>\n",
       "      <th>company_size</th>\n",
       "    </tr>\n",
       "  </thead>\n",
       "  <tbody>\n",
       "    <tr>\n",
       "      <th>0</th>\n",
       "      <td>2022</td>\n",
       "      <td>Entry-Level</td>\n",
       "      <td>Full-Time</td>\n",
       "      <td>Cyber Program Manager</td>\n",
       "      <td>63000</td>\n",
       "      <td>United States</td>\n",
       "      <td>50</td>\n",
       "      <td>US</td>\n",
       "      <td>Small</td>\n",
       "    </tr>\n",
       "    <tr>\n",
       "      <th>1</th>\n",
       "      <td>2022</td>\n",
       "      <td>Mid-Level</td>\n",
       "      <td>Full-Time</td>\n",
       "      <td>Security Analyst</td>\n",
       "      <td>95000</td>\n",
       "      <td>United States</td>\n",
       "      <td>0</td>\n",
       "      <td>US</td>\n",
       "      <td>Medium</td>\n",
       "    </tr>\n",
       "    <tr>\n",
       "      <th>2</th>\n",
       "      <td>2022</td>\n",
       "      <td>Mid-Level</td>\n",
       "      <td>Full-Time</td>\n",
       "      <td>Security Analyst</td>\n",
       "      <td>70000</td>\n",
       "      <td>United States</td>\n",
       "      <td>0</td>\n",
       "      <td>US</td>\n",
       "      <td>Medium</td>\n",
       "    </tr>\n",
       "    <tr>\n",
       "      <th>3</th>\n",
       "      <td>2022</td>\n",
       "      <td>Mid-Level</td>\n",
       "      <td>Full-Time</td>\n",
       "      <td>IT Security Analyst</td>\n",
       "      <td>48853</td>\n",
       "      <td>Brazil</td>\n",
       "      <td>50</td>\n",
       "      <td>BR</td>\n",
       "      <td>Large</td>\n",
       "    </tr>\n",
       "    <tr>\n",
       "      <th>4</th>\n",
       "      <td>2022</td>\n",
       "      <td>Entry-Level</td>\n",
       "      <td>Contract</td>\n",
       "      <td>Cyber Security Analyst</td>\n",
       "      <td>120000</td>\n",
       "      <td>Botswana</td>\n",
       "      <td>100</td>\n",
       "      <td>BW</td>\n",
       "      <td>Small</td>\n",
       "    </tr>\n",
       "    <tr>\n",
       "      <th>...</th>\n",
       "      <td>...</td>\n",
       "      <td>...</td>\n",
       "      <td>...</td>\n",
       "      <td>...</td>\n",
       "      <td>...</td>\n",
       "      <td>...</td>\n",
       "      <td>...</td>\n",
       "      <td>...</td>\n",
       "      <td>...</td>\n",
       "    </tr>\n",
       "    <tr>\n",
       "      <th>1242</th>\n",
       "      <td>2020</td>\n",
       "      <td>Mid-Level</td>\n",
       "      <td>Full-Time</td>\n",
       "      <td>Cyber Security Analyst</td>\n",
       "      <td>96422</td>\n",
       "      <td>Australia</td>\n",
       "      <td>50</td>\n",
       "      <td>AU</td>\n",
       "      <td>Medium</td>\n",
       "    </tr>\n",
       "    <tr>\n",
       "      <th>1243</th>\n",
       "      <td>2021</td>\n",
       "      <td>Senior</td>\n",
       "      <td>Full-Time</td>\n",
       "      <td>Information Security Manager</td>\n",
       "      <td>82528</td>\n",
       "      <td>United Kingdom</td>\n",
       "      <td>50</td>\n",
       "      <td>GB</td>\n",
       "      <td>Large</td>\n",
       "    </tr>\n",
       "    <tr>\n",
       "      <th>1244</th>\n",
       "      <td>2021</td>\n",
       "      <td>Senior</td>\n",
       "      <td>Full-Time</td>\n",
       "      <td>Penetration Testing Engineer</td>\n",
       "      <td>126000</td>\n",
       "      <td>United States</td>\n",
       "      <td>100</td>\n",
       "      <td>US</td>\n",
       "      <td>Large</td>\n",
       "    </tr>\n",
       "    <tr>\n",
       "      <th>1245</th>\n",
       "      <td>2021</td>\n",
       "      <td>Mid-Level</td>\n",
       "      <td>Full-Time</td>\n",
       "      <td>Information Security Analyst</td>\n",
       "      <td>57769</td>\n",
       "      <td>United Kingdom</td>\n",
       "      <td>100</td>\n",
       "      <td>GB</td>\n",
       "      <td>Large</td>\n",
       "    </tr>\n",
       "    <tr>\n",
       "      <th>1246</th>\n",
       "      <td>2021</td>\n",
       "      <td>Mid-Level</td>\n",
       "      <td>Full-Time</td>\n",
       "      <td>Threat Intelligence Analyst</td>\n",
       "      <td>66310</td>\n",
       "      <td>United States</td>\n",
       "      <td>0</td>\n",
       "      <td>US</td>\n",
       "      <td>Large</td>\n",
       "    </tr>\n",
       "  </tbody>\n",
       "</table>\n",
       "<p>1247 rows × 9 columns</p>\n",
       "</div>"
      ],
      "text/plain": [
       "      work_year experience_level employment_type  \\\n",
       "0          2022      Entry-Level       Full-Time   \n",
       "1          2022        Mid-Level       Full-Time   \n",
       "2          2022        Mid-Level       Full-Time   \n",
       "3          2022        Mid-Level       Full-Time   \n",
       "4          2022      Entry-Level        Contract   \n",
       "...         ...              ...             ...   \n",
       "1242       2020        Mid-Level       Full-Time   \n",
       "1243       2021           Senior       Full-Time   \n",
       "1244       2021           Senior       Full-Time   \n",
       "1245       2021        Mid-Level       Full-Time   \n",
       "1246       2021        Mid-Level       Full-Time   \n",
       "\n",
       "                         job_title  salary_in_usd employee_residence  \\\n",
       "0            Cyber Program Manager          63000      United States   \n",
       "1                 Security Analyst          95000      United States   \n",
       "2                 Security Analyst          70000      United States   \n",
       "3              IT Security Analyst          48853             Brazil   \n",
       "4           Cyber Security Analyst         120000           Botswana   \n",
       "...                            ...            ...                ...   \n",
       "1242        Cyber Security Analyst          96422          Australia   \n",
       "1243  Information Security Manager          82528     United Kingdom   \n",
       "1244  Penetration Testing Engineer         126000      United States   \n",
       "1245  Information Security Analyst          57769     United Kingdom   \n",
       "1246   Threat Intelligence Analyst          66310      United States   \n",
       "\n",
       "      remote_ratio company_location company_size  \n",
       "0               50               US        Small  \n",
       "1                0               US       Medium  \n",
       "2                0               US       Medium  \n",
       "3               50               BR        Large  \n",
       "4              100               BW        Small  \n",
       "...            ...              ...          ...  \n",
       "1242            50               AU       Medium  \n",
       "1243            50               GB        Large  \n",
       "1244           100               US        Large  \n",
       "1245           100               GB        Large  \n",
       "1246             0               US        Large  \n",
       "\n",
       "[1247 rows x 9 columns]"
      ]
     },
     "execution_count": 1164,
     "metadata": {},
     "output_type": "execute_result"
    }
   ],
   "source": [
    "data"
   ]
  },
  {
   "cell_type": "markdown",
   "id": "8c14fbc1",
   "metadata": {},
   "source": [
    "# 3) Prepare Data"
   ]
  },
  {
   "cell_type": "markdown",
   "id": "42a816c9",
   "metadata": {},
   "source": [
    "### a) Data Cleaning"
   ]
  },
  {
   "cell_type": "code",
   "execution_count": 536,
   "id": "ae047871",
   "metadata": {},
   "outputs": [
    {
     "data": {
      "text/plain": [
       "work_year             0\n",
       "experience_level      0\n",
       "employment_type       0\n",
       "job_title             0\n",
       "salary                0\n",
       "salary_currency       0\n",
       "salary_in_usd         0\n",
       "employee_residence    0\n",
       "remote_ratio          0\n",
       "company_location      0\n",
       "company_size          0\n",
       "dtype: int64"
      ]
     },
     "execution_count": 536,
     "metadata": {},
     "output_type": "execute_result"
    }
   ],
   "source": [
    "#Check for null values\n",
    "missing_values = data.isnull().sum()\n",
    "missing_values"
   ]
  },
  {
   "cell_type": "code",
   "execution_count": 6,
   "id": "c9018ccd",
   "metadata": {},
   "outputs": [],
   "source": [
    "# Drop the 'salary' and 'salary_currency' column because we will only use salary_in_usd for this analysis\n",
    "data= data.drop('salary', axis=1)\n",
    "data= data.drop('salary_currency', axis=1)"
   ]
  },
  {
   "cell_type": "code",
   "execution_count": 4,
   "id": "2938e282",
   "metadata": {},
   "outputs": [
    {
     "data": {
      "text/plain": [
       "array(['EN', 'MI', 'EX', 'SE'], dtype=object)"
      ]
     },
     "execution_count": 4,
     "metadata": {},
     "output_type": "execute_result"
    }
   ],
   "source": [
    "#Check for unique values in a column \n",
    "unique_values = data['experience_level'].unique()\n",
    "unique_values"
   ]
  },
  {
   "cell_type": "code",
   "execution_count": 539,
   "id": "7d69c2e7",
   "metadata": {},
   "outputs": [
    {
     "data": {
      "text/plain": [
       "87"
      ]
     },
     "execution_count": 539,
     "metadata": {},
     "output_type": "execute_result"
    }
   ],
   "source": [
    "# Check for Number of unique job_title\n",
    "unique_job_titles = data['job_title'].nunique()\n",
    "unique_job_titles"
   ]
  },
  {
   "cell_type": "code",
   "execution_count": 540,
   "id": "9f862540",
   "metadata": {},
   "outputs": [
    {
     "data": {
      "text/plain": [
       "58"
      ]
     },
     "execution_count": 540,
     "metadata": {},
     "output_type": "execute_result"
    }
   ],
   "source": [
    "#Check for Number of unique employee residence\n",
    "unique_employee_residence = data['employee_residence'].nunique()\n",
    "unique_employee_residence"
   ]
  },
  {
   "cell_type": "code",
   "execution_count": 541,
   "id": "8edc57b3",
   "metadata": {},
   "outputs": [
    {
     "name": "stdout",
     "output_type": "stream",
     "text": [
      "Empty DataFrame\n",
      "Columns: [work_year, experience_level, employment_type, job_title, salary_in_usd, employee_residence, remote_ratio, company_location, company_size]\n",
      "Index: []\n"
     ]
    }
   ],
   "source": [
    "#Check for negative salaries \n",
    "negative_salaries = data[data['salary_in_usd'] < 0]\n",
    "print(negative_salaries)"
   ]
  },
  {
   "cell_type": "code",
   "execution_count": 542,
   "id": "78f9f265",
   "metadata": {},
   "outputs": [
    {
     "data": {
      "text/html": [
       "<div>\n",
       "<style scoped>\n",
       "    .dataframe tbody tr th:only-of-type {\n",
       "        vertical-align: middle;\n",
       "    }\n",
       "\n",
       "    .dataframe tbody tr th {\n",
       "        vertical-align: top;\n",
       "    }\n",
       "\n",
       "    .dataframe thead th {\n",
       "        text-align: right;\n",
       "    }\n",
       "</style>\n",
       "<table border=\"1\" class=\"dataframe\">\n",
       "  <thead>\n",
       "    <tr style=\"text-align: right;\">\n",
       "      <th></th>\n",
       "      <th>work_year</th>\n",
       "      <th>experience_level</th>\n",
       "      <th>employment_type</th>\n",
       "      <th>job_title</th>\n",
       "      <th>salary_in_usd</th>\n",
       "      <th>employee_residence</th>\n",
       "      <th>remote_ratio</th>\n",
       "      <th>company_location</th>\n",
       "      <th>company_size</th>\n",
       "    </tr>\n",
       "  </thead>\n",
       "  <tbody>\n",
       "    <tr>\n",
       "      <th>0</th>\n",
       "      <td>2022</td>\n",
       "      <td>EN</td>\n",
       "      <td>FT</td>\n",
       "      <td>Cyber Program Manager</td>\n",
       "      <td>63000</td>\n",
       "      <td>US</td>\n",
       "      <td>50</td>\n",
       "      <td>US</td>\n",
       "      <td>S</td>\n",
       "    </tr>\n",
       "    <tr>\n",
       "      <th>1</th>\n",
       "      <td>2022</td>\n",
       "      <td>MI</td>\n",
       "      <td>FT</td>\n",
       "      <td>Security Analyst</td>\n",
       "      <td>95000</td>\n",
       "      <td>US</td>\n",
       "      <td>0</td>\n",
       "      <td>US</td>\n",
       "      <td>M</td>\n",
       "    </tr>\n",
       "    <tr>\n",
       "      <th>2</th>\n",
       "      <td>2022</td>\n",
       "      <td>MI</td>\n",
       "      <td>FT</td>\n",
       "      <td>Security Analyst</td>\n",
       "      <td>70000</td>\n",
       "      <td>US</td>\n",
       "      <td>0</td>\n",
       "      <td>US</td>\n",
       "      <td>M</td>\n",
       "    </tr>\n",
       "    <tr>\n",
       "      <th>3</th>\n",
       "      <td>2022</td>\n",
       "      <td>MI</td>\n",
       "      <td>FT</td>\n",
       "      <td>IT Security Analyst</td>\n",
       "      <td>48853</td>\n",
       "      <td>BR</td>\n",
       "      <td>50</td>\n",
       "      <td>BR</td>\n",
       "      <td>L</td>\n",
       "    </tr>\n",
       "    <tr>\n",
       "      <th>4</th>\n",
       "      <td>2022</td>\n",
       "      <td>EN</td>\n",
       "      <td>CT</td>\n",
       "      <td>Cyber Security Analyst</td>\n",
       "      <td>120000</td>\n",
       "      <td>BW</td>\n",
       "      <td>100</td>\n",
       "      <td>BW</td>\n",
       "      <td>S</td>\n",
       "    </tr>\n",
       "  </tbody>\n",
       "</table>\n",
       "</div>"
      ],
      "text/plain": [
       "   work_year experience_level employment_type               job_title  \\\n",
       "0       2022               EN              FT   Cyber Program Manager   \n",
       "1       2022               MI              FT        Security Analyst   \n",
       "2       2022               MI              FT        Security Analyst   \n",
       "3       2022               MI              FT     IT Security Analyst   \n",
       "4       2022               EN              CT  Cyber Security Analyst   \n",
       "\n",
       "   salary_in_usd employee_residence  remote_ratio company_location  \\\n",
       "0          63000                 US            50               US   \n",
       "1          95000                 US             0               US   \n",
       "2          70000                 US             0               US   \n",
       "3          48853                 BR            50               BR   \n",
       "4         120000                 BW           100               BW   \n",
       "\n",
       "  company_size  \n",
       "0            S  \n",
       "1            M  \n",
       "2            M  \n",
       "3            L  \n",
       "4            S  "
      ]
     },
     "execution_count": 542,
     "metadata": {},
     "output_type": "execute_result"
    }
   ],
   "source": [
    "# Print the updated DataFrame\n",
    "data.head()"
   ]
  },
  {
   "cell_type": "markdown",
   "id": "0fa1b696",
   "metadata": {},
   "source": [
    "### c) Data Transforms"
   ]
  },
  {
   "cell_type": "code",
   "execution_count": 7,
   "id": "42eb142f",
   "metadata": {},
   "outputs": [
    {
     "data": {
      "text/html": [
       "<div>\n",
       "<style scoped>\n",
       "    .dataframe tbody tr th:only-of-type {\n",
       "        vertical-align: middle;\n",
       "    }\n",
       "\n",
       "    .dataframe tbody tr th {\n",
       "        vertical-align: top;\n",
       "    }\n",
       "\n",
       "    .dataframe thead th {\n",
       "        text-align: right;\n",
       "    }\n",
       "</style>\n",
       "<table border=\"1\" class=\"dataframe\">\n",
       "  <thead>\n",
       "    <tr style=\"text-align: right;\">\n",
       "      <th></th>\n",
       "      <th>work_year</th>\n",
       "      <th>experience_level</th>\n",
       "      <th>employment_type</th>\n",
       "      <th>job_title</th>\n",
       "      <th>salary_in_usd</th>\n",
       "      <th>employee_residence</th>\n",
       "      <th>remote_ratio</th>\n",
       "      <th>company_location</th>\n",
       "      <th>company_size</th>\n",
       "    </tr>\n",
       "  </thead>\n",
       "  <tbody>\n",
       "    <tr>\n",
       "      <th>0</th>\n",
       "      <td>2022</td>\n",
       "      <td>Entry-Level</td>\n",
       "      <td>Full-Time</td>\n",
       "      <td>Cyber Program Manager</td>\n",
       "      <td>63000</td>\n",
       "      <td>US</td>\n",
       "      <td>50</td>\n",
       "      <td>US</td>\n",
       "      <td>Small</td>\n",
       "    </tr>\n",
       "    <tr>\n",
       "      <th>1</th>\n",
       "      <td>2022</td>\n",
       "      <td>Mid-Level</td>\n",
       "      <td>Full-Time</td>\n",
       "      <td>Security Analyst</td>\n",
       "      <td>95000</td>\n",
       "      <td>US</td>\n",
       "      <td>0</td>\n",
       "      <td>US</td>\n",
       "      <td>Medium</td>\n",
       "    </tr>\n",
       "    <tr>\n",
       "      <th>2</th>\n",
       "      <td>2022</td>\n",
       "      <td>Mid-Level</td>\n",
       "      <td>Full-Time</td>\n",
       "      <td>Security Analyst</td>\n",
       "      <td>70000</td>\n",
       "      <td>US</td>\n",
       "      <td>0</td>\n",
       "      <td>US</td>\n",
       "      <td>Medium</td>\n",
       "    </tr>\n",
       "    <tr>\n",
       "      <th>3</th>\n",
       "      <td>2022</td>\n",
       "      <td>Mid-Level</td>\n",
       "      <td>Full-Time</td>\n",
       "      <td>IT Security Analyst</td>\n",
       "      <td>48853</td>\n",
       "      <td>BR</td>\n",
       "      <td>50</td>\n",
       "      <td>BR</td>\n",
       "      <td>Large</td>\n",
       "    </tr>\n",
       "    <tr>\n",
       "      <th>4</th>\n",
       "      <td>2022</td>\n",
       "      <td>Entry-Level</td>\n",
       "      <td>Contract</td>\n",
       "      <td>Cyber Security Analyst</td>\n",
       "      <td>120000</td>\n",
       "      <td>BW</td>\n",
       "      <td>100</td>\n",
       "      <td>BW</td>\n",
       "      <td>Small</td>\n",
       "    </tr>\n",
       "    <tr>\n",
       "      <th>5</th>\n",
       "      <td>2022</td>\n",
       "      <td>Executive-Level</td>\n",
       "      <td>Full-Time</td>\n",
       "      <td>Application Security Architect</td>\n",
       "      <td>315000</td>\n",
       "      <td>US</td>\n",
       "      <td>100</td>\n",
       "      <td>US</td>\n",
       "      <td>Large</td>\n",
       "    </tr>\n",
       "    <tr>\n",
       "      <th>6</th>\n",
       "      <td>2022</td>\n",
       "      <td>Senior</td>\n",
       "      <td>Full-Time</td>\n",
       "      <td>Security Researcher</td>\n",
       "      <td>220000</td>\n",
       "      <td>US</td>\n",
       "      <td>100</td>\n",
       "      <td>US</td>\n",
       "      <td>Medium</td>\n",
       "    </tr>\n",
       "    <tr>\n",
       "      <th>7</th>\n",
       "      <td>2022</td>\n",
       "      <td>Senior</td>\n",
       "      <td>Full-Time</td>\n",
       "      <td>Security Researcher</td>\n",
       "      <td>140000</td>\n",
       "      <td>US</td>\n",
       "      <td>100</td>\n",
       "      <td>US</td>\n",
       "      <td>Medium</td>\n",
       "    </tr>\n",
       "    <tr>\n",
       "      <th>8</th>\n",
       "      <td>2021</td>\n",
       "      <td>Mid-Level</td>\n",
       "      <td>Full-Time</td>\n",
       "      <td>Information Security Compliance Analyst</td>\n",
       "      <td>75650</td>\n",
       "      <td>GB</td>\n",
       "      <td>50</td>\n",
       "      <td>GB</td>\n",
       "      <td>Large</td>\n",
       "    </tr>\n",
       "    <tr>\n",
       "      <th>9</th>\n",
       "      <td>2022</td>\n",
       "      <td>Executive-Level</td>\n",
       "      <td>Full-Time</td>\n",
       "      <td>Information Security Compliance Manager</td>\n",
       "      <td>360000</td>\n",
       "      <td>TW</td>\n",
       "      <td>100</td>\n",
       "      <td>SG</td>\n",
       "      <td>Large</td>\n",
       "    </tr>\n",
       "  </tbody>\n",
       "</table>\n",
       "</div>"
      ],
      "text/plain": [
       "   work_year experience_level employment_type  \\\n",
       "0       2022      Entry-Level       Full-Time   \n",
       "1       2022        Mid-Level       Full-Time   \n",
       "2       2022        Mid-Level       Full-Time   \n",
       "3       2022        Mid-Level       Full-Time   \n",
       "4       2022      Entry-Level        Contract   \n",
       "5       2022  Executive-Level       Full-Time   \n",
       "6       2022           Senior       Full-Time   \n",
       "7       2022           Senior       Full-Time   \n",
       "8       2021        Mid-Level       Full-Time   \n",
       "9       2022  Executive-Level       Full-Time   \n",
       "\n",
       "                                 job_title  salary_in_usd employee_residence  \\\n",
       "0                    Cyber Program Manager          63000                 US   \n",
       "1                         Security Analyst          95000                 US   \n",
       "2                         Security Analyst          70000                 US   \n",
       "3                      IT Security Analyst          48853                 BR   \n",
       "4                   Cyber Security Analyst         120000                 BW   \n",
       "5           Application Security Architect         315000                 US   \n",
       "6                      Security Researcher         220000                 US   \n",
       "7                      Security Researcher         140000                 US   \n",
       "8  Information Security Compliance Analyst          75650                 GB   \n",
       "9  Information Security Compliance Manager         360000                 TW   \n",
       "\n",
       "   remote_ratio company_location company_size  \n",
       "0            50               US        Small  \n",
       "1             0               US       Medium  \n",
       "2             0               US       Medium  \n",
       "3            50               BR        Large  \n",
       "4           100               BW        Small  \n",
       "5           100               US        Large  \n",
       "6           100               US       Medium  \n",
       "7           100               US       Medium  \n",
       "8            50               GB        Large  \n",
       "9           100               SG        Large  "
      ]
     },
     "execution_count": 7,
     "metadata": {},
     "output_type": "execute_result"
    }
   ],
   "source": [
    "#Transform abbreviated codes or categories into more meaningful and descriptive labels within the employment_type columns \n",
    "data['experience_level'].replace({'EN':'Entry-Level','MI':'Mid-Level','EX':'Executive-Level','SE':'Senior'},inplace=True)\n",
    "data['employment_type'].replace({'PT':'Part-Time','FT':'Full-Time','CT':'Contract','FL':'Freelance'},inplace=True)\n",
    "data['company_size'].replace({'L':'Large','M':'Medium','S':'Small'},inplace=True)\n",
    "\n",
    "# Print the updated DataFrame\n",
    "data.head(10)"
   ]
  },
  {
   "cell_type": "code",
   "execution_count": 8,
   "id": "b1b1bf75",
   "metadata": {},
   "outputs": [],
   "source": [
    "# Create a dictionary to perform Country Mapping\n",
    "country_mapping = {\n",
    "    'US': 'United States',\n",
    "    'BR': 'Brazil',\n",
    "    'BW': 'Botswana',\n",
    "    'GB': 'United Kingdom',\n",
    "    'TW': 'Taiwan',\n",
    "    'NL': 'Netherlands',\n",
    "    'IN': 'India',\n",
    "    'DE': 'Germany',\n",
    "    'AE': 'United Arab Emirates',\n",
    "    'CA': 'Canada',\n",
    "    'CH': 'Switzerland',\n",
    "    'DK': 'Denmark',\n",
    "    'CL': 'Chile',\n",
    "    'ES': 'Spain',\n",
    "    'SG': 'Singapore',\n",
    "    'AU': 'Australia',\n",
    "    'FR': 'France',\n",
    "    'IT': 'Italy',\n",
    "    'PK': 'Pakistan',\n",
    "    'GR': 'Greece',\n",
    "    'GH': 'Ghana',\n",
    "    'AZ': 'Azerbaijan',\n",
    "    'RO': 'Romania',\n",
    "    'AR': 'Argentina',\n",
    "    'DZ': 'Algeria',\n",
    "    'AF': 'Afghanistan',\n",
    "    'SI': 'Slovenia',\n",
    "    'HR': 'Croatia',\n",
    "    'SE': 'Sweden',\n",
    "    'HU': 'Hungary',\n",
    "    'ET': 'Ethiopia',\n",
    "    'MX': 'Mexico',\n",
    "    'IL': 'Israel',\n",
    "    'IE': 'Ireland',\n",
    "    'PL': 'Poland',\n",
    "    'CR': 'Costa Rica',\n",
    "    'JP': 'Japan',\n",
    "    'PT': 'Portugal',\n",
    "    'NG': 'Nigeria',\n",
    "    'NO': 'Norway',\n",
    "    'CZ': 'Czech Republic',\n",
    "    'ID': 'Indonesia',\n",
    "    'EE': 'Estonia',\n",
    "    'KG': 'Kyrgyzstan',\n",
    "    'KE': 'Kenya',\n",
    "    'BG': 'Bulgaria',\n",
    "    'IR': 'Iran',\n",
    "    'NZ': 'New Zealand',\n",
    "    'BE': 'Belgium',\n",
    "    'ZA': 'South Africa',\n",
    "    'AT': 'Austria',\n",
    "    'LU': 'Luxembourg',\n",
    "    'EG': 'Egypt',\n",
    "    'VN': 'Vietnam',\n",
    "    'SA': 'Saudi Arabia',\n",
    "    'LT': 'Lithuania',\n",
    "    'RU': 'Russia',\n",
    "    'TR': 'Turkey'\n",
    "}\n",
    "\n",
    "data['employee_residence'] = data['employee_residence'].replace(country_mapping)"
   ]
  },
  {
   "cell_type": "code",
   "execution_count": 9,
   "id": "3fc0fb4e",
   "metadata": {},
   "outputs": [
    {
     "data": {
      "text/html": [
       "<div>\n",
       "<style scoped>\n",
       "    .dataframe tbody tr th:only-of-type {\n",
       "        vertical-align: middle;\n",
       "    }\n",
       "\n",
       "    .dataframe tbody tr th {\n",
       "        vertical-align: top;\n",
       "    }\n",
       "\n",
       "    .dataframe thead th {\n",
       "        text-align: right;\n",
       "    }\n",
       "</style>\n",
       "<table border=\"1\" class=\"dataframe\">\n",
       "  <thead>\n",
       "    <tr style=\"text-align: right;\">\n",
       "      <th></th>\n",
       "      <th>work_year</th>\n",
       "      <th>experience_level</th>\n",
       "      <th>employment_type</th>\n",
       "      <th>job_title</th>\n",
       "      <th>salary_in_usd</th>\n",
       "      <th>employee_residence</th>\n",
       "      <th>remote_ratio</th>\n",
       "      <th>company_location</th>\n",
       "      <th>company_size</th>\n",
       "    </tr>\n",
       "  </thead>\n",
       "  <tbody>\n",
       "    <tr>\n",
       "      <th>0</th>\n",
       "      <td>2022</td>\n",
       "      <td>Entry-Level</td>\n",
       "      <td>Full-Time</td>\n",
       "      <td>Cyber Program Manager</td>\n",
       "      <td>63000</td>\n",
       "      <td>United States</td>\n",
       "      <td>50</td>\n",
       "      <td>US</td>\n",
       "      <td>Small</td>\n",
       "    </tr>\n",
       "    <tr>\n",
       "      <th>1</th>\n",
       "      <td>2022</td>\n",
       "      <td>Mid-Level</td>\n",
       "      <td>Full-Time</td>\n",
       "      <td>Security Analyst</td>\n",
       "      <td>95000</td>\n",
       "      <td>United States</td>\n",
       "      <td>0</td>\n",
       "      <td>US</td>\n",
       "      <td>Medium</td>\n",
       "    </tr>\n",
       "    <tr>\n",
       "      <th>2</th>\n",
       "      <td>2022</td>\n",
       "      <td>Mid-Level</td>\n",
       "      <td>Full-Time</td>\n",
       "      <td>Security Analyst</td>\n",
       "      <td>70000</td>\n",
       "      <td>United States</td>\n",
       "      <td>0</td>\n",
       "      <td>US</td>\n",
       "      <td>Medium</td>\n",
       "    </tr>\n",
       "    <tr>\n",
       "      <th>3</th>\n",
       "      <td>2022</td>\n",
       "      <td>Mid-Level</td>\n",
       "      <td>Full-Time</td>\n",
       "      <td>IT Security Analyst</td>\n",
       "      <td>48853</td>\n",
       "      <td>Brazil</td>\n",
       "      <td>50</td>\n",
       "      <td>BR</td>\n",
       "      <td>Large</td>\n",
       "    </tr>\n",
       "    <tr>\n",
       "      <th>4</th>\n",
       "      <td>2022</td>\n",
       "      <td>Entry-Level</td>\n",
       "      <td>Contract</td>\n",
       "      <td>Cyber Security Analyst</td>\n",
       "      <td>120000</td>\n",
       "      <td>Botswana</td>\n",
       "      <td>100</td>\n",
       "      <td>BW</td>\n",
       "      <td>Small</td>\n",
       "    </tr>\n",
       "    <tr>\n",
       "      <th>...</th>\n",
       "      <td>...</td>\n",
       "      <td>...</td>\n",
       "      <td>...</td>\n",
       "      <td>...</td>\n",
       "      <td>...</td>\n",
       "      <td>...</td>\n",
       "      <td>...</td>\n",
       "      <td>...</td>\n",
       "      <td>...</td>\n",
       "    </tr>\n",
       "    <tr>\n",
       "      <th>1242</th>\n",
       "      <td>2020</td>\n",
       "      <td>Mid-Level</td>\n",
       "      <td>Full-Time</td>\n",
       "      <td>Cyber Security Analyst</td>\n",
       "      <td>96422</td>\n",
       "      <td>Australia</td>\n",
       "      <td>50</td>\n",
       "      <td>AU</td>\n",
       "      <td>Medium</td>\n",
       "    </tr>\n",
       "    <tr>\n",
       "      <th>1243</th>\n",
       "      <td>2021</td>\n",
       "      <td>Senior</td>\n",
       "      <td>Full-Time</td>\n",
       "      <td>Information Security Manager</td>\n",
       "      <td>82528</td>\n",
       "      <td>United Kingdom</td>\n",
       "      <td>50</td>\n",
       "      <td>GB</td>\n",
       "      <td>Large</td>\n",
       "    </tr>\n",
       "    <tr>\n",
       "      <th>1244</th>\n",
       "      <td>2021</td>\n",
       "      <td>Senior</td>\n",
       "      <td>Full-Time</td>\n",
       "      <td>Penetration Testing Engineer</td>\n",
       "      <td>126000</td>\n",
       "      <td>United States</td>\n",
       "      <td>100</td>\n",
       "      <td>US</td>\n",
       "      <td>Large</td>\n",
       "    </tr>\n",
       "    <tr>\n",
       "      <th>1245</th>\n",
       "      <td>2021</td>\n",
       "      <td>Mid-Level</td>\n",
       "      <td>Full-Time</td>\n",
       "      <td>Information Security Analyst</td>\n",
       "      <td>57769</td>\n",
       "      <td>United Kingdom</td>\n",
       "      <td>100</td>\n",
       "      <td>GB</td>\n",
       "      <td>Large</td>\n",
       "    </tr>\n",
       "    <tr>\n",
       "      <th>1246</th>\n",
       "      <td>2021</td>\n",
       "      <td>Mid-Level</td>\n",
       "      <td>Full-Time</td>\n",
       "      <td>Threat Intelligence Analyst</td>\n",
       "      <td>66310</td>\n",
       "      <td>United States</td>\n",
       "      <td>0</td>\n",
       "      <td>US</td>\n",
       "      <td>Large</td>\n",
       "    </tr>\n",
       "  </tbody>\n",
       "</table>\n",
       "<p>1247 rows × 9 columns</p>\n",
       "</div>"
      ],
      "text/plain": [
       "      work_year experience_level employment_type  \\\n",
       "0          2022      Entry-Level       Full-Time   \n",
       "1          2022        Mid-Level       Full-Time   \n",
       "2          2022        Mid-Level       Full-Time   \n",
       "3          2022        Mid-Level       Full-Time   \n",
       "4          2022      Entry-Level        Contract   \n",
       "...         ...              ...             ...   \n",
       "1242       2020        Mid-Level       Full-Time   \n",
       "1243       2021           Senior       Full-Time   \n",
       "1244       2021           Senior       Full-Time   \n",
       "1245       2021        Mid-Level       Full-Time   \n",
       "1246       2021        Mid-Level       Full-Time   \n",
       "\n",
       "                         job_title  salary_in_usd employee_residence  \\\n",
       "0            Cyber Program Manager          63000      United States   \n",
       "1                 Security Analyst          95000      United States   \n",
       "2                 Security Analyst          70000      United States   \n",
       "3              IT Security Analyst          48853             Brazil   \n",
       "4           Cyber Security Analyst         120000           Botswana   \n",
       "...                            ...            ...                ...   \n",
       "1242        Cyber Security Analyst          96422          Australia   \n",
       "1243  Information Security Manager          82528     United Kingdom   \n",
       "1244  Penetration Testing Engineer         126000      United States   \n",
       "1245  Information Security Analyst          57769     United Kingdom   \n",
       "1246   Threat Intelligence Analyst          66310      United States   \n",
       "\n",
       "      remote_ratio company_location company_size  \n",
       "0               50               US        Small  \n",
       "1                0               US       Medium  \n",
       "2                0               US       Medium  \n",
       "3               50               BR        Large  \n",
       "4              100               BW        Small  \n",
       "...            ...              ...          ...  \n",
       "1242            50               AU       Medium  \n",
       "1243            50               GB        Large  \n",
       "1244           100               US        Large  \n",
       "1245           100               GB        Large  \n",
       "1246             0               US        Large  \n",
       "\n",
       "[1247 rows x 9 columns]"
      ]
     },
     "execution_count": 9,
     "metadata": {},
     "output_type": "execute_result"
    }
   ],
   "source": [
    "data"
   ]
  },
  {
   "cell_type": "code",
   "execution_count": 10,
   "id": "4372fcc4",
   "metadata": {},
   "outputs": [],
   "source": [
    "# Copy dataset to convert the categorical values to numerical values\n",
    "data1 = data.copy()"
   ]
  },
  {
   "cell_type": "code",
   "execution_count": 11,
   "id": "665b1434",
   "metadata": {},
   "outputs": [],
   "source": [
    "from sklearn import preprocessing \n",
    "le1 = preprocessing.LabelEncoder()\n",
    "le2 = preprocessing.LabelEncoder()\n",
    "\n",
    "le3 = preprocessing.LabelEncoder()\n",
    "le4 = preprocessing.LabelEncoder()\n",
    "le5 = preprocessing.LabelEncoder()\n",
    "le6 = preprocessing.LabelEncoder()\n",
    "le7 = preprocessing.LabelEncoder()"
   ]
  },
  {
   "cell_type": "code",
   "execution_count": 12,
   "id": "2ebeb42c",
   "metadata": {},
   "outputs": [],
   "source": [
    "labeling1=le1.fit_transform(data1[\"experience_level\"])\n",
    "\n",
    "labeling2=le2.fit_transform(data1[\"employment_type\"])\n",
    "\n",
    "labeling3=le3.fit_transform(data1[\"job_title\"])\n",
    "\n",
    "labeling4=le4.fit_transform(data1[\"employee_residence\"])\n",
    "\n",
    "labeling5=le5.fit_transform(data1[\"company_size\"])\n",
    "\n",
    "labeling6=le6.fit_transform(data1[\"work_year\"])\n",
    "\n",
    "labeling7=le7.fit_transform(data1[\"company_location\"])"
   ]
  },
  {
   "cell_type": "code",
   "execution_count": 13,
   "id": "fb6e26d5",
   "metadata": {},
   "outputs": [],
   "source": [
    "data1[\"experience_level\"] = labeling1\n",
    "data1[\"employment_type\"] = labeling2\n",
    "\n",
    "data1[\"job_title\"] = labeling3\n",
    "data1[\"employee_residence\"] = labeling4\n",
    "\n",
    "data1[\"company_size\"] = labeling5\n",
    "data1[\"work_year\"] = labeling6\n",
    "data1[\"company_location\"] = labeling7"
   ]
  },
  {
   "cell_type": "code",
   "execution_count": 14,
   "id": "50a7a454",
   "metadata": {},
   "outputs": [
    {
     "data": {
      "text/html": [
       "<div>\n",
       "<style scoped>\n",
       "    .dataframe tbody tr th:only-of-type {\n",
       "        vertical-align: middle;\n",
       "    }\n",
       "\n",
       "    .dataframe tbody tr th {\n",
       "        vertical-align: top;\n",
       "    }\n",
       "\n",
       "    .dataframe thead th {\n",
       "        text-align: right;\n",
       "    }\n",
       "</style>\n",
       "<table border=\"1\" class=\"dataframe\">\n",
       "  <thead>\n",
       "    <tr style=\"text-align: right;\">\n",
       "      <th></th>\n",
       "      <th>work_year</th>\n",
       "      <th>experience_level</th>\n",
       "      <th>employment_type</th>\n",
       "      <th>job_title</th>\n",
       "      <th>salary_in_usd</th>\n",
       "      <th>employee_residence</th>\n",
       "      <th>remote_ratio</th>\n",
       "      <th>company_location</th>\n",
       "      <th>company_size</th>\n",
       "    </tr>\n",
       "  </thead>\n",
       "  <tbody>\n",
       "    <tr>\n",
       "      <th>0</th>\n",
       "      <td>2</td>\n",
       "      <td>0</td>\n",
       "      <td>2</td>\n",
       "      <td>13</td>\n",
       "      <td>63000</td>\n",
       "      <td>56</td>\n",
       "      <td>50</td>\n",
       "      <td>52</td>\n",
       "      <td>2</td>\n",
       "    </tr>\n",
       "    <tr>\n",
       "      <th>1</th>\n",
       "      <td>2</td>\n",
       "      <td>2</td>\n",
       "      <td>2</td>\n",
       "      <td>65</td>\n",
       "      <td>95000</td>\n",
       "      <td>56</td>\n",
       "      <td>0</td>\n",
       "      <td>52</td>\n",
       "      <td>1</td>\n",
       "    </tr>\n",
       "    <tr>\n",
       "      <th>2</th>\n",
       "      <td>2</td>\n",
       "      <td>2</td>\n",
       "      <td>2</td>\n",
       "      <td>65</td>\n",
       "      <td>70000</td>\n",
       "      <td>56</td>\n",
       "      <td>0</td>\n",
       "      <td>52</td>\n",
       "      <td>1</td>\n",
       "    </tr>\n",
       "    <tr>\n",
       "      <th>3</th>\n",
       "      <td>2</td>\n",
       "      <td>2</td>\n",
       "      <td>2</td>\n",
       "      <td>34</td>\n",
       "      <td>48853</td>\n",
       "      <td>8</td>\n",
       "      <td>50</td>\n",
       "      <td>9</td>\n",
       "      <td>0</td>\n",
       "    </tr>\n",
       "    <tr>\n",
       "      <th>4</th>\n",
       "      <td>2</td>\n",
       "      <td>0</td>\n",
       "      <td>0</td>\n",
       "      <td>14</td>\n",
       "      <td>120000</td>\n",
       "      <td>7</td>\n",
       "      <td>100</td>\n",
       "      <td>10</td>\n",
       "      <td>2</td>\n",
       "    </tr>\n",
       "    <tr>\n",
       "      <th>...</th>\n",
       "      <td>...</td>\n",
       "      <td>...</td>\n",
       "      <td>...</td>\n",
       "      <td>...</td>\n",
       "      <td>...</td>\n",
       "      <td>...</td>\n",
       "      <td>...</td>\n",
       "      <td>...</td>\n",
       "      <td>...</td>\n",
       "    </tr>\n",
       "    <tr>\n",
       "      <th>1242</th>\n",
       "      <td>0</td>\n",
       "      <td>2</td>\n",
       "      <td>2</td>\n",
       "      <td>14</td>\n",
       "      <td>96422</td>\n",
       "      <td>3</td>\n",
       "      <td>50</td>\n",
       "      <td>5</td>\n",
       "      <td>1</td>\n",
       "    </tr>\n",
       "    <tr>\n",
       "      <th>1243</th>\n",
       "      <td>1</td>\n",
       "      <td>3</td>\n",
       "      <td>2</td>\n",
       "      <td>46</td>\n",
       "      <td>82528</td>\n",
       "      <td>55</td>\n",
       "      <td>50</td>\n",
       "      <td>23</td>\n",
       "      <td>0</td>\n",
       "    </tr>\n",
       "    <tr>\n",
       "      <th>1244</th>\n",
       "      <td>1</td>\n",
       "      <td>3</td>\n",
       "      <td>2</td>\n",
       "      <td>58</td>\n",
       "      <td>126000</td>\n",
       "      <td>56</td>\n",
       "      <td>100</td>\n",
       "      <td>52</td>\n",
       "      <td>0</td>\n",
       "    </tr>\n",
       "    <tr>\n",
       "      <th>1245</th>\n",
       "      <td>1</td>\n",
       "      <td>2</td>\n",
       "      <td>2</td>\n",
       "      <td>40</td>\n",
       "      <td>57769</td>\n",
       "      <td>55</td>\n",
       "      <td>100</td>\n",
       "      <td>23</td>\n",
       "      <td>0</td>\n",
       "    </tr>\n",
       "    <tr>\n",
       "      <th>1246</th>\n",
       "      <td>1</td>\n",
       "      <td>2</td>\n",
       "      <td>2</td>\n",
       "      <td>82</td>\n",
       "      <td>66310</td>\n",
       "      <td>56</td>\n",
       "      <td>0</td>\n",
       "      <td>52</td>\n",
       "      <td>0</td>\n",
       "    </tr>\n",
       "  </tbody>\n",
       "</table>\n",
       "<p>1247 rows × 9 columns</p>\n",
       "</div>"
      ],
      "text/plain": [
       "      work_year  experience_level  employment_type  job_title  salary_in_usd  \\\n",
       "0             2                 0                2         13          63000   \n",
       "1             2                 2                2         65          95000   \n",
       "2             2                 2                2         65          70000   \n",
       "3             2                 2                2         34          48853   \n",
       "4             2                 0                0         14         120000   \n",
       "...         ...               ...              ...        ...            ...   \n",
       "1242          0                 2                2         14          96422   \n",
       "1243          1                 3                2         46          82528   \n",
       "1244          1                 3                2         58         126000   \n",
       "1245          1                 2                2         40          57769   \n",
       "1246          1                 2                2         82          66310   \n",
       "\n",
       "      employee_residence  remote_ratio  company_location  company_size  \n",
       "0                     56            50                52             2  \n",
       "1                     56             0                52             1  \n",
       "2                     56             0                52             1  \n",
       "3                      8            50                 9             0  \n",
       "4                      7           100                10             2  \n",
       "...                  ...           ...               ...           ...  \n",
       "1242                   3            50                 5             1  \n",
       "1243                  55            50                23             0  \n",
       "1244                  56           100                52             0  \n",
       "1245                  55           100                23             0  \n",
       "1246                  56             0                52             0  \n",
       "\n",
       "[1247 rows x 9 columns]"
      ]
     },
     "execution_count": 14,
     "metadata": {},
     "output_type": "execute_result"
    }
   ],
   "source": [
    "data1"
   ]
  },
  {
   "cell_type": "markdown",
   "id": "b692ca06",
   "metadata": {},
   "source": [
    "### b) Feature Selection"
   ]
  },
  {
   "cell_type": "code",
   "execution_count": 15,
   "id": "b43caa64",
   "metadata": {},
   "outputs": [
    {
     "data": {
      "text/html": [
       "<style>#sk-container-id-1 {color: black;background-color: white;}#sk-container-id-1 pre{padding: 0;}#sk-container-id-1 div.sk-toggleable {background-color: white;}#sk-container-id-1 label.sk-toggleable__label {cursor: pointer;display: block;width: 100%;margin-bottom: 0;padding: 0.3em;box-sizing: border-box;text-align: center;}#sk-container-id-1 label.sk-toggleable__label-arrow:before {content: \"▸\";float: left;margin-right: 0.25em;color: #696969;}#sk-container-id-1 label.sk-toggleable__label-arrow:hover:before {color: black;}#sk-container-id-1 div.sk-estimator:hover label.sk-toggleable__label-arrow:before {color: black;}#sk-container-id-1 div.sk-toggleable__content {max-height: 0;max-width: 0;overflow: hidden;text-align: left;background-color: #f0f8ff;}#sk-container-id-1 div.sk-toggleable__content pre {margin: 0.2em;color: black;border-radius: 0.25em;background-color: #f0f8ff;}#sk-container-id-1 input.sk-toggleable__control:checked~div.sk-toggleable__content {max-height: 200px;max-width: 100%;overflow: auto;}#sk-container-id-1 input.sk-toggleable__control:checked~label.sk-toggleable__label-arrow:before {content: \"▾\";}#sk-container-id-1 div.sk-estimator input.sk-toggleable__control:checked~label.sk-toggleable__label {background-color: #d4ebff;}#sk-container-id-1 div.sk-label input.sk-toggleable__control:checked~label.sk-toggleable__label {background-color: #d4ebff;}#sk-container-id-1 input.sk-hidden--visually {border: 0;clip: rect(1px 1px 1px 1px);clip: rect(1px, 1px, 1px, 1px);height: 1px;margin: -1px;overflow: hidden;padding: 0;position: absolute;width: 1px;}#sk-container-id-1 div.sk-estimator {font-family: monospace;background-color: #f0f8ff;border: 1px dotted black;border-radius: 0.25em;box-sizing: border-box;margin-bottom: 0.5em;}#sk-container-id-1 div.sk-estimator:hover {background-color: #d4ebff;}#sk-container-id-1 div.sk-parallel-item::after {content: \"\";width: 100%;border-bottom: 1px solid gray;flex-grow: 1;}#sk-container-id-1 div.sk-label:hover label.sk-toggleable__label {background-color: #d4ebff;}#sk-container-id-1 div.sk-serial::before {content: \"\";position: absolute;border-left: 1px solid gray;box-sizing: border-box;top: 0;bottom: 0;left: 50%;z-index: 0;}#sk-container-id-1 div.sk-serial {display: flex;flex-direction: column;align-items: center;background-color: white;padding-right: 0.2em;padding-left: 0.2em;position: relative;}#sk-container-id-1 div.sk-item {position: relative;z-index: 1;}#sk-container-id-1 div.sk-parallel {display: flex;align-items: stretch;justify-content: center;background-color: white;position: relative;}#sk-container-id-1 div.sk-item::before, #sk-container-id-1 div.sk-parallel-item::before {content: \"\";position: absolute;border-left: 1px solid gray;box-sizing: border-box;top: 0;bottom: 0;left: 50%;z-index: -1;}#sk-container-id-1 div.sk-parallel-item {display: flex;flex-direction: column;z-index: 1;position: relative;background-color: white;}#sk-container-id-1 div.sk-parallel-item:first-child::after {align-self: flex-end;width: 50%;}#sk-container-id-1 div.sk-parallel-item:last-child::after {align-self: flex-start;width: 50%;}#sk-container-id-1 div.sk-parallel-item:only-child::after {width: 0;}#sk-container-id-1 div.sk-dashed-wrapped {border: 1px dashed gray;margin: 0 0.4em 0.5em 0.4em;box-sizing: border-box;padding-bottom: 0.4em;background-color: white;}#sk-container-id-1 div.sk-label label {font-family: monospace;font-weight: bold;display: inline-block;line-height: 1.2em;}#sk-container-id-1 div.sk-label-container {text-align: center;}#sk-container-id-1 div.sk-container {/* jupyter's `normalize.less` sets `[hidden] { display: none; }` but bootstrap.min.css set `[hidden] { display: none !important; }` so we also need the `!important` here to be able to override the default hidden behavior on the sphinx rendered scikit-learn.org. See: https://github.com/scikit-learn/scikit-learn/issues/21755 */display: inline-block !important;position: relative;}#sk-container-id-1 div.sk-text-repr-fallback {display: none;}</style><div id=\"sk-container-id-1\" class=\"sk-top-container\"><div class=\"sk-text-repr-fallback\"><pre>DecisionTreeClassifier(max_depth=5, random_state=42)</pre><b>In a Jupyter environment, please rerun this cell to show the HTML representation or trust the notebook. <br />On GitHub, the HTML representation is unable to render, please try loading this page with nbviewer.org.</b></div><div class=\"sk-container\" hidden><div class=\"sk-item\"><div class=\"sk-estimator sk-toggleable\"><input class=\"sk-toggleable__control sk-hidden--visually\" id=\"sk-estimator-id-1\" type=\"checkbox\" checked><label for=\"sk-estimator-id-1\" class=\"sk-toggleable__label sk-toggleable__label-arrow\">DecisionTreeClassifier</label><div class=\"sk-toggleable__content\"><pre>DecisionTreeClassifier(max_depth=5, random_state=42)</pre></div></div></div></div></div>"
      ],
      "text/plain": [
       "DecisionTreeClassifier(max_depth=5, random_state=42)"
      ]
     },
     "execution_count": 15,
     "metadata": {},
     "output_type": "execute_result"
    }
   ],
   "source": [
    "tree_clf= tree.DecisionTreeClassifier(max_depth=5, random_state=42)\n",
    "tree_clf.fit(data1.drop('salary_in_usd', axis=1), data1['salary_in_usd'])"
   ]
  },
  {
   "cell_type": "code",
   "execution_count": 16,
   "id": "f04d3382",
   "metadata": {},
   "outputs": [
    {
     "name": "stdout",
     "output_type": "stream",
     "text": [
      "('work_year', 0.05688268652057669)\n",
      "('experience_level', 0.12418456609043758)\n",
      "('employment_type', 0.0)\n",
      "('job_title', 0.24522338578724667)\n",
      "('salary_in_usd', 0.15455364019618215)\n",
      "('employee_residence', 0.07268694195431202)\n",
      "('remote_ratio', 0.1910769820957054)\n",
      "('company_location', 0.1553917973555393)\n"
     ]
    }
   ],
   "source": [
    "for i in zip(data1, tree_clf.feature_importances_):\n",
    "    print(i)"
   ]
  },
  {
   "cell_type": "markdown",
   "id": "dc5b0d69",
   "metadata": {},
   "source": [
    "# 4. Evaluate Algorithms"
   ]
  },
  {
   "cell_type": "markdown",
   "id": "d98fbf55",
   "metadata": {},
   "source": [
    "### a) Split-out validation dataset"
   ]
  },
  {
   "cell_type": "code",
   "execution_count": 17,
   "id": "ea97237b",
   "metadata": {},
   "outputs": [],
   "source": [
    "x= data1[[\"experience_level\",\"remote_ratio\",\"company_location\",\"employee_residence\",\"job_title\"]]\n",
    "\n",
    "y = data1['salary_in_usd'] "
   ]
  },
  {
   "cell_type": "code",
   "execution_count": 692,
   "id": "7d1455e5",
   "metadata": {},
   "outputs": [
    {
     "data": {
      "text/html": [
       "<div>\n",
       "<style scoped>\n",
       "    .dataframe tbody tr th:only-of-type {\n",
       "        vertical-align: middle;\n",
       "    }\n",
       "\n",
       "    .dataframe tbody tr th {\n",
       "        vertical-align: top;\n",
       "    }\n",
       "\n",
       "    .dataframe thead th {\n",
       "        text-align: right;\n",
       "    }\n",
       "</style>\n",
       "<table border=\"1\" class=\"dataframe\">\n",
       "  <thead>\n",
       "    <tr style=\"text-align: right;\">\n",
       "      <th></th>\n",
       "      <th>experience_level</th>\n",
       "      <th>remote_ratio</th>\n",
       "      <th>company_location</th>\n",
       "    </tr>\n",
       "  </thead>\n",
       "  <tbody>\n",
       "    <tr>\n",
       "      <th>0</th>\n",
       "      <td>0</td>\n",
       "      <td>50</td>\n",
       "      <td>52</td>\n",
       "    </tr>\n",
       "    <tr>\n",
       "      <th>1</th>\n",
       "      <td>2</td>\n",
       "      <td>0</td>\n",
       "      <td>52</td>\n",
       "    </tr>\n",
       "    <tr>\n",
       "      <th>2</th>\n",
       "      <td>2</td>\n",
       "      <td>0</td>\n",
       "      <td>52</td>\n",
       "    </tr>\n",
       "    <tr>\n",
       "      <th>3</th>\n",
       "      <td>2</td>\n",
       "      <td>50</td>\n",
       "      <td>9</td>\n",
       "    </tr>\n",
       "    <tr>\n",
       "      <th>4</th>\n",
       "      <td>0</td>\n",
       "      <td>100</td>\n",
       "      <td>10</td>\n",
       "    </tr>\n",
       "    <tr>\n",
       "      <th>...</th>\n",
       "      <td>...</td>\n",
       "      <td>...</td>\n",
       "      <td>...</td>\n",
       "    </tr>\n",
       "    <tr>\n",
       "      <th>1242</th>\n",
       "      <td>2</td>\n",
       "      <td>50</td>\n",
       "      <td>5</td>\n",
       "    </tr>\n",
       "    <tr>\n",
       "      <th>1243</th>\n",
       "      <td>3</td>\n",
       "      <td>50</td>\n",
       "      <td>23</td>\n",
       "    </tr>\n",
       "    <tr>\n",
       "      <th>1244</th>\n",
       "      <td>3</td>\n",
       "      <td>100</td>\n",
       "      <td>52</td>\n",
       "    </tr>\n",
       "    <tr>\n",
       "      <th>1245</th>\n",
       "      <td>2</td>\n",
       "      <td>100</td>\n",
       "      <td>23</td>\n",
       "    </tr>\n",
       "    <tr>\n",
       "      <th>1246</th>\n",
       "      <td>2</td>\n",
       "      <td>0</td>\n",
       "      <td>52</td>\n",
       "    </tr>\n",
       "  </tbody>\n",
       "</table>\n",
       "<p>1247 rows × 3 columns</p>\n",
       "</div>"
      ],
      "text/plain": [
       "      experience_level  remote_ratio  company_location\n",
       "0                    0            50                52\n",
       "1                    2             0                52\n",
       "2                    2             0                52\n",
       "3                    2            50                 9\n",
       "4                    0           100                10\n",
       "...                ...           ...               ...\n",
       "1242                 2            50                 5\n",
       "1243                 3            50                23\n",
       "1244                 3           100                52\n",
       "1245                 2           100                23\n",
       "1246                 2             0                52\n",
       "\n",
       "[1247 rows x 3 columns]"
      ]
     },
     "execution_count": 692,
     "metadata": {},
     "output_type": "execute_result"
    }
   ],
   "source": [
    "x"
   ]
  },
  {
   "cell_type": "code",
   "execution_count": 693,
   "id": "6cfa658b",
   "metadata": {},
   "outputs": [
    {
     "data": {
      "text/plain": [
       "0        63000\n",
       "1        95000\n",
       "2        70000\n",
       "3        48853\n",
       "4       120000\n",
       "         ...  \n",
       "1242     96422\n",
       "1243     82528\n",
       "1244    126000\n",
       "1245     57769\n",
       "1246     66310\n",
       "Name: salary_in_usd, Length: 1247, dtype: int64"
      ]
     },
     "execution_count": 693,
     "metadata": {},
     "output_type": "execute_result"
    }
   ],
   "source": [
    "y"
   ]
  },
  {
   "cell_type": "markdown",
   "id": "638b162e",
   "metadata": {},
   "source": [
    "###  Prepare data for ML model"
   ]
  },
  {
   "cell_type": "code",
   "execution_count": 1192,
   "id": "d02e7660",
   "metadata": {},
   "outputs": [
    {
     "data": {
      "text/plain": [
       "(860     135000\n",
       " 710     100000\n",
       " 799     130000\n",
       " 432      97433\n",
       " 236     175000\n",
       "          ...  \n",
       " 494     150000\n",
       " 1237     65000\n",
       " 1079    100000\n",
       " 877      66022\n",
       " 1004     78965\n",
       " Name: salary_in_usd, Length: 375, dtype: int64,\n",
       " 430     127000\n",
       " 1122      2056\n",
       " 1027    130000\n",
       " 329     153000\n",
       " 534      39514\n",
       "          ...  \n",
       " 715     320000\n",
       " 905      80000\n",
       " 1096     54309\n",
       " 235     132870\n",
       " 1061    106000\n",
       " Name: salary_in_usd, Length: 872, dtype: int64)"
      ]
     },
     "execution_count": 1192,
     "metadata": {},
     "output_type": "execute_result"
    }
   ],
   "source": [
    "X_train, X_test, y_train, y_test = train_test_split(x, y, test_size=0.3, random_state=1)\n",
    "y_test,y_train"
   ]
  },
  {
   "cell_type": "markdown",
   "id": "4919502d",
   "metadata": {},
   "source": [
    "## Training Multiple linear regression model"
   ]
  },
  {
   "cell_type": "code",
   "execution_count": 18,
   "id": "64abab86",
   "metadata": {},
   "outputs": [],
   "source": [
    "from sklearn.preprocessing import PolynomialFeatures\n",
    "\n",
    "poly = PolynomialFeatures(degree=5, include_bias=False)"
   ]
  },
  {
   "cell_type": "code",
   "execution_count": 19,
   "id": "6eeeabb6",
   "metadata": {},
   "outputs": [
    {
     "data": {
      "text/plain": [
       "((1247, 5),)"
      ]
     },
     "execution_count": 19,
     "metadata": {},
     "output_type": "execute_result"
    }
   ],
   "source": [
    "x.shape, "
   ]
  },
  {
   "cell_type": "code",
   "execution_count": 20,
   "id": "30cc3d7c",
   "metadata": {},
   "outputs": [
    {
     "data": {
      "text/plain": [
       "(1247, 251)"
      ]
     },
     "execution_count": 20,
     "metadata": {},
     "output_type": "execute_result"
    }
   ],
   "source": [
    "poly_features = poly.fit_transform(x)\n",
    "poly_features.shape"
   ]
  },
  {
   "cell_type": "code",
   "execution_count": 21,
   "id": "7ab91809",
   "metadata": {},
   "outputs": [
    {
     "data": {
      "text/plain": [
       "((1247, 5), (1247, 251))"
      ]
     },
     "execution_count": 21,
     "metadata": {},
     "output_type": "execute_result"
    }
   ],
   "source": [
    "x.shape, poly_features.shape"
   ]
  },
  {
   "cell_type": "code",
   "execution_count": 22,
   "id": "bb09606f",
   "metadata": {},
   "outputs": [],
   "source": [
    "from sklearn.linear_model import LinearRegression\n",
    "\n",
    "poly_reg_model = LinearRegression()"
   ]
  },
  {
   "cell_type": "code",
   "execution_count": 23,
   "id": "6b45c733",
   "metadata": {},
   "outputs": [
    {
     "data": {
      "text/plain": [
       "(1247, 5)"
      ]
     },
     "execution_count": 23,
     "metadata": {},
     "output_type": "execute_result"
    }
   ],
   "source": [
    "x.shape"
   ]
  },
  {
   "cell_type": "code",
   "execution_count": 24,
   "id": "5891673c",
   "metadata": {},
   "outputs": [
    {
     "data": {
      "text/plain": [
       "(1247,)"
      ]
     },
     "execution_count": 24,
     "metadata": {},
     "output_type": "execute_result"
    }
   ],
   "source": [
    "y.shape"
   ]
  },
  {
   "cell_type": "code",
   "execution_count": 25,
   "id": "0034a3de",
   "metadata": {},
   "outputs": [],
   "source": [
    "# x=np.array(x)\n",
    "# y=np.array(y)"
   ]
  },
  {
   "cell_type": "code",
   "execution_count": 26,
   "id": "80f8d763",
   "metadata": {},
   "outputs": [],
   "source": [
    "reg = LinearRegression()"
   ]
  },
  {
   "cell_type": "code",
   "execution_count": 27,
   "id": "037438e4",
   "metadata": {},
   "outputs": [
    {
     "data": {
      "text/plain": [
       "((1247, 251), (1247,), (1247, 5))"
      ]
     },
     "execution_count": 27,
     "metadata": {},
     "output_type": "execute_result"
    }
   ],
   "source": [
    "poly_features.shape, y.shape, x.shape"
   ]
  },
  {
   "cell_type": "code",
   "execution_count": 28,
   "id": "7b9b5cbe",
   "metadata": {},
   "outputs": [
    {
     "data": {
      "text/html": [
       "<style>#sk-container-id-2 {color: black;background-color: white;}#sk-container-id-2 pre{padding: 0;}#sk-container-id-2 div.sk-toggleable {background-color: white;}#sk-container-id-2 label.sk-toggleable__label {cursor: pointer;display: block;width: 100%;margin-bottom: 0;padding: 0.3em;box-sizing: border-box;text-align: center;}#sk-container-id-2 label.sk-toggleable__label-arrow:before {content: \"▸\";float: left;margin-right: 0.25em;color: #696969;}#sk-container-id-2 label.sk-toggleable__label-arrow:hover:before {color: black;}#sk-container-id-2 div.sk-estimator:hover label.sk-toggleable__label-arrow:before {color: black;}#sk-container-id-2 div.sk-toggleable__content {max-height: 0;max-width: 0;overflow: hidden;text-align: left;background-color: #f0f8ff;}#sk-container-id-2 div.sk-toggleable__content pre {margin: 0.2em;color: black;border-radius: 0.25em;background-color: #f0f8ff;}#sk-container-id-2 input.sk-toggleable__control:checked~div.sk-toggleable__content {max-height: 200px;max-width: 100%;overflow: auto;}#sk-container-id-2 input.sk-toggleable__control:checked~label.sk-toggleable__label-arrow:before {content: \"▾\";}#sk-container-id-2 div.sk-estimator input.sk-toggleable__control:checked~label.sk-toggleable__label {background-color: #d4ebff;}#sk-container-id-2 div.sk-label input.sk-toggleable__control:checked~label.sk-toggleable__label {background-color: #d4ebff;}#sk-container-id-2 input.sk-hidden--visually {border: 0;clip: rect(1px 1px 1px 1px);clip: rect(1px, 1px, 1px, 1px);height: 1px;margin: -1px;overflow: hidden;padding: 0;position: absolute;width: 1px;}#sk-container-id-2 div.sk-estimator {font-family: monospace;background-color: #f0f8ff;border: 1px dotted black;border-radius: 0.25em;box-sizing: border-box;margin-bottom: 0.5em;}#sk-container-id-2 div.sk-estimator:hover {background-color: #d4ebff;}#sk-container-id-2 div.sk-parallel-item::after {content: \"\";width: 100%;border-bottom: 1px solid gray;flex-grow: 1;}#sk-container-id-2 div.sk-label:hover label.sk-toggleable__label {background-color: #d4ebff;}#sk-container-id-2 div.sk-serial::before {content: \"\";position: absolute;border-left: 1px solid gray;box-sizing: border-box;top: 0;bottom: 0;left: 50%;z-index: 0;}#sk-container-id-2 div.sk-serial {display: flex;flex-direction: column;align-items: center;background-color: white;padding-right: 0.2em;padding-left: 0.2em;position: relative;}#sk-container-id-2 div.sk-item {position: relative;z-index: 1;}#sk-container-id-2 div.sk-parallel {display: flex;align-items: stretch;justify-content: center;background-color: white;position: relative;}#sk-container-id-2 div.sk-item::before, #sk-container-id-2 div.sk-parallel-item::before {content: \"\";position: absolute;border-left: 1px solid gray;box-sizing: border-box;top: 0;bottom: 0;left: 50%;z-index: -1;}#sk-container-id-2 div.sk-parallel-item {display: flex;flex-direction: column;z-index: 1;position: relative;background-color: white;}#sk-container-id-2 div.sk-parallel-item:first-child::after {align-self: flex-end;width: 50%;}#sk-container-id-2 div.sk-parallel-item:last-child::after {align-self: flex-start;width: 50%;}#sk-container-id-2 div.sk-parallel-item:only-child::after {width: 0;}#sk-container-id-2 div.sk-dashed-wrapped {border: 1px dashed gray;margin: 0 0.4em 0.5em 0.4em;box-sizing: border-box;padding-bottom: 0.4em;background-color: white;}#sk-container-id-2 div.sk-label label {font-family: monospace;font-weight: bold;display: inline-block;line-height: 1.2em;}#sk-container-id-2 div.sk-label-container {text-align: center;}#sk-container-id-2 div.sk-container {/* jupyter's `normalize.less` sets `[hidden] { display: none; }` but bootstrap.min.css set `[hidden] { display: none !important; }` so we also need the `!important` here to be able to override the default hidden behavior on the sphinx rendered scikit-learn.org. See: https://github.com/scikit-learn/scikit-learn/issues/21755 */display: inline-block !important;position: relative;}#sk-container-id-2 div.sk-text-repr-fallback {display: none;}</style><div id=\"sk-container-id-2\" class=\"sk-top-container\"><div class=\"sk-text-repr-fallback\"><pre>LinearRegression()</pre><b>In a Jupyter environment, please rerun this cell to show the HTML representation or trust the notebook. <br />On GitHub, the HTML representation is unable to render, please try loading this page with nbviewer.org.</b></div><div class=\"sk-container\" hidden><div class=\"sk-item\"><div class=\"sk-estimator sk-toggleable\"><input class=\"sk-toggleable__control sk-hidden--visually\" id=\"sk-estimator-id-2\" type=\"checkbox\" checked><label for=\"sk-estimator-id-2\" class=\"sk-toggleable__label sk-toggleable__label-arrow\">LinearRegression</label><div class=\"sk-toggleable__content\"><pre>LinearRegression()</pre></div></div></div></div></div>"
      ],
      "text/plain": [
       "LinearRegression()"
      ]
     },
     "execution_count": 28,
     "metadata": {},
     "output_type": "execute_result"
    }
   ],
   "source": [
    "reg.fit(poly_features, y)"
   ]
  },
  {
   "cell_type": "code",
   "execution_count": 1187,
   "id": "129ce90b",
   "metadata": {},
   "outputs": [],
   "source": [
    "# reg.fit(x, y) # old"
   ]
  },
  {
   "cell_type": "code",
   "execution_count": 29,
   "id": "73f474e5",
   "metadata": {
    "scrolled": true
   },
   "outputs": [
    {
     "name": "stdout",
     "output_type": "stream",
     "text": [
      "[ 1.30293902e+07  3.87775978e+01  1.15623306e+05 -9.18736120e+04\n",
      " -4.44943861e+03 -1.43889413e+07 -7.57281940e+00 -2.56958873e+04\n",
      "  1.94711808e+04  5.71877713e+03  5.23087510e+00 -1.74047163e+00\n",
      " -1.66498127e+00  1.33613549e+00 -1.58854638e+04  1.29760786e+04\n",
      " -3.36403875e+02  1.74359784e+02  4.83399926e+02  1.49478025e+02\n",
      " -3.93029234e+06 -3.97563189e-01 -1.47782543e+03  2.42490498e+03\n",
      "  1.44270239e+03 -1.20405632e+00 -1.17434989e+00  1.06703171e+00\n",
      "  7.57643725e-01  9.74192479e+02 -1.41381498e+03 -3.03424912e+03\n",
      "  3.14728327e+02  2.44325659e+03  1.20033470e+02 -2.56073338e-01\n",
      "  3.42194785e-01  1.17180230e-01  2.66506542e-02  8.23656446e-01\n",
      " -3.72470029e-01  1.16354834e-01 -7.81972831e-02  2.64533844e-01\n",
      "  4.85083734e-01  6.89890324e+02 -5.40252440e+02  4.26094156e+01\n",
      "  7.00663537e+01  5.34737020e+01 -4.38719225e+01 -9.70045164e+01\n",
      " -7.03492882e+01  4.44762591e+01 -7.18897735e+00  6.93272956e+06\n",
      "  3.93291304e+01  2.24087238e+04 -1.46965186e+04 -2.96457951e+03\n",
      " -2.17192058e+01  4.86949790e+01 -2.32386629e+02  1.25540321e+02\n",
      " -2.45390816e+03  1.37113402e+03  1.93949598e+03  7.37570732e+02\n",
      " -1.88883698e+03 -2.49550643e+01  1.01627814e+00 -8.22707501e+00\n",
      "  1.35072883e+01 -4.92986339e+00  1.02053446e+01 -1.98794125e+00\n",
      "  5.16882248e+00 -6.97974432e+00 -2.05357341e+00 -8.37638618e-01\n",
      "  6.25235394e+01  1.38199469e+01  1.45628387e+01 -2.74646302e+01\n",
      " -1.58852289e+01  2.12897663e+01 -3.38151410e+01  8.72227187e+00\n",
      " -1.45674449e+01 -2.02267753e+00  4.15335874e-02 -7.23589046e-01\n",
      "  4.69533695e-01 -1.87525203e-03  3.48093427e+00 -4.46480542e+00\n",
      "  1.31994298e+00  1.50754431e+00 -1.30233250e+00 -6.91147918e-02\n",
      " -4.78460404e+00  6.68297683e+00 -1.05012942e+00 -2.01335611e+00\n",
      " -4.22545129e-01  2.89936261e-01 -2.23707887e-01  1.10651636e+00\n",
      "  1.96861652e-02 -3.12683401e-02 -7.35802710e+00 -5.61650425e+00\n",
      " -8.64915215e-01  1.30060456e+01 -1.80521292e+00  3.96337044e-01\n",
      " -5.23409134e+00  1.33172002e+00 -9.72974705e-01  2.62001632e-01\n",
      "  2.58800777e+00  9.37405665e-01  1.18597040e-01 -4.15598668e-01\n",
      "  1.86501567e-01 -1.50401399e+06  2.42989352e+02 -3.54282756e+03\n",
      "  2.00116175e+03  7.12222619e+02 -1.83027687e+01 -5.69803037e+01\n",
      "  8.30525738e+01 -2.76238078e+01  2.23287619e+02 -1.47267294e+02\n",
      " -4.73925618e+02 -6.87175941e+01  4.57685185e+02  3.27261141e+00\n",
      "  6.54091866e-01  6.95683547e-01 -4.04563492e-01  1.62417513e-01\n",
      "  3.76939613e+00 -3.50234009e+00  9.51719408e-01  2.21320717e-01\n",
      " -9.71854580e-01  4.83118207e-03  1.14891900e+01 -6.90988063e+00\n",
      "  5.14609576e+00  1.89722569e+00 -1.39082988e-01 -1.43291665e-01\n",
      " -3.88817116e+00 -3.76724094e+00 -4.17991165e-01  2.65907939e-01\n",
      " -1.19311409e-02  5.83614721e-02 -1.00424315e-01  2.70969481e-02\n",
      "  3.04655144e-02 -1.02240667e-01 -6.68349259e-02  7.67376977e-02\n",
      "  5.59380987e-02  8.09601974e-03 -9.41767830e-02 -2.25626613e-01\n",
      " -1.55404570e-01  3.76197971e-01  2.70220210e-01 -3.54656484e-03\n",
      " -8.77412625e-02 -1.20792813e-01 -1.53267388e-02  6.85270014e-03\n",
      " -1.29456295e+00  1.30740655e+00  1.27687860e-01 -9.59056437e-01\n",
      " -3.82861493e-01 -2.25954413e-01  3.43937663e-01  9.89191729e-02\n",
      "  1.82292335e-01 -1.22149386e-01  4.17571786e-01  1.12553723e-01\n",
      " -4.29973988e-02  1.28822418e-01  1.31142209e-04 -4.18419018e-04\n",
      "  6.77714543e-03 -4.38043702e-03  2.45874166e-04 -2.39354949e-02\n",
      "  3.15666771e-02 -1.28309088e-02 -1.13359881e-02  1.17040568e-02\n",
      "  2.30577774e-04 -7.95711856e-03  1.26861876e-02  8.11088295e-03\n",
      " -1.07008305e-02  2.08289002e-03  1.27023098e-03  5.15420467e-03\n",
      " -7.37080374e-03 -1.26518070e-03  8.18762928e-05  5.12643019e-02\n",
      " -2.09447771e-02  8.38943323e-03 -9.07046056e-02  1.85269213e-02\n",
      " -1.80789698e-02  8.27692477e-02 -3.02752604e-02  1.63556327e-02\n",
      " -6.93929149e-04 -1.90706064e-02  6.61086920e-03 -1.15776993e-03\n",
      " -5.50314857e-04  4.18394804e-04  2.34072437e-02  4.45368346e-02\n",
      " -3.49561684e-04  1.30131908e-02 -1.85555110e-02  1.48995430e-02\n",
      " -5.65370600e-02  3.74830700e-02 -6.20375387e-03  6.62000850e-03\n",
      "  4.75417980e-03 -9.60574835e-03  4.07459959e-03 -7.71888578e-03\n",
      " -9.37225763e-04 -7.71311368e-03 -1.20213183e-02 -3.16407625e-03\n",
      "  1.92526728e-03  2.05011619e-03 -1.30609563e-03]\n",
      "-2058.2450597240822\n"
     ]
    }
   ],
   "source": [
    "print(reg.coef_)\n",
    "print(reg.intercept_)"
   ]
  },
  {
   "cell_type": "code",
   "execution_count": 30,
   "id": "b360e4b6",
   "metadata": {},
   "outputs": [
    {
     "data": {
      "text/plain": [
       "0.5287691660972018"
      ]
     },
     "execution_count": 30,
     "metadata": {},
     "output_type": "execute_result"
    }
   ],
   "source": [
    "reg.score(poly_features, y) # train score "
   ]
  },
  {
   "cell_type": "code",
   "execution_count": null,
   "id": "de515ec4",
   "metadata": {},
   "outputs": [],
   "source": [
    "r2_sequar"
   ]
  },
  {
   "cell_type": "code",
   "execution_count": 1194,
   "id": "62d42b0c",
   "metadata": {},
   "outputs": [],
   "source": [
    "#reg.score(poly_features, y_test)"
   ]
  },
  {
   "cell_type": "code",
   "execution_count": 1195,
   "id": "80d0f0ff",
   "metadata": {
    "collapsed": true
   },
   "outputs": [
    {
     "ename": "NameError",
     "evalue": "name 'X_NEW_TEST' is not defined",
     "output_type": "error",
     "traceback": [
      "\u001b[1;31m---------------------------------------------------------------------------\u001b[0m",
      "\u001b[1;31mNameError\u001b[0m                                 Traceback (most recent call last)",
      "Cell \u001b[1;32mIn[1195], line 1\u001b[0m\n\u001b[1;32m----> 1\u001b[0m \u001b[43mX_NEW_TEST\u001b[49m \n\u001b[0;32m      2\u001b[0m poly_features_test \u001b[38;5;241m=\u001b[39m poly\u001b[38;5;241m.\u001b[39mfit_transform(X_NEW_TEST)\n\u001b[0;32m      3\u001b[0m reg\u001b[38;5;241m.\u001b[39mscore(poly_features_test, y_test)\n",
      "\u001b[1;31mNameError\u001b[0m: name 'X_NEW_TEST' is not defined"
     ]
    }
   ],
   "source": [
    "X_NEW_TEST \n",
    "poly_features_test = poly.fit_transform(X_NEW_TEST)\n",
    "reg.score(poly_features_test, y_test)"
   ]
  },
  {
   "cell_type": "code",
   "execution_count": 33,
   "id": "4e71c9ed",
   "metadata": {},
   "outputs": [
    {
     "name": "stdout",
     "output_type": "stream",
     "text": [
      "0.18073476736804084\n",
      "4044645265.1189404\n"
     ]
    }
   ],
   "source": [
    "# Select the features to use\n",
    "features = [\"experience_level\",\"remote_ratio\",\"company_location\",\"employee_residence\",\"job_title\"]\n",
    "\n",
    "# Split the data into training and test sets\n",
    "X_train, X_test, y_train, y_test = train_test_split(data1[features], data1[\"salary_in_usd\"], test_size=0.25)\n",
    "\n",
    "# Create the model\n",
    "model = LinearRegression()\n",
    "\n",
    "# Train the model\n",
    "model.fit(data1[features], data1[\"salary_in_usd\"])\n",
    "\n",
    "# Predict the salaries\n",
    "predicted_values = model.predict(data1[features])\n",
    "\n",
    "# Calculate the MSE\n",
    "mse = np.mean((predicted_values - data1[\"salary_in_usd\"])**2)\n",
    "\n",
    "# Print the score\n",
    "score = model.score(data1[features], data1[\"salary_in_usd\"])\n",
    "\n",
    "print(score)\n",
    "print(mse)"
   ]
  },
  {
   "cell_type": "code",
   "execution_count": 34,
   "id": "60025574",
   "metadata": {},
   "outputs": [
    {
     "name": "stdout",
     "output_type": "stream",
     "text": [
      "0.18552295833072896\n"
     ]
    }
   ],
   "source": [
    "from sklearn.linear_model import LinearRegression\n",
    "from sklearn import metrics\n",
    "\n",
    "#initiate linear regression model\n",
    "model = LinearRegression()\n",
    "\n",
    "#fit regression model\n",
    "model.fit(X_train, y_train)\n",
    "\n",
    "#calculate R-squared of regression model\n",
    "r_squared = model.score(X_train, y_train)\n",
    "\n",
    "#view R-squared value\n",
    "print(r_squared)"
   ]
  },
  {
   "cell_type": "code",
   "execution_count": 1010,
   "id": "776db99f",
   "metadata": {},
   "outputs": [
    {
     "data": {
      "text/plain": [
       "(312,)"
      ]
     },
     "execution_count": 1010,
     "metadata": {},
     "output_type": "execute_result"
    }
   ],
   "source": [
    "y_pred.shape"
   ]
  },
  {
   "cell_type": "code",
   "execution_count": 1011,
   "id": "a1515646",
   "metadata": {},
   "outputs": [
    {
     "data": {
      "text/plain": [
       "(1247,)"
      ]
     },
     "execution_count": 1011,
     "metadata": {},
     "output_type": "execute_result"
    }
   ],
   "source": [
    "y.shape"
   ]
  },
  {
   "cell_type": "markdown",
   "id": "09299c1f",
   "metadata": {},
   "source": [
    "# Training using DecisionTreeRegressor"
   ]
  },
  {
   "cell_type": "code",
   "execution_count": 40,
   "id": "b78a1d1c",
   "metadata": {},
   "outputs": [
    {
     "data": {
      "text/html": [
       "<style>#sk-container-id-4 {color: black;background-color: white;}#sk-container-id-4 pre{padding: 0;}#sk-container-id-4 div.sk-toggleable {background-color: white;}#sk-container-id-4 label.sk-toggleable__label {cursor: pointer;display: block;width: 100%;margin-bottom: 0;padding: 0.3em;box-sizing: border-box;text-align: center;}#sk-container-id-4 label.sk-toggleable__label-arrow:before {content: \"▸\";float: left;margin-right: 0.25em;color: #696969;}#sk-container-id-4 label.sk-toggleable__label-arrow:hover:before {color: black;}#sk-container-id-4 div.sk-estimator:hover label.sk-toggleable__label-arrow:before {color: black;}#sk-container-id-4 div.sk-toggleable__content {max-height: 0;max-width: 0;overflow: hidden;text-align: left;background-color: #f0f8ff;}#sk-container-id-4 div.sk-toggleable__content pre {margin: 0.2em;color: black;border-radius: 0.25em;background-color: #f0f8ff;}#sk-container-id-4 input.sk-toggleable__control:checked~div.sk-toggleable__content {max-height: 200px;max-width: 100%;overflow: auto;}#sk-container-id-4 input.sk-toggleable__control:checked~label.sk-toggleable__label-arrow:before {content: \"▾\";}#sk-container-id-4 div.sk-estimator input.sk-toggleable__control:checked~label.sk-toggleable__label {background-color: #d4ebff;}#sk-container-id-4 div.sk-label input.sk-toggleable__control:checked~label.sk-toggleable__label {background-color: #d4ebff;}#sk-container-id-4 input.sk-hidden--visually {border: 0;clip: rect(1px 1px 1px 1px);clip: rect(1px, 1px, 1px, 1px);height: 1px;margin: -1px;overflow: hidden;padding: 0;position: absolute;width: 1px;}#sk-container-id-4 div.sk-estimator {font-family: monospace;background-color: #f0f8ff;border: 1px dotted black;border-radius: 0.25em;box-sizing: border-box;margin-bottom: 0.5em;}#sk-container-id-4 div.sk-estimator:hover {background-color: #d4ebff;}#sk-container-id-4 div.sk-parallel-item::after {content: \"\";width: 100%;border-bottom: 1px solid gray;flex-grow: 1;}#sk-container-id-4 div.sk-label:hover label.sk-toggleable__label {background-color: #d4ebff;}#sk-container-id-4 div.sk-serial::before {content: \"\";position: absolute;border-left: 1px solid gray;box-sizing: border-box;top: 0;bottom: 0;left: 50%;z-index: 0;}#sk-container-id-4 div.sk-serial {display: flex;flex-direction: column;align-items: center;background-color: white;padding-right: 0.2em;padding-left: 0.2em;position: relative;}#sk-container-id-4 div.sk-item {position: relative;z-index: 1;}#sk-container-id-4 div.sk-parallel {display: flex;align-items: stretch;justify-content: center;background-color: white;position: relative;}#sk-container-id-4 div.sk-item::before, #sk-container-id-4 div.sk-parallel-item::before {content: \"\";position: absolute;border-left: 1px solid gray;box-sizing: border-box;top: 0;bottom: 0;left: 50%;z-index: -1;}#sk-container-id-4 div.sk-parallel-item {display: flex;flex-direction: column;z-index: 1;position: relative;background-color: white;}#sk-container-id-4 div.sk-parallel-item:first-child::after {align-self: flex-end;width: 50%;}#sk-container-id-4 div.sk-parallel-item:last-child::after {align-self: flex-start;width: 50%;}#sk-container-id-4 div.sk-parallel-item:only-child::after {width: 0;}#sk-container-id-4 div.sk-dashed-wrapped {border: 1px dashed gray;margin: 0 0.4em 0.5em 0.4em;box-sizing: border-box;padding-bottom: 0.4em;background-color: white;}#sk-container-id-4 div.sk-label label {font-family: monospace;font-weight: bold;display: inline-block;line-height: 1.2em;}#sk-container-id-4 div.sk-label-container {text-align: center;}#sk-container-id-4 div.sk-container {/* jupyter's `normalize.less` sets `[hidden] { display: none; }` but bootstrap.min.css set `[hidden] { display: none !important; }` so we also need the `!important` here to be able to override the default hidden behavior on the sphinx rendered scikit-learn.org. See: https://github.com/scikit-learn/scikit-learn/issues/21755 */display: inline-block !important;position: relative;}#sk-container-id-4 div.sk-text-repr-fallback {display: none;}</style><div id=\"sk-container-id-4\" class=\"sk-top-container\"><div class=\"sk-text-repr-fallback\"><pre>DecisionTreeRegressor(max_depth=5, min_samples_leaf=2, min_samples_split=5,\n",
       "                      random_state=0)</pre><b>In a Jupyter environment, please rerun this cell to show the HTML representation or trust the notebook. <br />On GitHub, the HTML representation is unable to render, please try loading this page with nbviewer.org.</b></div><div class=\"sk-container\" hidden><div class=\"sk-item\"><div class=\"sk-estimator sk-toggleable\"><input class=\"sk-toggleable__control sk-hidden--visually\" id=\"sk-estimator-id-4\" type=\"checkbox\" checked><label for=\"sk-estimator-id-4\" class=\"sk-toggleable__label sk-toggleable__label-arrow\">DecisionTreeRegressor</label><div class=\"sk-toggleable__content\"><pre>DecisionTreeRegressor(max_depth=5, min_samples_leaf=2, min_samples_split=5,\n",
       "                      random_state=0)</pre></div></div></div></div></div>"
      ],
      "text/plain": [
       "DecisionTreeRegressor(max_depth=5, min_samples_leaf=2, min_samples_split=5,\n",
       "                      random_state=0)"
      ]
     },
     "execution_count": 40,
     "metadata": {},
     "output_type": "execute_result"
    }
   ],
   "source": [
    "regressor = DecisionTreeRegressor(max_depth=5, min_samples_leaf=2, min_samples_split=5, random_state=0)\n",
    "regressor.fit(x, y)"
   ]
  },
  {
   "cell_type": "code",
   "execution_count": 41,
   "id": "251a312d",
   "metadata": {},
   "outputs": [
    {
     "ename": "NameError",
     "evalue": "name 'decision_tree_regression' is not defined",
     "output_type": "error",
     "traceback": [
      "\u001b[1;31m---------------------------------------------------------------------------\u001b[0m",
      "\u001b[1;31mNameError\u001b[0m                                 Traceback (most recent call last)",
      "Cell \u001b[1;32mIn[41], line 3\u001b[0m\n\u001b[0;32m      1\u001b[0m \u001b[38;5;28;01mfrom\u001b[39;00m \u001b[38;5;21;01msklearn\u001b[39;00m\u001b[38;5;21;01m.\u001b[39;00m\u001b[38;5;21;01mtree\u001b[39;00m \u001b[38;5;28;01mimport\u001b[39;00m DecisionTreeRegressor\n\u001b[1;32m----> 3\u001b[0m regressor \u001b[38;5;241m=\u001b[39m \u001b[43mdecision_tree_regression\u001b[49m(x, y)\n\u001b[0;32m      5\u001b[0m \u001b[38;5;28mprint\u001b[39m(regressor\u001b[38;5;241m.\u001b[39mpredict(x))\n",
      "\u001b[1;31mNameError\u001b[0m: name 'decision_tree_regression' is not defined"
     ]
    }
   ],
   "source": [
    "from sklearn.tree import DecisionTreeRegressor\n",
    "\n",
    "regressor = decision_tree_regression(x, y)\n",
    "\n",
    "print(regressor.predict(x))"
   ]
  },
  {
   "cell_type": "code",
   "execution_count": 37,
   "id": "bd6c5c6d",
   "metadata": {},
   "outputs": [
    {
     "data": {
      "text/plain": [
       "[Text(0.4891304347826087, 0.9166666666666666, 'x[0] <= 0.5\\nsquared_error = 4936917989.459\\nsamples = 1247\\nvalue = 120278.219'),\n",
       " Text(0.2608695652173913, 0.75, 'x[2] <= 51.0\\nsquared_error = 984531280.724\\nsamples = 215\\nvalue = 63579.474'),\n",
       " Text(0.17391304347826086, 0.5833333333333334, 'x[2] <= 29.5\\nsquared_error = 944301535.484\\nsamples = 84\\nvalue = 46008.667'),\n",
       " Text(0.08695652173913043, 0.4166666666666667, 'x[4] <= 28.5\\nsquared_error = 808366611.332\\nsamples = 57\\nvalue = 53413.298'),\n",
       " Text(0.043478260869565216, 0.25, 'x[3] <= 12.5\\nsquared_error = 1217853901.598\\nsamples = 26\\nvalue = 62359.308'),\n",
       " Text(0.021739130434782608, 0.08333333333333333, 'squared_error = 2147342753.107\\nsamples = 11\\nvalue = 76659.727'),\n",
       " Text(0.06521739130434782, 0.08333333333333333, 'squared_error = 276283979.156\\nsamples = 15\\nvalue = 51872.333'),\n",
       " Text(0.13043478260869565, 0.25, 'x[3] <= 9.0\\nsquared_error = 341506232.608\\nsamples = 31\\nvalue = 45910.194'),\n",
       " Text(0.10869565217391304, 0.08333333333333333, 'squared_error = 536047979.061\\nsamples = 7\\nvalue = 33078.286'),\n",
       " Text(0.15217391304347827, 0.08333333333333333, 'squared_error = 222732328.556\\nsamples = 24\\nvalue = 49652.833'),\n",
       " Text(0.2608695652173913, 0.4166666666666667, 'x[2] <= 30.5\\nsquared_error = 871166639.407\\nsamples = 27\\nvalue = 30376.667'),\n",
       " Text(0.21739130434782608, 0.25, 'x[4] <= 61.5\\nsquared_error = 16048166.545\\nsamples = 11\\nvalue = 8284.0'),\n",
       " Text(0.1956521739130435, 0.08333333333333333, 'squared_error = 15559352.025\\nsamples = 9\\nvalue = 7495.444'),\n",
       " Text(0.2391304347826087, 0.08333333333333333, 'squared_error = 2857790.25\\nsamples = 2\\nvalue = 11832.5'),\n",
       " Text(0.30434782608695654, 0.25, 'x[3] <= 42.5\\nsquared_error = 892804658.359\\nsamples = 16\\nvalue = 45565.375'),\n",
       " Text(0.2826086956521739, 0.08333333333333333, 'squared_error = 732573814.91\\nsamples = 12\\nvalue = 55192.083'),\n",
       " Text(0.32608695652173914, 0.08333333333333333, 'squared_error = 261415028.688\\nsamples = 4\\nvalue = 16685.25'),\n",
       " Text(0.34782608695652173, 0.5833333333333334, 'x[4] <= 3.0\\nsquared_error = 685420796.982\\nsamples = 131\\nvalue = 74846.252'),\n",
       " Text(0.32608695652173914, 0.4166666666666667, 'squared_error = 5306640000.0\\nsamples = 5\\nvalue = 105400.0'),\n",
       " Text(0.3695652173913043, 0.4166666666666667, 'x[3] <= 21.5\\nsquared_error = 463524145.111\\nsamples = 126\\nvalue = 73633.802'),\n",
       " Text(0.34782608695652173, 0.25, 'squared_error = 1806250000.0\\nsamples = 2\\nvalue = 107500.0'),\n",
       " Text(0.391304347826087, 0.25, 'x[4] <= 14.5\\nsquared_error = 423070210.438\\nsamples = 124\\nvalue = 73087.573'),\n",
       " Text(0.3695652173913043, 0.08333333333333333, 'squared_error = 206296809.086\\nsamples = 43\\nvalue = 69239.535'),\n",
       " Text(0.41304347826086957, 0.08333333333333333, 'squared_error = 526113760.427\\nsamples = 81\\nvalue = 75130.358'),\n",
       " Text(0.717391304347826, 0.75, 'x[3] <= 50.5\\nsquared_error = 4951063820.872\\nsamples = 1032\\nvalue = 132090.457'),\n",
       " Text(0.5978260869565217, 0.5833333333333334, 'x[3] <= 21.0\\nsquared_error = 3431979640.979\\nsamples = 236\\nvalue = 89416.11'),\n",
       " Text(0.5217391304347826, 0.4166666666666667, 'x[4] <= 66.0\\nsquared_error = 3066397250.47\\nsamples = 136\\nvalue = 106689.471'),\n",
       " Text(0.4782608695652174, 0.25, 'x[2] <= 51.5\\nsquared_error = 2764429851.824\\nsamples = 106\\nvalue = 96633.396'),\n",
       " Text(0.45652173913043476, 0.08333333333333333, 'squared_error = 2189666734.419\\nsamples = 97\\nvalue = 92588.186'),\n",
       " Text(0.5, 0.08333333333333333, 'squared_error = 6881915494.395\\nsamples = 9\\nvalue = 140231.778'),\n",
       " Text(0.5652173913043478, 0.25, 'x[2] <= 4.0\\nsquared_error = 2513556849.329\\nsamples = 30\\nvalue = 142220.933'),\n",
       " Text(0.5434782608695652, 0.08333333333333333, 'squared_error = 250019344.0\\nsamples = 2\\nvalue = 42812.0'),\n",
       " Text(0.5869565217391305, 0.08333333333333333, 'squared_error = 1918952179.316\\nsamples = 28\\nvalue = 149321.571'),\n",
       " Text(0.6739130434782609, 0.4166666666666667, 'x[4] <= 81.5\\nsquared_error = 2971526613.364\\nsamples = 100\\nvalue = 65924.34'),\n",
       " Text(0.6521739130434783, 0.25, 'x[1] <= 25.0\\nsquared_error = 2798707591.912\\nsamples = 97\\nvalue = 63602.412'),\n",
       " Text(0.6304347826086957, 0.08333333333333333, 'squared_error = 655656492.133\\nsamples = 19\\nvalue = 39242.842'),\n",
       " Text(0.6739130434782609, 0.08333333333333333, 'squared_error = 3140980179.515\\nsamples = 78\\nvalue = 69536.154'),\n",
       " Text(0.6956521739130435, 0.25, 'squared_error = 2748666666.667\\nsamples = 3\\nvalue = 141000.0'),\n",
       " Text(0.8369565217391305, 0.5833333333333334, 'x[0] <= 1.5\\nsquared_error = 4701443471.609\\nsamples = 796\\nvalue = 144742.651'),\n",
       " Text(0.7608695652173914, 0.4166666666666667, 'x[1] <= 25.0\\nsquared_error = 7723059402.573\\nsamples = 57\\nvalue = 222087.333'),\n",
       " Text(0.7391304347826086, 0.25, 'squared_error = 1084614054.188\\nsamples = 4\\nvalue = 163574.25'),\n",
       " Text(0.782608695652174, 0.25, 'x[1] <= 75.0\\nsquared_error = 7946173807.639\\nsamples = 53\\nvalue = 226503.415'),\n",
       " Text(0.7608695652173914, 0.08333333333333333, 'squared_error = 14612293388.43\\nsamples = 11\\nvalue = 270045.455'),\n",
       " Text(0.8043478260869565, 0.08333333333333333, 'squared_error = 5573689505.105\\nsamples = 42\\nvalue = 215099.548'),\n",
       " Text(0.9130434782608695, 0.4166666666666667, 'x[0] <= 2.5\\nsquared_error = 3971378334.43\\nsamples = 739\\nvalue = 138776.958'),\n",
       " Text(0.8695652173913043, 0.25, 'x[4] <= 67.5\\nsquared_error = 1927176530.659\\nsamples = 314\\nvalue = 113434.366'),\n",
       " Text(0.8478260869565217, 0.08333333333333333, 'squared_error = 1851617897.29\\nsamples = 259\\nvalue = 109948.124'),\n",
       " Text(0.8913043478260869, 0.08333333333333333, 'squared_error = 1956236242.822\\nsamples = 55\\nvalue = 129851.4'),\n",
       " Text(0.9565217391304348, 0.25, 'x[4] <= 68.5\\nsquared_error = 4656598501.749\\nsamples = 425\\nvalue = 157500.661'),\n",
       " Text(0.9347826086956522, 0.08333333333333333, 'squared_error = 4398088421.273\\nsamples = 381\\nvalue = 154489.856'),\n",
       " Text(0.9782608695652174, 0.08333333333333333, 'squared_error = 6136877926.75\\nsamples = 44\\nvalue = 183571.5')]"
      ]
     },
     "execution_count": 37,
     "metadata": {},
     "output_type": "execute_result"
    },
    {
     "data": {
      "image/png": "[encoded data removed]",
      "text/plain": [
       "<Figure size 640x480 with 1 Axes>"
      ]
     },
     "metadata": {},
     "output_type": "display_data"
    }
   ],
   "source": [
    " tree.plot_tree(regressor)"
   ]
  },
  {
   "cell_type": "code",
   "execution_count": 854,
   "id": "aa2f5fdb",
   "metadata": {},
   "outputs": [
    {
     "name": "stdout",
     "output_type": "stream",
     "text": [
      "{'max_depth': 5, 'min_samples_leaf': 2, 'min_samples_split': 5}\n"
     ]
    }
   ],
   "source": [
    "from sklearn.model_selection import GridSearchCV\n",
    "\n",
    "# Create a hyperparameter grid\n",
    "hyperparameter_grid = {\n",
    "    \"max_depth\": [3, 4, 5, 6, 7],\n",
    "    \"min_samples_split\": [2, 5, 10, 15, 20],\n",
    "    \"min_samples_leaf\": [1, 2, 5, 10, 15],\n",
    "}\n",
    "\n",
    "# Create a GridSearchCV object\n",
    "grid_search = GridSearchCV(model, hyperparameter_grid, cv=5)\n",
    "\n",
    "# Fit the GridSearchCV object to the training data\n",
    "grid_search.fit(X_train, y_train)\n",
    "\n",
    "# Print the best parameters\n",
    "print(grid_search.best_params_)"
   ]
  },
  {
   "cell_type": "code",
   "execution_count": 1065,
   "id": "10d2192c",
   "metadata": {},
   "outputs": [
    {
     "name": "stdout",
     "output_type": "stream",
     "text": [
      "0.7760850401989547\n"
     ]
    }
   ],
   "source": [
    "# Create a DecisionTreeRegressor model.\n",
    "model = DecisionTreeRegressor()\n",
    "\n",
    "# Fit the model to the data.\n",
    "model.fit(x, y)\n",
    "\n",
    "# Calculate the r squared value.\n",
    "r_squared = model.score(x, y)\n",
    "\n",
    "# Print the r squared value.\n",
    "print(r_squared)"
   ]
  },
  {
   "cell_type": "code",
   "execution_count": 977,
   "id": "29844559",
   "metadata": {},
   "outputs": [
    {
     "data": {
      "text/plain": [
       "1105449793.1507437"
      ]
     },
     "execution_count": 977,
     "metadata": {},
     "output_type": "execute_result"
    }
   ],
   "source": [
    "mse = mean_squared_error(regressor.predict(x), y) \n",
    "mse"
   ]
  },
  {
   "cell_type": "code",
   "execution_count": null,
   "id": "83f44c23",
   "metadata": {},
   "outputs": [],
   "source": []
  },
  {
   "cell_type": "code",
   "execution_count": 1028,
   "id": "011c876c",
   "metadata": {},
   "outputs": [
    {
     "data": {
      "text/plain": [
       "((1247, 5), (1247,))"
      ]
     },
     "execution_count": 1028,
     "metadata": {},
     "output_type": "execute_result"
    }
   ],
   "source": [
    "x.shape, y.shape"
   ]
  },
  {
   "cell_type": "code",
   "execution_count": null,
   "id": "a99919f9",
   "metadata": {},
   "outputs": [],
   "source": []
  },
  {
   "cell_type": "markdown",
   "id": "8f643449",
   "metadata": {},
   "source": [
    "## Use Gradient based learning"
   ]
  },
  {
   "cell_type": "code",
   "execution_count": 985,
   "id": "cc55a5c0",
   "metadata": {},
   "outputs": [],
   "source": [
    "SGD_model = SGDRegressor(max_iter=1000000)"
   ]
  },
  {
   "cell_type": "code",
   "execution_count": 986,
   "id": "bd44014e",
   "metadata": {},
   "outputs": [
    {
     "data": {
      "text/html": [
       "<style>#sk-container-id-49 {color: black;background-color: white;}#sk-container-id-49 pre{padding: 0;}#sk-container-id-49 div.sk-toggleable {background-color: white;}#sk-container-id-49 label.sk-toggleable__label {cursor: pointer;display: block;width: 100%;margin-bottom: 0;padding: 0.3em;box-sizing: border-box;text-align: center;}#sk-container-id-49 label.sk-toggleable__label-arrow:before {content: \"▸\";float: left;margin-right: 0.25em;color: #696969;}#sk-container-id-49 label.sk-toggleable__label-arrow:hover:before {color: black;}#sk-container-id-49 div.sk-estimator:hover label.sk-toggleable__label-arrow:before {color: black;}#sk-container-id-49 div.sk-toggleable__content {max-height: 0;max-width: 0;overflow: hidden;text-align: left;background-color: #f0f8ff;}#sk-container-id-49 div.sk-toggleable__content pre {margin: 0.2em;color: black;border-radius: 0.25em;background-color: #f0f8ff;}#sk-container-id-49 input.sk-toggleable__control:checked~div.sk-toggleable__content {max-height: 200px;max-width: 100%;overflow: auto;}#sk-container-id-49 input.sk-toggleable__control:checked~label.sk-toggleable__label-arrow:before {content: \"▾\";}#sk-container-id-49 div.sk-estimator input.sk-toggleable__control:checked~label.sk-toggleable__label {background-color: #d4ebff;}#sk-container-id-49 div.sk-label input.sk-toggleable__control:checked~label.sk-toggleable__label {background-color: #d4ebff;}#sk-container-id-49 input.sk-hidden--visually {border: 0;clip: rect(1px 1px 1px 1px);clip: rect(1px, 1px, 1px, 1px);height: 1px;margin: -1px;overflow: hidden;padding: 0;position: absolute;width: 1px;}#sk-container-id-49 div.sk-estimator {font-family: monospace;background-color: #f0f8ff;border: 1px dotted black;border-radius: 0.25em;box-sizing: border-box;margin-bottom: 0.5em;}#sk-container-id-49 div.sk-estimator:hover {background-color: #d4ebff;}#sk-container-id-49 div.sk-parallel-item::after {content: \"\";width: 100%;border-bottom: 1px solid gray;flex-grow: 1;}#sk-container-id-49 div.sk-label:hover label.sk-toggleable__label {background-color: #d4ebff;}#sk-container-id-49 div.sk-serial::before {content: \"\";position: absolute;border-left: 1px solid gray;box-sizing: border-box;top: 0;bottom: 0;left: 50%;z-index: 0;}#sk-container-id-49 div.sk-serial {display: flex;flex-direction: column;align-items: center;background-color: white;padding-right: 0.2em;padding-left: 0.2em;position: relative;}#sk-container-id-49 div.sk-item {position: relative;z-index: 1;}#sk-container-id-49 div.sk-parallel {display: flex;align-items: stretch;justify-content: center;background-color: white;position: relative;}#sk-container-id-49 div.sk-item::before, #sk-container-id-49 div.sk-parallel-item::before {content: \"\";position: absolute;border-left: 1px solid gray;box-sizing: border-box;top: 0;bottom: 0;left: 50%;z-index: -1;}#sk-container-id-49 div.sk-parallel-item {display: flex;flex-direction: column;z-index: 1;position: relative;background-color: white;}#sk-container-id-49 div.sk-parallel-item:first-child::after {align-self: flex-end;width: 50%;}#sk-container-id-49 div.sk-parallel-item:last-child::after {align-self: flex-start;width: 50%;}#sk-container-id-49 div.sk-parallel-item:only-child::after {width: 0;}#sk-container-id-49 div.sk-dashed-wrapped {border: 1px dashed gray;margin: 0 0.4em 0.5em 0.4em;box-sizing: border-box;padding-bottom: 0.4em;background-color: white;}#sk-container-id-49 div.sk-label label {font-family: monospace;font-weight: bold;display: inline-block;line-height: 1.2em;}#sk-container-id-49 div.sk-label-container {text-align: center;}#sk-container-id-49 div.sk-container {/* jupyter's `normalize.less` sets `[hidden] { display: none; }` but bootstrap.min.css set `[hidden] { display: none !important; }` so we also need the `!important` here to be able to override the default hidden behavior on the sphinx rendered scikit-learn.org. See: https://github.com/scikit-learn/scikit-learn/issues/21755 */display: inline-block !important;position: relative;}#sk-container-id-49 div.sk-text-repr-fallback {display: none;}</style><div id=\"sk-container-id-49\" class=\"sk-top-container\"><div class=\"sk-text-repr-fallback\"><pre>SGDRegressor(max_iter=1000000)</pre><b>In a Jupyter environment, please rerun this cell to show the HTML representation or trust the notebook. <br />On GitHub, the HTML representation is unable to render, please try loading this page with nbviewer.org.</b></div><div class=\"sk-container\" hidden><div class=\"sk-item\"><div class=\"sk-estimator sk-toggleable\"><input class=\"sk-toggleable__control sk-hidden--visually\" id=\"sk-estimator-id-49\" type=\"checkbox\" checked><label for=\"sk-estimator-id-49\" class=\"sk-toggleable__label sk-toggleable__label-arrow\">SGDRegressor</label><div class=\"sk-toggleable__content\"><pre>SGDRegressor(max_iter=1000000)</pre></div></div></div></div></div>"
      ],
      "text/plain": [
       "SGDRegressor(max_iter=1000000)"
      ]
     },
     "execution_count": 986,
     "metadata": {},
     "output_type": "execute_result"
    }
   ],
   "source": [
    "SGD_model.fit(X_train, y_train) "
   ]
  },
  {
   "cell_type": "code",
   "execution_count": 987,
   "id": "a40a1345",
   "metadata": {},
   "outputs": [
    {
     "data": {
      "text/plain": [
       "-4609545566439522.0"
      ]
     },
     "execution_count": 987,
     "metadata": {},
     "output_type": "execute_result"
    }
   ],
   "source": [
    "score = SGD_model.score(X_train, y_train)\n",
    "score "
   ]
  },
  {
   "cell_type": "code",
   "execution_count": 988,
   "id": "4008d0ed",
   "metadata": {},
   "outputs": [
    {
     "data": {
      "text/plain": [
       "2.205465716174855e+25"
      ]
     },
     "execution_count": 988,
     "metadata": {},
     "output_type": "execute_result"
    }
   ],
   "source": [
    "mse = mean_squared_error(SGD_model.predict(X_train), y_train) \n",
    "mse"
   ]
  },
  {
   "cell_type": "code",
   "execution_count": 1087,
   "id": "9c7914fc",
   "metadata": {},
   "outputs": [
    {
     "data": {
      "text/plain": [
       "((872, 5), (872,))"
      ]
     },
     "execution_count": 1087,
     "metadata": {},
     "output_type": "execute_result"
    }
   ],
   "source": [
    "X_train.shape, y_train.shape"
   ]
  },
  {
   "cell_type": "code",
   "execution_count": 1090,
   "id": "2dc51e54",
   "metadata": {},
   "outputs": [
    {
     "name": "stdout",
     "output_type": "stream",
     "text": [
      "-4974036070.028548\n"
     ]
    }
   ],
   "source": [
    "from sklearn.linear_model import LinearRegression\n",
    "\n",
    "#initiate linear regression model\n",
    "model = SGDRegressor(max_iter=1000, learning_rate=\"adaptive\")\n",
    "\n",
    "#fit regression model\n",
    "model.fit(X_train, y_train)\n",
    "\n",
    "#calculate R-squared of regression model\n",
    "r_squared = model.score(X_train, y_train)\n",
    "\n",
    "#view R-squared value\n",
    "print(r_squared)"
   ]
  },
  {
   "cell_type": "code",
   "execution_count": null,
   "id": "87e1b3a6",
   "metadata": {},
   "outputs": [],
   "source": []
  },
  {
   "cell_type": "code",
   "execution_count": 1070,
   "id": "6fe0a6ca",
   "metadata": {},
   "outputs": [
    {
     "name": "stdout",
     "output_type": "stream",
     "text": [
      "-782605089121061.5\n"
     ]
    }
   ],
   "source": [
    "import numpy as np\n",
    "from sklearn.linear_model import LinearRegression\n",
    "from sklearn.ensemble import VotingRegressor\n",
    "from sklearn.metrics import r2_score\n",
    "\n",
    "# Create the base models.\n",
    "lr = LinearRegression()\n",
    "dr = DecisionTreeRegressor()\n",
    "sgd = SGDRegressor()\n",
    "\n",
    "# Create the voting regressor.\n",
    "ensemble = VotingRegressor(estimators=[('lr', lr), ('dr', dr), ('sgd', sgd)])\n",
    "\n",
    "# Fit the voting regressor to the data.\n",
    "ensemble.fit(X_train, y_train)\n",
    "\n",
    "# Predict the values.\n",
    "y_pred = ensemble.predict(X_test)\n",
    "\n",
    "# Calculate the r squared value.\n",
    "r_squared = r2_score(y_test, y_pred)\n",
    "\n",
    "print(r_squared)\n"
   ]
  },
  {
   "cell_type": "code",
   "execution_count": null,
   "id": "7deca375",
   "metadata": {},
   "outputs": [],
   "source": []
  },
  {
   "cell_type": "code",
   "execution_count": null,
   "id": "df3409d9",
   "metadata": {},
   "outputs": [],
   "source": []
  },
  {
   "cell_type": "markdown",
   "id": "313b3196",
   "metadata": {},
   "source": [
    "##  Model selection: train/test split"
   ]
  },
  {
   "cell_type": "code",
   "execution_count": 856,
   "id": "ba93aee5",
   "metadata": {},
   "outputs": [],
   "source": [
    "train_set, test_set = train_test_split(data1, test_size=0.2)"
   ]
  },
  {
   "cell_type": "code",
   "execution_count": 857,
   "id": "58ee2549",
   "metadata": {},
   "outputs": [
    {
     "data": {
      "text/plain": [
       "((997, 9), (250, 9))"
      ]
     },
     "execution_count": 857,
     "metadata": {},
     "output_type": "execute_result"
    }
   ],
   "source": [
    "train_set.shape, test_set.shape "
   ]
  },
  {
   "cell_type": "markdown",
   "id": "35709d49",
   "metadata": {},
   "source": [
    "### b) Test options and evaluation metric"
   ]
  },
  {
   "cell_type": "code",
   "execution_count": 858,
   "id": "6dfd601e",
   "metadata": {},
   "outputs": [
    {
     "name": "stdout",
     "output_type": "stream",
     "text": [
      "[nan nan nan nan nan]\n"
     ]
    },
    {
     "name": "stderr",
     "output_type": "stream",
     "text": [
      "C:\\Users\\bushr\\anaconda3\\lib\\site-packages\\sklearn\\model_selection\\_validation.py:794: UserWarning:\n",
      "\n",
      "Scoring failed. The score on this train-test partition for these parameters will be set to nan. Details: \n",
      "Traceback (most recent call last):\n",
      "  File \"C:\\Users\\bushr\\anaconda3\\lib\\site-packages\\sklearn\\metrics\\_scorer.py\", line 115, in __call__\n",
      "    score = scorer._score(cached_call, estimator, *args, **kwargs)\n",
      "  File \"C:\\Users\\bushr\\anaconda3\\lib\\site-packages\\sklearn\\metrics\\_scorer.py\", line 282, in _score\n",
      "    return self._sign * self._score_func(y_true, y_pred, **self._kwargs)\n",
      "  File \"C:\\Users\\bushr\\anaconda3\\lib\\site-packages\\sklearn\\utils\\_param_validation.py\", line 192, in wrapper\n",
      "    return func(*args, **kwargs)\n",
      "  File \"C:\\Users\\bushr\\anaconda3\\lib\\site-packages\\sklearn\\metrics\\_classification.py\", line 221, in accuracy_score\n",
      "    y_type, y_true, y_pred = _check_targets(y_true, y_pred)\n",
      "  File \"C:\\Users\\bushr\\anaconda3\\lib\\site-packages\\sklearn\\metrics\\_classification.py\", line 95, in _check_targets\n",
      "    raise ValueError(\n",
      "ValueError: Classification metrics can't handle a mix of multiclass and continuous targets\n",
      "\n",
      "\n",
      "C:\\Users\\bushr\\anaconda3\\lib\\site-packages\\sklearn\\model_selection\\_validation.py:794: UserWarning:\n",
      "\n",
      "Scoring failed. The score on this train-test partition for these parameters will be set to nan. Details: \n",
      "Traceback (most recent call last):\n",
      "  File \"C:\\Users\\bushr\\anaconda3\\lib\\site-packages\\sklearn\\metrics\\_scorer.py\", line 115, in __call__\n",
      "    score = scorer._score(cached_call, estimator, *args, **kwargs)\n",
      "  File \"C:\\Users\\bushr\\anaconda3\\lib\\site-packages\\sklearn\\metrics\\_scorer.py\", line 282, in _score\n",
      "    return self._sign * self._score_func(y_true, y_pred, **self._kwargs)\n",
      "  File \"C:\\Users\\bushr\\anaconda3\\lib\\site-packages\\sklearn\\utils\\_param_validation.py\", line 192, in wrapper\n",
      "    return func(*args, **kwargs)\n",
      "  File \"C:\\Users\\bushr\\anaconda3\\lib\\site-packages\\sklearn\\metrics\\_classification.py\", line 221, in accuracy_score\n",
      "    y_type, y_true, y_pred = _check_targets(y_true, y_pred)\n",
      "  File \"C:\\Users\\bushr\\anaconda3\\lib\\site-packages\\sklearn\\metrics\\_classification.py\", line 95, in _check_targets\n",
      "    raise ValueError(\n",
      "ValueError: Classification metrics can't handle a mix of multiclass and continuous targets\n",
      "\n",
      "\n",
      "C:\\Users\\bushr\\anaconda3\\lib\\site-packages\\sklearn\\model_selection\\_validation.py:794: UserWarning:\n",
      "\n",
      "Scoring failed. The score on this train-test partition for these parameters will be set to nan. Details: \n",
      "Traceback (most recent call last):\n",
      "  File \"C:\\Users\\bushr\\anaconda3\\lib\\site-packages\\sklearn\\metrics\\_scorer.py\", line 115, in __call__\n",
      "    score = scorer._score(cached_call, estimator, *args, **kwargs)\n",
      "  File \"C:\\Users\\bushr\\anaconda3\\lib\\site-packages\\sklearn\\metrics\\_scorer.py\", line 282, in _score\n",
      "    return self._sign * self._score_func(y_true, y_pred, **self._kwargs)\n",
      "  File \"C:\\Users\\bushr\\anaconda3\\lib\\site-packages\\sklearn\\utils\\_param_validation.py\", line 192, in wrapper\n",
      "    return func(*args, **kwargs)\n",
      "  File \"C:\\Users\\bushr\\anaconda3\\lib\\site-packages\\sklearn\\metrics\\_classification.py\", line 221, in accuracy_score\n",
      "    y_type, y_true, y_pred = _check_targets(y_true, y_pred)\n",
      "  File \"C:\\Users\\bushr\\anaconda3\\lib\\site-packages\\sklearn\\metrics\\_classification.py\", line 95, in _check_targets\n",
      "    raise ValueError(\n",
      "ValueError: Classification metrics can't handle a mix of multiclass and continuous targets\n",
      "\n",
      "\n",
      "C:\\Users\\bushr\\anaconda3\\lib\\site-packages\\sklearn\\model_selection\\_validation.py:794: UserWarning:\n",
      "\n",
      "Scoring failed. The score on this train-test partition for these parameters will be set to nan. Details: \n",
      "Traceback (most recent call last):\n",
      "  File \"C:\\Users\\bushr\\anaconda3\\lib\\site-packages\\sklearn\\metrics\\_scorer.py\", line 115, in __call__\n",
      "    score = scorer._score(cached_call, estimator, *args, **kwargs)\n",
      "  File \"C:\\Users\\bushr\\anaconda3\\lib\\site-packages\\sklearn\\metrics\\_scorer.py\", line 282, in _score\n",
      "    return self._sign * self._score_func(y_true, y_pred, **self._kwargs)\n",
      "  File \"C:\\Users\\bushr\\anaconda3\\lib\\site-packages\\sklearn\\utils\\_param_validation.py\", line 192, in wrapper\n",
      "    return func(*args, **kwargs)\n",
      "  File \"C:\\Users\\bushr\\anaconda3\\lib\\site-packages\\sklearn\\metrics\\_classification.py\", line 221, in accuracy_score\n",
      "    y_type, y_true, y_pred = _check_targets(y_true, y_pred)\n",
      "  File \"C:\\Users\\bushr\\anaconda3\\lib\\site-packages\\sklearn\\metrics\\_classification.py\", line 95, in _check_targets\n",
      "    raise ValueError(\n",
      "ValueError: Classification metrics can't handle a mix of multiclass and continuous targets\n",
      "\n",
      "\n",
      "C:\\Users\\bushr\\anaconda3\\lib\\site-packages\\sklearn\\model_selection\\_validation.py:794: UserWarning:\n",
      "\n",
      "Scoring failed. The score on this train-test partition for these parameters will be set to nan. Details: \n",
      "Traceback (most recent call last):\n",
      "  File \"C:\\Users\\bushr\\anaconda3\\lib\\site-packages\\sklearn\\metrics\\_scorer.py\", line 115, in __call__\n",
      "    score = scorer._score(cached_call, estimator, *args, **kwargs)\n",
      "  File \"C:\\Users\\bushr\\anaconda3\\lib\\site-packages\\sklearn\\metrics\\_scorer.py\", line 282, in _score\n",
      "    return self._sign * self._score_func(y_true, y_pred, **self._kwargs)\n",
      "  File \"C:\\Users\\bushr\\anaconda3\\lib\\site-packages\\sklearn\\utils\\_param_validation.py\", line 192, in wrapper\n",
      "    return func(*args, **kwargs)\n",
      "  File \"C:\\Users\\bushr\\anaconda3\\lib\\site-packages\\sklearn\\metrics\\_classification.py\", line 221, in accuracy_score\n",
      "    y_type, y_true, y_pred = _check_targets(y_true, y_pred)\n",
      "  File \"C:\\Users\\bushr\\anaconda3\\lib\\site-packages\\sklearn\\metrics\\_classification.py\", line 95, in _check_targets\n",
      "    raise ValueError(\n",
      "ValueError: Classification metrics can't handle a mix of multiclass and continuous targets\n",
      "\n",
      "\n"
     ]
    }
   ],
   "source": [
    "import sklearn.metrics as metrics\n",
    "import sklearn.model_selection as model_selection\n",
    "\n",
    "# Split the data into a training set and a test set\n",
    "X_train, X_test, y_train, y_test = model_selection.train_test_split(data1, data1[\"salary_in_usd\"], test_size=0.25)\n",
    "\n",
    "# Create a model and fit it to the training set\n",
    "model = SGDRegressor()\n",
    "model.fit(X_train, y_train)\n",
    "\n",
    "# Select the evaluation metrics\n",
    "metrics = [\"accuracy\"]\n",
    "\n",
    "# Evaluate the model on the test set using the selected metrics\n",
    "scores = model_selection.cross_val_score(model, X_test, y_test, scoring=\"accuracy\", cv=5)\n",
    "\n",
    "# Print the results of the evaluation\n",
    "print(scores)"
   ]
  },
  {
   "cell_type": "code",
   "execution_count": 859,
   "id": "a160ab9e",
   "metadata": {},
   "outputs": [
    {
     "name": "stdout",
     "output_type": "stream",
     "text": [
      "[0.46031746 0.31746032 0.38709677 0.46774194 0.41935484]\n"
     ]
    }
   ],
   "source": [
    "import sklearn.metrics as metrics\n",
    "import sklearn.model_selection as model_selection\n",
    "\n",
    "# Split the data into a training set and a test set\n",
    "X_train, X_test, y_train, y_test = model_selection.train_test_split(data1, data1[\"salary_in_usd\"], test_size=0.25)\n",
    "\n",
    "# Create a model and fit it to the training set\n",
    "model = DecisionTreeRegressor()\n",
    "model.fit(X_train, y_train)\n",
    "\n",
    "# Select the evaluation metrics\n",
    "metrics = [\"accuracy\"]\n",
    "\n",
    "# Evaluate the model on the test set using the selected metrics\n",
    "scores = model_selection.cross_val_score(model, X_test, y_test, scoring=\"accuracy\", cv=5)\n",
    "\n",
    "# Print the results of the evaluation\n",
    "print(scores)"
   ]
  },
  {
   "cell_type": "code",
   "execution_count": 587,
   "id": "4e9b4362",
   "metadata": {},
   "outputs": [
    {
     "data": {
      "text/html": [
       "<div>\n",
       "<style scoped>\n",
       "    .dataframe tbody tr th:only-of-type {\n",
       "        vertical-align: middle;\n",
       "    }\n",
       "\n",
       "    .dataframe tbody tr th {\n",
       "        vertical-align: top;\n",
       "    }\n",
       "\n",
       "    .dataframe thead th {\n",
       "        text-align: right;\n",
       "    }\n",
       "</style>\n",
       "<table border=\"1\" class=\"dataframe\">\n",
       "  <thead>\n",
       "    <tr style=\"text-align: right;\">\n",
       "      <th></th>\n",
       "      <th>work_year</th>\n",
       "      <th>experience_level</th>\n",
       "      <th>employment_type</th>\n",
       "      <th>job_title</th>\n",
       "      <th>salary_in_usd</th>\n",
       "      <th>employee_residence</th>\n",
       "      <th>remote_ratio</th>\n",
       "      <th>company_location</th>\n",
       "      <th>company_size</th>\n",
       "    </tr>\n",
       "  </thead>\n",
       "  <tbody>\n",
       "    <tr>\n",
       "      <th>0</th>\n",
       "      <td>2</td>\n",
       "      <td>0</td>\n",
       "      <td>2</td>\n",
       "      <td>13</td>\n",
       "      <td>63000</td>\n",
       "      <td>56</td>\n",
       "      <td>50</td>\n",
       "      <td>52</td>\n",
       "      <td>2</td>\n",
       "    </tr>\n",
       "    <tr>\n",
       "      <th>1</th>\n",
       "      <td>2</td>\n",
       "      <td>2</td>\n",
       "      <td>2</td>\n",
       "      <td>65</td>\n",
       "      <td>95000</td>\n",
       "      <td>56</td>\n",
       "      <td>0</td>\n",
       "      <td>52</td>\n",
       "      <td>1</td>\n",
       "    </tr>\n",
       "    <tr>\n",
       "      <th>2</th>\n",
       "      <td>2</td>\n",
       "      <td>2</td>\n",
       "      <td>2</td>\n",
       "      <td>65</td>\n",
       "      <td>70000</td>\n",
       "      <td>56</td>\n",
       "      <td>0</td>\n",
       "      <td>52</td>\n",
       "      <td>1</td>\n",
       "    </tr>\n",
       "    <tr>\n",
       "      <th>3</th>\n",
       "      <td>2</td>\n",
       "      <td>2</td>\n",
       "      <td>2</td>\n",
       "      <td>34</td>\n",
       "      <td>48853</td>\n",
       "      <td>8</td>\n",
       "      <td>50</td>\n",
       "      <td>9</td>\n",
       "      <td>0</td>\n",
       "    </tr>\n",
       "    <tr>\n",
       "      <th>4</th>\n",
       "      <td>2</td>\n",
       "      <td>0</td>\n",
       "      <td>0</td>\n",
       "      <td>14</td>\n",
       "      <td>120000</td>\n",
       "      <td>7</td>\n",
       "      <td>100</td>\n",
       "      <td>10</td>\n",
       "      <td>2</td>\n",
       "    </tr>\n",
       "    <tr>\n",
       "      <th>...</th>\n",
       "      <td>...</td>\n",
       "      <td>...</td>\n",
       "      <td>...</td>\n",
       "      <td>...</td>\n",
       "      <td>...</td>\n",
       "      <td>...</td>\n",
       "      <td>...</td>\n",
       "      <td>...</td>\n",
       "      <td>...</td>\n",
       "    </tr>\n",
       "    <tr>\n",
       "      <th>1242</th>\n",
       "      <td>0</td>\n",
       "      <td>2</td>\n",
       "      <td>2</td>\n",
       "      <td>14</td>\n",
       "      <td>96422</td>\n",
       "      <td>3</td>\n",
       "      <td>50</td>\n",
       "      <td>5</td>\n",
       "      <td>1</td>\n",
       "    </tr>\n",
       "    <tr>\n",
       "      <th>1243</th>\n",
       "      <td>1</td>\n",
       "      <td>3</td>\n",
       "      <td>2</td>\n",
       "      <td>46</td>\n",
       "      <td>82528</td>\n",
       "      <td>55</td>\n",
       "      <td>50</td>\n",
       "      <td>23</td>\n",
       "      <td>0</td>\n",
       "    </tr>\n",
       "    <tr>\n",
       "      <th>1244</th>\n",
       "      <td>1</td>\n",
       "      <td>3</td>\n",
       "      <td>2</td>\n",
       "      <td>58</td>\n",
       "      <td>126000</td>\n",
       "      <td>56</td>\n",
       "      <td>100</td>\n",
       "      <td>52</td>\n",
       "      <td>0</td>\n",
       "    </tr>\n",
       "    <tr>\n",
       "      <th>1245</th>\n",
       "      <td>1</td>\n",
       "      <td>2</td>\n",
       "      <td>2</td>\n",
       "      <td>40</td>\n",
       "      <td>57769</td>\n",
       "      <td>55</td>\n",
       "      <td>100</td>\n",
       "      <td>23</td>\n",
       "      <td>0</td>\n",
       "    </tr>\n",
       "    <tr>\n",
       "      <th>1246</th>\n",
       "      <td>1</td>\n",
       "      <td>2</td>\n",
       "      <td>2</td>\n",
       "      <td>82</td>\n",
       "      <td>66310</td>\n",
       "      <td>56</td>\n",
       "      <td>0</td>\n",
       "      <td>52</td>\n",
       "      <td>0</td>\n",
       "    </tr>\n",
       "  </tbody>\n",
       "</table>\n",
       "<p>1247 rows × 9 columns</p>\n",
       "</div>"
      ],
      "text/plain": [
       "      work_year  experience_level  employment_type  job_title  salary_in_usd  \\\n",
       "0             2                 0                2         13          63000   \n",
       "1             2                 2                2         65          95000   \n",
       "2             2                 2                2         65          70000   \n",
       "3             2                 2                2         34          48853   \n",
       "4             2                 0                0         14         120000   \n",
       "...         ...               ...              ...        ...            ...   \n",
       "1242          0                 2                2         14          96422   \n",
       "1243          1                 3                2         46          82528   \n",
       "1244          1                 3                2         58         126000   \n",
       "1245          1                 2                2         40          57769   \n",
       "1246          1                 2                2         82          66310   \n",
       "\n",
       "      employee_residence  remote_ratio  company_location  company_size  \n",
       "0                     56            50                52             2  \n",
       "1                     56             0                52             1  \n",
       "2                     56             0                52             1  \n",
       "3                      8            50                 9             0  \n",
       "4                      7           100                10             2  \n",
       "...                  ...           ...               ...           ...  \n",
       "1242                   3            50                 5             1  \n",
       "1243                  55            50                23             0  \n",
       "1244                  56           100                52             0  \n",
       "1245                  55           100                23             0  \n",
       "1246                  56             0                52             0  \n",
       "\n",
       "[1247 rows x 9 columns]"
      ]
     },
     "execution_count": 587,
     "metadata": {},
     "output_type": "execute_result"
    }
   ],
   "source": [
    "data1"
   ]
  },
  {
   "cell_type": "code",
   "execution_count": null,
   "id": "ed391be9",
   "metadata": {},
   "outputs": [],
   "source": []
  },
  {
   "cell_type": "markdown",
   "id": "38df0707",
   "metadata": {},
   "source": [
    "### c) Spot Check Algorithms"
   ]
  },
  {
   "cell_type": "code",
   "execution_count": null,
   "id": "3502bfde",
   "metadata": {},
   "outputs": [],
   "source": []
  },
  {
   "cell_type": "markdown",
   "id": "9f595455",
   "metadata": {},
   "source": [
    "### d) Compare Algorithms"
   ]
  },
  {
   "cell_type": "code",
   "execution_count": null,
   "id": "e9c6bf0c",
   "metadata": {},
   "outputs": [],
   "source": []
  },
  {
   "cell_type": "markdown",
   "id": "3c4fdcbe",
   "metadata": {},
   "source": [
    "# 5. Improve Accuracy"
   ]
  },
  {
   "cell_type": "code",
   "execution_count": null,
   "id": "1c37aa50",
   "metadata": {},
   "outputs": [],
   "source": []
  },
  {
   "cell_type": "markdown",
   "id": "ac20591b",
   "metadata": {},
   "source": [
    "### a) Algorithm Tuning"
   ]
  },
  {
   "cell_type": "code",
   "execution_count": null,
   "id": "08505912",
   "metadata": {},
   "outputs": [],
   "source": []
  },
  {
   "cell_type": "markdown",
   "id": "f37d1626",
   "metadata": {},
   "source": [
    "### b) Ensembles"
   ]
  },
  {
   "cell_type": "code",
   "execution_count": null,
   "id": "bb962bfc",
   "metadata": {},
   "outputs": [],
   "source": []
  },
  {
   "cell_type": "markdown",
   "id": "7c3d3346",
   "metadata": {},
   "source": [
    "# 6. Finalize Model"
   ]
  },
  {
   "cell_type": "markdown",
   "id": "edded5b1",
   "metadata": {},
   "source": [
    "### a) Predictions on validation dataset"
   ]
  },
  {
   "cell_type": "code",
   "execution_count": null,
   "id": "9a020efd",
   "metadata": {},
   "outputs": [],
   "source": []
  },
  {
   "cell_type": "markdown",
   "id": "4c4d1cdd",
   "metadata": {},
   "source": [
    "### b) Create standalone model on entire training dataset"
   ]
  },
  {
   "cell_type": "code",
   "execution_count": null,
   "id": "9beb730a",
   "metadata": {},
   "outputs": [],
   "source": []
  },
  {
   "cell_type": "markdown",
   "id": "59e0e54c",
   "metadata": {},
   "source": [
    "### c) Save model for later use"
   ]
  },
  {
   "cell_type": "code",
   "execution_count": null,
   "id": "bff4d6a7",
   "metadata": {},
   "outputs": [],
   "source": []
  },
  {
   "cell_type": "code",
   "execution_count": null,
   "id": "ef2952e6",
   "metadata": {},
   "outputs": [],
   "source": []
  }
 ],
 "metadata": {
  "kernelspec": {
   "display_name": "Python 3 (ipykernel)",
   "language": "python",
   "name": "python3"
  },
  "language_info": {
   "codemirror_mode": {
    "name": "ipython",
    "version": 3
   },
   "file_extension": ".py",
   "mimetype": "text/x-python",
   "name": "python",
   "nbconvert_exporter": "python",
   "pygments_lexer": "ipython3",
   "version": "3.10.9"
  }
 },
 "nbformat": 4,
 "nbformat_minor": 5
}
