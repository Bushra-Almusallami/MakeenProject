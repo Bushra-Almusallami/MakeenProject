{
 "cells": [
  {
   "cell_type": "code",
   "execution_count": 39,
   "metadata": {},
   "outputs": [],
   "source": [
    "# Dataset source: https://www.kaggle.com/datasets/uom190346a/sleep-health-and-lifestyle-dataset"
   ]
  },
  {
   "cell_type": "code",
   "execution_count": 20,
   "metadata": {},
   "outputs": [],
   "source": [
    "import pandas as pd\n",
    "from sklearn.compose import ColumnTransformer\n",
    "from sklearn.preprocessing import LabelEncoder\n",
    "from sklearn.preprocessing import OrdinalEncoder\n",
    "from sklearn.base import BaseEstimator,TransformerMixin\n",
    "import re\n",
    "from sklearn.ensemble import RandomForestClassifier\n",
    "from sklearn import tree\n",
    "from sklearn.model_selection import train_test_split\n",
    "from sklearn.ensemble import GradientBoostingRegressor"
   ]
  },
  {
   "cell_type": "code",
   "execution_count": 21,
   "metadata": {},
   "outputs": [],
   "source": [
    "dataset = pd.read_csv(\"./Sleep_health_and_lifestyle_dataset.csv\")"
   ]
  },
  {
   "cell_type": "code",
   "execution_count": 22,
   "metadata": {},
   "outputs": [
    {
     "data": {
      "text/html": [
       "<div>\n",
       "<style scoped>\n",
       "    .dataframe tbody tr th:only-of-type {\n",
       "        vertical-align: middle;\n",
       "    }\n",
       "\n",
       "    .dataframe tbody tr th {\n",
       "        vertical-align: top;\n",
       "    }\n",
       "\n",
       "    .dataframe thead th {\n",
       "        text-align: right;\n",
       "    }\n",
       "</style>\n",
       "<table border=\"1\" class=\"dataframe\">\n",
       "  <thead>\n",
       "    <tr style=\"text-align: right;\">\n",
       "      <th></th>\n",
       "      <th>Person ID</th>\n",
       "      <th>Gender</th>\n",
       "      <th>Age</th>\n",
       "      <th>Occupation</th>\n",
       "      <th>Sleep Duration</th>\n",
       "      <th>Quality of Sleep</th>\n",
       "      <th>Physical Activity Level</th>\n",
       "      <th>Stress Level</th>\n",
       "      <th>BMI Category</th>\n",
       "      <th>Blood Pressure</th>\n",
       "      <th>Heart Rate</th>\n",
       "      <th>Daily Steps</th>\n",
       "      <th>Sleep Disorder</th>\n",
       "    </tr>\n",
       "  </thead>\n",
       "  <tbody>\n",
       "    <tr>\n",
       "      <th>0</th>\n",
       "      <td>1</td>\n",
       "      <td>Male</td>\n",
       "      <td>27</td>\n",
       "      <td>Software Engineer</td>\n",
       "      <td>6.1</td>\n",
       "      <td>6</td>\n",
       "      <td>42</td>\n",
       "      <td>6</td>\n",
       "      <td>Overweight</td>\n",
       "      <td>126/83</td>\n",
       "      <td>77</td>\n",
       "      <td>4200</td>\n",
       "      <td>None</td>\n",
       "    </tr>\n",
       "    <tr>\n",
       "      <th>1</th>\n",
       "      <td>2</td>\n",
       "      <td>Male</td>\n",
       "      <td>28</td>\n",
       "      <td>Doctor</td>\n",
       "      <td>6.2</td>\n",
       "      <td>6</td>\n",
       "      <td>60</td>\n",
       "      <td>8</td>\n",
       "      <td>Normal</td>\n",
       "      <td>125/80</td>\n",
       "      <td>75</td>\n",
       "      <td>10000</td>\n",
       "      <td>None</td>\n",
       "    </tr>\n",
       "    <tr>\n",
       "      <th>2</th>\n",
       "      <td>3</td>\n",
       "      <td>Male</td>\n",
       "      <td>28</td>\n",
       "      <td>Doctor</td>\n",
       "      <td>6.2</td>\n",
       "      <td>6</td>\n",
       "      <td>60</td>\n",
       "      <td>8</td>\n",
       "      <td>Normal</td>\n",
       "      <td>125/80</td>\n",
       "      <td>75</td>\n",
       "      <td>10000</td>\n",
       "      <td>None</td>\n",
       "    </tr>\n",
       "    <tr>\n",
       "      <th>3</th>\n",
       "      <td>4</td>\n",
       "      <td>Male</td>\n",
       "      <td>28</td>\n",
       "      <td>Sales Representative</td>\n",
       "      <td>5.9</td>\n",
       "      <td>4</td>\n",
       "      <td>30</td>\n",
       "      <td>8</td>\n",
       "      <td>Obese</td>\n",
       "      <td>140/90</td>\n",
       "      <td>85</td>\n",
       "      <td>3000</td>\n",
       "      <td>Sleep Apnea</td>\n",
       "    </tr>\n",
       "    <tr>\n",
       "      <th>4</th>\n",
       "      <td>5</td>\n",
       "      <td>Male</td>\n",
       "      <td>28</td>\n",
       "      <td>Sales Representative</td>\n",
       "      <td>5.9</td>\n",
       "      <td>4</td>\n",
       "      <td>30</td>\n",
       "      <td>8</td>\n",
       "      <td>Obese</td>\n",
       "      <td>140/90</td>\n",
       "      <td>85</td>\n",
       "      <td>3000</td>\n",
       "      <td>Sleep Apnea</td>\n",
       "    </tr>\n",
       "  </tbody>\n",
       "</table>\n",
       "</div>"
      ],
      "text/plain": [
       "   Person ID Gender  Age            Occupation  Sleep Duration  \\\n",
       "0          1   Male   27     Software Engineer             6.1   \n",
       "1          2   Male   28                Doctor             6.2   \n",
       "2          3   Male   28                Doctor             6.2   \n",
       "3          4   Male   28  Sales Representative             5.9   \n",
       "4          5   Male   28  Sales Representative             5.9   \n",
       "\n",
       "   Quality of Sleep  Physical Activity Level  Stress Level BMI Category  \\\n",
       "0                 6                       42             6   Overweight   \n",
       "1                 6                       60             8       Normal   \n",
       "2                 6                       60             8       Normal   \n",
       "3                 4                       30             8        Obese   \n",
       "4                 4                       30             8        Obese   \n",
       "\n",
       "  Blood Pressure  Heart Rate  Daily Steps Sleep Disorder  \n",
       "0         126/83          77         4200           None  \n",
       "1         125/80          75        10000           None  \n",
       "2         125/80          75        10000           None  \n",
       "3         140/90          85         3000    Sleep Apnea  \n",
       "4         140/90          85         3000    Sleep Apnea  "
      ]
     },
     "execution_count": 22,
     "metadata": {},
     "output_type": "execute_result"
    }
   ],
   "source": [
    "dataset.head()"
   ]
  },
  {
   "cell_type": "code",
   "execution_count": 10,
   "metadata": {},
   "outputs": [],
   "source": [
    "dataset = dataset.drop([\"Person ID\"], axis=1)"
   ]
  },
  {
   "cell_type": "code",
   "execution_count": 11,
   "metadata": {},
   "outputs": [
    {
     "data": {
      "text/plain": [
       "array(['None', 'Sleep Apnea', 'Insomnia'], dtype=object)"
      ]
     },
     "execution_count": 11,
     "metadata": {},
     "output_type": "execute_result"
    }
   ],
   "source": [
    "dataset[\"Sleep Disorder\"].unique()"
   ]
  },
  {
   "cell_type": "code",
   "execution_count": 12,
   "metadata": {},
   "outputs": [
    {
     "data": {
      "text/plain": [
       "Gender                     False\n",
       "Age                        False\n",
       "Occupation                 False\n",
       "Sleep Duration             False\n",
       "Quality of Sleep           False\n",
       "Physical Activity Level    False\n",
       "Stress Level               False\n",
       "BMI Category               False\n",
       "Blood Pressure             False\n",
       "Heart Rate                 False\n",
       "Daily Steps                False\n",
       "Sleep Disorder             False\n",
       "dtype: bool"
      ]
     },
     "execution_count": 12,
     "metadata": {},
     "output_type": "execute_result"
    }
   ],
   "source": [
    "dataset.isna().any()"
   ]
  },
  {
   "cell_type": "markdown",
   "metadata": {},
   "source": [
    "# Pipeline "
   ]
  },
  {
   "cell_type": "code",
   "execution_count": 13,
   "metadata": {},
   "outputs": [
    {
     "data": {
      "text/plain": [
       "Index(['Gender', 'Age', 'Occupation', 'Sleep Duration', 'Quality of Sleep',\n",
       "       'Physical Activity Level', 'Stress Level', 'BMI Category',\n",
       "       'Blood Pressure', 'Heart Rate', 'Daily Steps', 'Sleep Disorder'],\n",
       "      dtype='object')"
      ]
     },
     "execution_count": 13,
     "metadata": {},
     "output_type": "execute_result"
    }
   ],
   "source": [
    "dataset.columns"
   ]
  },
  {
   "cell_type": "code",
   "execution_count": 14,
   "metadata": {},
   "outputs": [],
   "source": [
    "X = dataset[[x for x in dataset.columns if x != \"Sleep Disorder\"]]\n",
    "y = dataset[\"Sleep Disorder\"]"
   ]
  },
  {
   "cell_type": "code",
   "execution_count": 15,
   "metadata": {},
   "outputs": [
    {
     "name": "stderr",
     "output_type": "stream",
     "text": [
      "C:\\Users\\bushr\\AppData\\Local\\Temp\\ipykernel_21760\\3326475287.py:1: SettingWithCopyWarning: \n",
      "A value is trying to be set on a copy of a slice from a DataFrame.\n",
      "Try using .loc[row_indexer,col_indexer] = value instead\n",
      "\n",
      "See the caveats in the documentation: https://pandas.pydata.org/pandas-docs/stable/user_guide/indexing.html#returning-a-view-versus-a-copy\n",
      "  X.loc[:, [0, 1]] = X.apply(lambda x: [float(x) for x in re.findall(r\"(\\d{2,3})\\/(\\d{2,3})\", x[\"Blood Pressure\"])[0]],\n"
     ]
    }
   ],
   "source": [
    "X.loc[:, [0, 1]] = X.apply(lambda x: [float(x) for x in re.findall(r\"(\\d{2,3})\\/(\\d{2,3})\", x[\"Blood Pressure\"])[0]], \n",
    "        axis=1, result_type=\"expand\")"
   ]
  },
  {
   "cell_type": "code",
   "execution_count": 16,
   "metadata": {},
   "outputs": [],
   "source": [
    "X = X.drop([\"Blood Pressure\", \"Person ID\"], axis=1, errors=\"ignore\")"
   ]
  },
  {
   "cell_type": "code",
   "execution_count": 17,
   "metadata": {},
   "outputs": [],
   "source": [
    "X = X.rename(columns={0: \"SYS\", 1: \"DIA\"})"
   ]
  },
  {
   "cell_type": "code",
   "execution_count": 18,
   "metadata": {},
   "outputs": [],
   "source": [
    "int_col = [x for x in X.select_dtypes(int)]\n",
    "X[int_col] = X[int_col].applymap(lambda x: float(x))"
   ]
  },
  {
   "cell_type": "code",
   "execution_count": 19,
   "metadata": {},
   "outputs": [
    {
     "data": {
      "text/html": [
       "<div>\n",
       "<style scoped>\n",
       "    .dataframe tbody tr th:only-of-type {\n",
       "        vertical-align: middle;\n",
       "    }\n",
       "\n",
       "    .dataframe tbody tr th {\n",
       "        vertical-align: top;\n",
       "    }\n",
       "\n",
       "    .dataframe thead th {\n",
       "        text-align: right;\n",
       "    }\n",
       "</style>\n",
       "<table border=\"1\" class=\"dataframe\">\n",
       "  <thead>\n",
       "    <tr style=\"text-align: right;\">\n",
       "      <th></th>\n",
       "      <th>Gender</th>\n",
       "      <th>Age</th>\n",
       "      <th>Occupation</th>\n",
       "      <th>Sleep Duration</th>\n",
       "      <th>Quality of Sleep</th>\n",
       "      <th>Physical Activity Level</th>\n",
       "      <th>Stress Level</th>\n",
       "      <th>BMI Category</th>\n",
       "      <th>Heart Rate</th>\n",
       "      <th>Daily Steps</th>\n",
       "      <th>SYS</th>\n",
       "      <th>DIA</th>\n",
       "    </tr>\n",
       "  </thead>\n",
       "  <tbody>\n",
       "    <tr>\n",
       "      <th>0</th>\n",
       "      <td>Male</td>\n",
       "      <td>27.0</td>\n",
       "      <td>Software Engineer</td>\n",
       "      <td>6.1</td>\n",
       "      <td>6.0</td>\n",
       "      <td>42.0</td>\n",
       "      <td>6.0</td>\n",
       "      <td>Overweight</td>\n",
       "      <td>77.0</td>\n",
       "      <td>4200.0</td>\n",
       "      <td>126.0</td>\n",
       "      <td>83.0</td>\n",
       "    </tr>\n",
       "    <tr>\n",
       "      <th>1</th>\n",
       "      <td>Male</td>\n",
       "      <td>28.0</td>\n",
       "      <td>Doctor</td>\n",
       "      <td>6.2</td>\n",
       "      <td>6.0</td>\n",
       "      <td>60.0</td>\n",
       "      <td>8.0</td>\n",
       "      <td>Normal</td>\n",
       "      <td>75.0</td>\n",
       "      <td>10000.0</td>\n",
       "      <td>125.0</td>\n",
       "      <td>80.0</td>\n",
       "    </tr>\n",
       "    <tr>\n",
       "      <th>2</th>\n",
       "      <td>Male</td>\n",
       "      <td>28.0</td>\n",
       "      <td>Doctor</td>\n",
       "      <td>6.2</td>\n",
       "      <td>6.0</td>\n",
       "      <td>60.0</td>\n",
       "      <td>8.0</td>\n",
       "      <td>Normal</td>\n",
       "      <td>75.0</td>\n",
       "      <td>10000.0</td>\n",
       "      <td>125.0</td>\n",
       "      <td>80.0</td>\n",
       "    </tr>\n",
       "  </tbody>\n",
       "</table>\n",
       "</div>"
      ],
      "text/plain": [
       "  Gender   Age         Occupation  Sleep Duration  Quality of Sleep  \\\n",
       "0   Male  27.0  Software Engineer             6.1               6.0   \n",
       "1   Male  28.0             Doctor             6.2               6.0   \n",
       "2   Male  28.0             Doctor             6.2               6.0   \n",
       "\n",
       "   Physical Activity Level  Stress Level BMI Category  Heart Rate  \\\n",
       "0                     42.0           6.0   Overweight        77.0   \n",
       "1                     60.0           8.0       Normal        75.0   \n",
       "2                     60.0           8.0       Normal        75.0   \n",
       "\n",
       "   Daily Steps    SYS   DIA  \n",
       "0       4200.0  126.0  83.0  \n",
       "1      10000.0  125.0  80.0  \n",
       "2      10000.0  125.0  80.0  "
      ]
     },
     "execution_count": 19,
     "metadata": {},
     "output_type": "execute_result"
    }
   ],
   "source": [
    "X.head(3)"
   ]
  },
  {
   "cell_type": "code",
   "execution_count": 23,
   "metadata": {},
   "outputs": [
    {
     "data": {
      "text/plain": [
       "Gender                      object\n",
       "Age                        float64\n",
       "Occupation                  object\n",
       "Sleep Duration             float64\n",
       "Quality of Sleep           float64\n",
       "Physical Activity Level    float64\n",
       "Stress Level               float64\n",
       "BMI Category                object\n",
       "Heart Rate                 float64\n",
       "Daily Steps                float64\n",
       "SYS                        float64\n",
       "DIA                        float64\n",
       "dtype: object"
      ]
     },
     "execution_count": 23,
     "metadata": {},
     "output_type": "execute_result"
    }
   ],
   "source": [
    "X.dtypes"
   ]
  },
  {
   "cell_type": "code",
   "execution_count": 12,
   "metadata": {},
   "outputs": [],
   "source": [
    "data_pipeline = ColumnTransformer([\n",
    "                (\"convert_to_catogorical\", OrdinalEncoder(),[\"Gender\", \"Occupation\", \"BMI Category\"])\n",
    "], remainder=\"passthrough\")"
   ]
  },
  {
   "cell_type": "code",
   "execution_count": 13,
   "metadata": {},
   "outputs": [],
   "source": [
    "X_col = X.columns\n",
    "X = data_pipeline.fit_transform(X)"
   ]
  },
  {
   "cell_type": "code",
   "execution_count": 14,
   "metadata": {},
   "outputs": [],
   "source": [
    "y_encoder = LabelEncoder()\n",
    "y = y_encoder.fit_transform(y.fillna(\"0\"))"
   ]
  },
  {
   "cell_type": "code",
   "execution_count": 15,
   "metadata": {},
   "outputs": [
    {
     "data": {
      "text/plain": [
       "((374, 12), (374,))"
      ]
     },
     "execution_count": 15,
     "metadata": {},
     "output_type": "execute_result"
    }
   ],
   "source": [
    "X.shape, y.shape"
   ]
  },
  {
   "cell_type": "code",
   "execution_count": null,
   "metadata": {},
   "outputs": [],
   "source": []
  },
  {
   "cell_type": "markdown",
   "metadata": {},
   "source": [
    "# Model "
   ]
  },
  {
   "cell_type": "code",
   "execution_count": 16,
   "metadata": {},
   "outputs": [],
   "source": [
    "X_train, X_test, y_train, y_test = train_test_split(X, y, random_state=77)"
   ]
  },
  {
   "cell_type": "markdown",
   "metadata": {},
   "source": [
    "# tree"
   ]
  },
  {
   "cell_type": "code",
   "execution_count": 17,
   "metadata": {},
   "outputs": [],
   "source": [
    "clf_tree = tree.DecisionTreeClassifier(max_depth=3)"
   ]
  },
  {
   "cell_type": "code",
   "execution_count": 18,
   "metadata": {},
   "outputs": [
    {
     "data": {
      "text/html": [
       "<style>#sk-container-id-1 {color: black;background-color: white;}#sk-container-id-1 pre{padding: 0;}#sk-container-id-1 div.sk-toggleable {background-color: white;}#sk-container-id-1 label.sk-toggleable__label {cursor: pointer;display: block;width: 100%;margin-bottom: 0;padding: 0.3em;box-sizing: border-box;text-align: center;}#sk-container-id-1 label.sk-toggleable__label-arrow:before {content: \"▸\";float: left;margin-right: 0.25em;color: #696969;}#sk-container-id-1 label.sk-toggleable__label-arrow:hover:before {color: black;}#sk-container-id-1 div.sk-estimator:hover label.sk-toggleable__label-arrow:before {color: black;}#sk-container-id-1 div.sk-toggleable__content {max-height: 0;max-width: 0;overflow: hidden;text-align: left;background-color: #f0f8ff;}#sk-container-id-1 div.sk-toggleable__content pre {margin: 0.2em;color: black;border-radius: 0.25em;background-color: #f0f8ff;}#sk-container-id-1 input.sk-toggleable__control:checked~div.sk-toggleable__content {max-height: 200px;max-width: 100%;overflow: auto;}#sk-container-id-1 input.sk-toggleable__control:checked~label.sk-toggleable__label-arrow:before {content: \"▾\";}#sk-container-id-1 div.sk-estimator input.sk-toggleable__control:checked~label.sk-toggleable__label {background-color: #d4ebff;}#sk-container-id-1 div.sk-label input.sk-toggleable__control:checked~label.sk-toggleable__label {background-color: #d4ebff;}#sk-container-id-1 input.sk-hidden--visually {border: 0;clip: rect(1px 1px 1px 1px);clip: rect(1px, 1px, 1px, 1px);height: 1px;margin: -1px;overflow: hidden;padding: 0;position: absolute;width: 1px;}#sk-container-id-1 div.sk-estimator {font-family: monospace;background-color: #f0f8ff;border: 1px dotted black;border-radius: 0.25em;box-sizing: border-box;margin-bottom: 0.5em;}#sk-container-id-1 div.sk-estimator:hover {background-color: #d4ebff;}#sk-container-id-1 div.sk-parallel-item::after {content: \"\";width: 100%;border-bottom: 1px solid gray;flex-grow: 1;}#sk-container-id-1 div.sk-label:hover label.sk-toggleable__label {background-color: #d4ebff;}#sk-container-id-1 div.sk-serial::before {content: \"\";position: absolute;border-left: 1px solid gray;box-sizing: border-box;top: 0;bottom: 0;left: 50%;z-index: 0;}#sk-container-id-1 div.sk-serial {display: flex;flex-direction: column;align-items: center;background-color: white;padding-right: 0.2em;padding-left: 0.2em;position: relative;}#sk-container-id-1 div.sk-item {position: relative;z-index: 1;}#sk-container-id-1 div.sk-parallel {display: flex;align-items: stretch;justify-content: center;background-color: white;position: relative;}#sk-container-id-1 div.sk-item::before, #sk-container-id-1 div.sk-parallel-item::before {content: \"\";position: absolute;border-left: 1px solid gray;box-sizing: border-box;top: 0;bottom: 0;left: 50%;z-index: -1;}#sk-container-id-1 div.sk-parallel-item {display: flex;flex-direction: column;z-index: 1;position: relative;background-color: white;}#sk-container-id-1 div.sk-parallel-item:first-child::after {align-self: flex-end;width: 50%;}#sk-container-id-1 div.sk-parallel-item:last-child::after {align-self: flex-start;width: 50%;}#sk-container-id-1 div.sk-parallel-item:only-child::after {width: 0;}#sk-container-id-1 div.sk-dashed-wrapped {border: 1px dashed gray;margin: 0 0.4em 0.5em 0.4em;box-sizing: border-box;padding-bottom: 0.4em;background-color: white;}#sk-container-id-1 div.sk-label label {font-family: monospace;font-weight: bold;display: inline-block;line-height: 1.2em;}#sk-container-id-1 div.sk-label-container {text-align: center;}#sk-container-id-1 div.sk-container {/* jupyter's `normalize.less` sets `[hidden] { display: none; }` but bootstrap.min.css set `[hidden] { display: none !important; }` so we also need the `!important` here to be able to override the default hidden behavior on the sphinx rendered scikit-learn.org. See: https://github.com/scikit-learn/scikit-learn/issues/21755 */display: inline-block !important;position: relative;}#sk-container-id-1 div.sk-text-repr-fallback {display: none;}</style><div id=\"sk-container-id-1\" class=\"sk-top-container\"><div class=\"sk-text-repr-fallback\"><pre>DecisionTreeClassifier(max_depth=3)</pre><b>In a Jupyter environment, please rerun this cell to show the HTML representation or trust the notebook. <br />On GitHub, the HTML representation is unable to render, please try loading this page with nbviewer.org.</b></div><div class=\"sk-container\" hidden><div class=\"sk-item\"><div class=\"sk-estimator sk-toggleable\"><input class=\"sk-toggleable__control sk-hidden--visually\" id=\"sk-estimator-id-1\" type=\"checkbox\" checked><label for=\"sk-estimator-id-1\" class=\"sk-toggleable__label sk-toggleable__label-arrow\">DecisionTreeClassifier</label><div class=\"sk-toggleable__content\"><pre>DecisionTreeClassifier(max_depth=3)</pre></div></div></div></div></div>"
      ],
      "text/plain": [
       "DecisionTreeClassifier(max_depth=3)"
      ]
     },
     "execution_count": 18,
     "metadata": {},
     "output_type": "execute_result"
    }
   ],
   "source": [
    "clf_tree.fit(X_train, y_train)"
   ]
  },
  {
   "cell_type": "code",
   "execution_count": 19,
   "metadata": {},
   "outputs": [
    {
     "data": {
      "text/plain": [
       "(0.9178571428571428, 0.8829787234042553)"
      ]
     },
     "execution_count": 19,
     "metadata": {},
     "output_type": "execute_result"
    }
   ],
   "source": [
    "clf_tree.score(X_train, y_train), clf_tree.score(X_test, y_test)"
   ]
  },
  {
   "cell_type": "code",
   "execution_count": 20,
   "metadata": {},
   "outputs": [
    {
     "data": {
      "text/plain": [
       "3"
      ]
     },
     "execution_count": 20,
     "metadata": {},
     "output_type": "execute_result"
    }
   ],
   "source": [
    "clf_tree.get_depth()"
   ]
  },
  {
   "cell_type": "code",
   "execution_count": 21,
   "metadata": {},
   "outputs": [
    {
     "data": {
      "text/plain": [
       "[Text(0.5, 0.875, 'x[2] <= 1.5\\ngini = 0.576\\nsamples = 280\\nvalue = [162, 60, 58]'),\n",
       " Text(0.25, 0.625, 'x[9] <= 4550.0\\ngini = 0.133\\nsamples = 157\\nvalue = [146, 7, 4]'),\n",
       " Text(0.125, 0.375, 'x[8] <= 79.0\\ngini = 0.444\\nsamples = 3\\nvalue = [0, 2, 1]'),\n",
       " Text(0.0625, 0.125, 'gini = 0.5\\nsamples = 2\\nvalue = [0, 1, 1]'),\n",
       " Text(0.1875, 0.125, 'gini = 0.0\\nsamples = 1\\nvalue = [0, 1, 0]'),\n",
       " Text(0.375, 0.375, 'x[1] <= 9.5\\ngini = 0.1\\nsamples = 154\\nvalue = [146, 5, 3]'),\n",
       " Text(0.3125, 0.125, 'gini = 0.091\\nsamples = 148\\nvalue = [141, 5, 2]'),\n",
       " Text(0.4375, 0.125, 'gini = 0.278\\nsamples = 6\\nvalue = [5, 0, 1]'),\n",
       " Text(0.75, 0.625, 'x[6] <= 70.0\\ngini = 0.605\\nsamples = 123\\nvalue = [16, 53, 54]'),\n",
       " Text(0.625, 0.375, 'x[10] <= 128.5\\ngini = 0.422\\nsamples = 72\\nvalue = [11, 53, 8]'),\n",
       " Text(0.5625, 0.125, 'gini = 0.0\\nsamples = 9\\nvalue = [9, 0, 0]'),\n",
       " Text(0.6875, 0.125, 'gini = 0.275\\nsamples = 63\\nvalue = [2, 53, 8]'),\n",
       " Text(0.875, 0.375, 'x[3] <= 46.0\\ngini = 0.177\\nsamples = 51\\nvalue = [5, 0, 46]'),\n",
       " Text(0.8125, 0.125, 'gini = 0.0\\nsamples = 1\\nvalue = [1, 0, 0]'),\n",
       " Text(0.9375, 0.125, 'gini = 0.147\\nsamples = 50\\nvalue = [4, 0, 46]')]"
      ]
     },
     "execution_count": 21,
     "metadata": {},
     "output_type": "execute_result"
    },
    {
     "data": {
      "image/png": "[encoded data removed]",
      "text/plain": [
       "<Figure size 640x480 with 1 Axes>"
      ]
     },
     "metadata": {},
     "output_type": "display_data"
    }
   ],
   "source": [
    "tree.plot_tree(clf_tree)"
   ]
  },
  {
   "cell_type": "code",
   "execution_count": null,
   "metadata": {},
   "outputs": [],
   "source": []
  },
  {
   "cell_type": "markdown",
   "metadata": {},
   "source": [
    "# Random forests"
   ]
  },
  {
   "cell_type": "code",
   "execution_count": 22,
   "metadata": {},
   "outputs": [],
   "source": [
    "clf = RandomForestClassifier(\n",
    "    max_depth=4, \n",
    "    random_state=0, \n",
    "    n_estimators=200)"
   ]
  },
  {
   "cell_type": "code",
   "execution_count": 23,
   "metadata": {},
   "outputs": [
    {
     "data": {
      "text/html": [
       "<style>#sk-container-id-2 {color: black;background-color: white;}#sk-container-id-2 pre{padding: 0;}#sk-container-id-2 div.sk-toggleable {background-color: white;}#sk-container-id-2 label.sk-toggleable__label {cursor: pointer;display: block;width: 100%;margin-bottom: 0;padding: 0.3em;box-sizing: border-box;text-align: center;}#sk-container-id-2 label.sk-toggleable__label-arrow:before {content: \"▸\";float: left;margin-right: 0.25em;color: #696969;}#sk-container-id-2 label.sk-toggleable__label-arrow:hover:before {color: black;}#sk-container-id-2 div.sk-estimator:hover label.sk-toggleable__label-arrow:before {color: black;}#sk-container-id-2 div.sk-toggleable__content {max-height: 0;max-width: 0;overflow: hidden;text-align: left;background-color: #f0f8ff;}#sk-container-id-2 div.sk-toggleable__content pre {margin: 0.2em;color: black;border-radius: 0.25em;background-color: #f0f8ff;}#sk-container-id-2 input.sk-toggleable__control:checked~div.sk-toggleable__content {max-height: 200px;max-width: 100%;overflow: auto;}#sk-container-id-2 input.sk-toggleable__control:checked~label.sk-toggleable__label-arrow:before {content: \"▾\";}#sk-container-id-2 div.sk-estimator input.sk-toggleable__control:checked~label.sk-toggleable__label {background-color: #d4ebff;}#sk-container-id-2 div.sk-label input.sk-toggleable__control:checked~label.sk-toggleable__label {background-color: #d4ebff;}#sk-container-id-2 input.sk-hidden--visually {border: 0;clip: rect(1px 1px 1px 1px);clip: rect(1px, 1px, 1px, 1px);height: 1px;margin: -1px;overflow: hidden;padding: 0;position: absolute;width: 1px;}#sk-container-id-2 div.sk-estimator {font-family: monospace;background-color: #f0f8ff;border: 1px dotted black;border-radius: 0.25em;box-sizing: border-box;margin-bottom: 0.5em;}#sk-container-id-2 div.sk-estimator:hover {background-color: #d4ebff;}#sk-container-id-2 div.sk-parallel-item::after {content: \"\";width: 100%;border-bottom: 1px solid gray;flex-grow: 1;}#sk-container-id-2 div.sk-label:hover label.sk-toggleable__label {background-color: #d4ebff;}#sk-container-id-2 div.sk-serial::before {content: \"\";position: absolute;border-left: 1px solid gray;box-sizing: border-box;top: 0;bottom: 0;left: 50%;z-index: 0;}#sk-container-id-2 div.sk-serial {display: flex;flex-direction: column;align-items: center;background-color: white;padding-right: 0.2em;padding-left: 0.2em;position: relative;}#sk-container-id-2 div.sk-item {position: relative;z-index: 1;}#sk-container-id-2 div.sk-parallel {display: flex;align-items: stretch;justify-content: center;background-color: white;position: relative;}#sk-container-id-2 div.sk-item::before, #sk-container-id-2 div.sk-parallel-item::before {content: \"\";position: absolute;border-left: 1px solid gray;box-sizing: border-box;top: 0;bottom: 0;left: 50%;z-index: -1;}#sk-container-id-2 div.sk-parallel-item {display: flex;flex-direction: column;z-index: 1;position: relative;background-color: white;}#sk-container-id-2 div.sk-parallel-item:first-child::after {align-self: flex-end;width: 50%;}#sk-container-id-2 div.sk-parallel-item:last-child::after {align-self: flex-start;width: 50%;}#sk-container-id-2 div.sk-parallel-item:only-child::after {width: 0;}#sk-container-id-2 div.sk-dashed-wrapped {border: 1px dashed gray;margin: 0 0.4em 0.5em 0.4em;box-sizing: border-box;padding-bottom: 0.4em;background-color: white;}#sk-container-id-2 div.sk-label label {font-family: monospace;font-weight: bold;display: inline-block;line-height: 1.2em;}#sk-container-id-2 div.sk-label-container {text-align: center;}#sk-container-id-2 div.sk-container {/* jupyter's `normalize.less` sets `[hidden] { display: none; }` but bootstrap.min.css set `[hidden] { display: none !important; }` so we also need the `!important` here to be able to override the default hidden behavior on the sphinx rendered scikit-learn.org. See: https://github.com/scikit-learn/scikit-learn/issues/21755 */display: inline-block !important;position: relative;}#sk-container-id-2 div.sk-text-repr-fallback {display: none;}</style><div id=\"sk-container-id-2\" class=\"sk-top-container\"><div class=\"sk-text-repr-fallback\"><pre>RandomForestClassifier(max_depth=4, n_estimators=200, random_state=0)</pre><b>In a Jupyter environment, please rerun this cell to show the HTML representation or trust the notebook. <br />On GitHub, the HTML representation is unable to render, please try loading this page with nbviewer.org.</b></div><div class=\"sk-container\" hidden><div class=\"sk-item\"><div class=\"sk-estimator sk-toggleable\"><input class=\"sk-toggleable__control sk-hidden--visually\" id=\"sk-estimator-id-2\" type=\"checkbox\" checked><label for=\"sk-estimator-id-2\" class=\"sk-toggleable__label sk-toggleable__label-arrow\">RandomForestClassifier</label><div class=\"sk-toggleable__content\"><pre>RandomForestClassifier(max_depth=4, n_estimators=200, random_state=0)</pre></div></div></div></div></div>"
      ],
      "text/plain": [
       "RandomForestClassifier(max_depth=4, n_estimators=200, random_state=0)"
      ]
     },
     "execution_count": 23,
     "metadata": {},
     "output_type": "execute_result"
    }
   ],
   "source": [
    "clf.fit(X_train, y_train)"
   ]
  },
  {
   "cell_type": "code",
   "execution_count": 24,
   "metadata": {},
   "outputs": [
    {
     "data": {
      "text/plain": [
       "(0.9321428571428572, 0.8936170212765957)"
      ]
     },
     "execution_count": 24,
     "metadata": {},
     "output_type": "execute_result"
    }
   ],
   "source": [
    "clf.score(X_train, y_train), clf.score(X_test, y_test)"
   ]
  },
  {
   "cell_type": "code",
   "execution_count": 25,
   "metadata": {},
   "outputs": [
    {
     "name": "stdout",
     "output_type": "stream",
     "text": [
      "Gender 0.007982908501810769\n",
      "Age 0.13294313476709496\n",
      "Occupation 0.17989153250148518\n",
      "Sleep Duration 0.07367327151868415\n",
      "Quality of Sleep 0.07063061739448524\n",
      "Physical Activity Level 0.02682446944821355\n",
      "Stress Level 0.06458440448846094\n",
      "BMI Category 0.04015099545174018\n",
      "Heart Rate 0.03519037597736181\n",
      "Daily Steps 0.04565581662351279\n",
      "SYS 0.15764682620831488\n",
      "DIA 0.16482564711883552\n"
     ]
    }
   ],
   "source": [
    "for name, score in zip(X_col, clf.feature_importances_):\n",
    "    print(name, score)"
   ]
  },
  {
   "cell_type": "code",
   "execution_count": null,
   "metadata": {},
   "outputs": [],
   "source": []
  },
  {
   "cell_type": "markdown",
   "metadata": {},
   "source": [
    "# Gradient Boosting"
   ]
  },
  {
   "cell_type": "code",
   "execution_count": 29,
   "metadata": {},
   "outputs": [],
   "source": [
    "gb_clf = GradientBoostingRegressor(max_depth=4, n_estimators=300, learning_rate=0.2)"
   ]
  },
  {
   "cell_type": "code",
   "execution_count": 30,
   "metadata": {},
   "outputs": [
    {
     "data": {
      "text/html": [
       "<style>#sk-container-id-4 {color: black;background-color: white;}#sk-container-id-4 pre{padding: 0;}#sk-container-id-4 div.sk-toggleable {background-color: white;}#sk-container-id-4 label.sk-toggleable__label {cursor: pointer;display: block;width: 100%;margin-bottom: 0;padding: 0.3em;box-sizing: border-box;text-align: center;}#sk-container-id-4 label.sk-toggleable__label-arrow:before {content: \"▸\";float: left;margin-right: 0.25em;color: #696969;}#sk-container-id-4 label.sk-toggleable__label-arrow:hover:before {color: black;}#sk-container-id-4 div.sk-estimator:hover label.sk-toggleable__label-arrow:before {color: black;}#sk-container-id-4 div.sk-toggleable__content {max-height: 0;max-width: 0;overflow: hidden;text-align: left;background-color: #f0f8ff;}#sk-container-id-4 div.sk-toggleable__content pre {margin: 0.2em;color: black;border-radius: 0.25em;background-color: #f0f8ff;}#sk-container-id-4 input.sk-toggleable__control:checked~div.sk-toggleable__content {max-height: 200px;max-width: 100%;overflow: auto;}#sk-container-id-4 input.sk-toggleable__control:checked~label.sk-toggleable__label-arrow:before {content: \"▾\";}#sk-container-id-4 div.sk-estimator input.sk-toggleable__control:checked~label.sk-toggleable__label {background-color: #d4ebff;}#sk-container-id-4 div.sk-label input.sk-toggleable__control:checked~label.sk-toggleable__label {background-color: #d4ebff;}#sk-container-id-4 input.sk-hidden--visually {border: 0;clip: rect(1px 1px 1px 1px);clip: rect(1px, 1px, 1px, 1px);height: 1px;margin: -1px;overflow: hidden;padding: 0;position: absolute;width: 1px;}#sk-container-id-4 div.sk-estimator {font-family: monospace;background-color: #f0f8ff;border: 1px dotted black;border-radius: 0.25em;box-sizing: border-box;margin-bottom: 0.5em;}#sk-container-id-4 div.sk-estimator:hover {background-color: #d4ebff;}#sk-container-id-4 div.sk-parallel-item::after {content: \"\";width: 100%;border-bottom: 1px solid gray;flex-grow: 1;}#sk-container-id-4 div.sk-label:hover label.sk-toggleable__label {background-color: #d4ebff;}#sk-container-id-4 div.sk-serial::before {content: \"\";position: absolute;border-left: 1px solid gray;box-sizing: border-box;top: 0;bottom: 0;left: 50%;z-index: 0;}#sk-container-id-4 div.sk-serial {display: flex;flex-direction: column;align-items: center;background-color: white;padding-right: 0.2em;padding-left: 0.2em;position: relative;}#sk-container-id-4 div.sk-item {position: relative;z-index: 1;}#sk-container-id-4 div.sk-parallel {display: flex;align-items: stretch;justify-content: center;background-color: white;position: relative;}#sk-container-id-4 div.sk-item::before, #sk-container-id-4 div.sk-parallel-item::before {content: \"\";position: absolute;border-left: 1px solid gray;box-sizing: border-box;top: 0;bottom: 0;left: 50%;z-index: -1;}#sk-container-id-4 div.sk-parallel-item {display: flex;flex-direction: column;z-index: 1;position: relative;background-color: white;}#sk-container-id-4 div.sk-parallel-item:first-child::after {align-self: flex-end;width: 50%;}#sk-container-id-4 div.sk-parallel-item:last-child::after {align-self: flex-start;width: 50%;}#sk-container-id-4 div.sk-parallel-item:only-child::after {width: 0;}#sk-container-id-4 div.sk-dashed-wrapped {border: 1px dashed gray;margin: 0 0.4em 0.5em 0.4em;box-sizing: border-box;padding-bottom: 0.4em;background-color: white;}#sk-container-id-4 div.sk-label label {font-family: monospace;font-weight: bold;display: inline-block;line-height: 1.2em;}#sk-container-id-4 div.sk-label-container {text-align: center;}#sk-container-id-4 div.sk-container {/* jupyter's `normalize.less` sets `[hidden] { display: none; }` but bootstrap.min.css set `[hidden] { display: none !important; }` so we also need the `!important` here to be able to override the default hidden behavior on the sphinx rendered scikit-learn.org. See: https://github.com/scikit-learn/scikit-learn/issues/21755 */display: inline-block !important;position: relative;}#sk-container-id-4 div.sk-text-repr-fallback {display: none;}</style><div id=\"sk-container-id-4\" class=\"sk-top-container\"><div class=\"sk-text-repr-fallback\"><pre>GradientBoostingRegressor(learning_rate=0.2, max_depth=4, n_estimators=300)</pre><b>In a Jupyter environment, please rerun this cell to show the HTML representation or trust the notebook. <br />On GitHub, the HTML representation is unable to render, please try loading this page with nbviewer.org.</b></div><div class=\"sk-container\" hidden><div class=\"sk-item\"><div class=\"sk-estimator sk-toggleable\"><input class=\"sk-toggleable__control sk-hidden--visually\" id=\"sk-estimator-id-4\" type=\"checkbox\" checked><label for=\"sk-estimator-id-4\" class=\"sk-toggleable__label sk-toggleable__label-arrow\">GradientBoostingRegressor</label><div class=\"sk-toggleable__content\"><pre>GradientBoostingRegressor(learning_rate=0.2, max_depth=4, n_estimators=300)</pre></div></div></div></div></div>"
      ],
      "text/plain": [
       "GradientBoostingRegressor(learning_rate=0.2, max_depth=4, n_estimators=300)"
      ]
     },
     "execution_count": 30,
     "metadata": {},
     "output_type": "execute_result"
    }
   ],
   "source": [
    "gb_clf.fit(X_train, y_train)"
   ]
  },
  {
   "cell_type": "code",
   "execution_count": 32,
   "metadata": {},
   "outputs": [
    {
     "data": {
      "text/plain": [
       "(0.8442101377095756, 0.6454827275015882)"
      ]
     },
     "execution_count": 32,
     "metadata": {},
     "output_type": "execute_result"
    }
   ],
   "source": [
    "gb_clf.score(X_train, y_train), gb_clf.score(X_test, y_test)"
   ]
  },
  {
   "cell_type": "code",
   "execution_count": 34,
   "metadata": {},
   "outputs": [
    {
     "name": "stdout",
     "output_type": "stream",
     "text": [
      "Gender 7.09500324725831e-05\n",
      "Age 0.0889848562367589\n",
      "Occupation 0.13949256568164814\n",
      "Sleep Duration 0.013946576517626092\n",
      "Quality of Sleep 0.024462874518925107\n",
      "Physical Activity Level 0.0005739774550415414\n",
      "Stress Level 0.00037306628105251717\n",
      "BMI Category 0.0017584303630963978\n",
      "Heart Rate 0.008051055642245085\n",
      "Daily Steps 0.002870105949660689\n",
      "SYS 0.06485170031455463\n",
      "DIA 0.6545638410069182\n"
     ]
    }
   ],
   "source": [
    "for name, score in zip(X_col, gb_clf.feature_importances_):\n",
    "    print(name, score)"
   ]
  },
  {
   "cell_type": "code",
   "execution_count": 40,
   "metadata": {},
   "outputs": [
    {
     "data": {
      "text/plain": [
       "{'alpha': 0.9,\n",
       " 'ccp_alpha': 0.0,\n",
       " 'criterion': 'friedman_mse',\n",
       " 'init': None,\n",
       " 'learning_rate': 0.2,\n",
       " 'loss': 'squared_error',\n",
       " 'max_depth': 4,\n",
       " 'max_features': None,\n",
       " 'max_leaf_nodes': None,\n",
       " 'min_impurity_decrease': 0.0,\n",
       " 'min_samples_leaf': 1,\n",
       " 'min_samples_split': 2,\n",
       " 'min_weight_fraction_leaf': 0.0,\n",
       " 'n_estimators': 300,\n",
       " 'n_iter_no_change': None,\n",
       " 'random_state': None,\n",
       " 'subsample': 1.0,\n",
       " 'tol': 0.0001,\n",
       " 'validation_fraction': 0.1,\n",
       " 'verbose': 0,\n",
       " 'warm_start': False}"
      ]
     },
     "execution_count": 40,
     "metadata": {},
     "output_type": "execute_result"
    }
   ],
   "source": [
    "gb_clf.get_params()"
   ]
  },
  {
   "cell_type": "code",
   "execution_count": 41,
   "metadata": {},
   "outputs": [
    {
     "data": {
      "text/plain": [
       "array([[DecisionTreeRegressor(criterion='friedman_mse', max_depth=4,\n",
       "                              random_state=RandomState(MT19937) at 0x7EFE48183540)],\n",
       "       [DecisionTreeRegressor(criterion='friedman_mse', max_depth=4,\n",
       "                              random_state=RandomState(MT19937) at 0x7EFE48183540)],\n",
       "       [DecisionTreeRegressor(criterion='friedman_mse', max_depth=4,\n",
       "                              random_state=RandomState(MT19937) at 0x7EFE48183540)],\n",
       "       [DecisionTreeRegressor(criterion='friedman_mse', max_depth=4,\n",
       "                              random_state=RandomState(MT19937) at 0x7EFE48183540)],\n",
       "       [DecisionTreeRegressor(criterion='friedman_mse', max_depth=4,\n",
       "                              random_state=RandomState(MT19937) at 0x7EFE48183540)],\n",
       "       [DecisionTreeRegressor(criterion='friedman_mse', max_depth=4,\n",
       "                              random_state=RandomState(MT19937) at 0x7EFE48183540)],\n",
       "       [DecisionTreeRegressor(criterion='friedman_mse', max_depth=4,\n",
       "                              random_state=RandomState(MT19937) at 0x7EFE48183540)],\n",
       "       [DecisionTreeRegressor(criterion='friedman_mse', max_depth=4,\n",
       "                              random_state=RandomState(MT19937) at 0x7EFE48183540)],\n",
       "       [DecisionTreeRegressor(criterion='friedman_mse', max_depth=4,\n",
       "                              random_state=RandomState(MT19937) at 0x7EFE48183540)],\n",
       "       [DecisionTreeRegressor(criterion='friedman_mse', max_depth=4,\n",
       "                              random_state=RandomState(MT19937) at 0x7EFE48183540)],\n",
       "       [DecisionTreeRegressor(criterion='friedman_mse', max_depth=4,\n",
       "                              random_state=RandomState(MT19937) at 0x7EFE48183540)],\n",
       "       [DecisionTreeRegressor(criterion='friedman_mse', max_depth=4,\n",
       "                              random_state=RandomState(MT19937) at 0x7EFE48183540)],\n",
       "       [DecisionTreeRegressor(criterion='friedman_mse', max_depth=4,\n",
       "                              random_state=RandomState(MT19937) at 0x7EFE48183540)],\n",
       "       [DecisionTreeRegressor(criterion='friedman_mse', max_depth=4,\n",
       "                              random_state=RandomState(MT19937) at 0x7EFE48183540)],\n",
       "       [DecisionTreeRegressor(criterion='friedman_mse', max_depth=4,\n",
       "                              random_state=RandomState(MT19937) at 0x7EFE48183540)],\n",
       "       [DecisionTreeRegressor(criterion='friedman_mse', max_depth=4,\n",
       "                              random_state=RandomState(MT19937) at 0x7EFE48183540)],\n",
       "       [DecisionTreeRegressor(criterion='friedman_mse', max_depth=4,\n",
       "                              random_state=RandomState(MT19937) at 0x7EFE48183540)],\n",
       "       [DecisionTreeRegressor(criterion='friedman_mse', max_depth=4,\n",
       "                              random_state=RandomState(MT19937) at 0x7EFE48183540)],\n",
       "       [DecisionTreeRegressor(criterion='friedman_mse', max_depth=4,\n",
       "                              random_state=RandomState(MT19937) at 0x7EFE48183540)],\n",
       "       [DecisionTreeRegressor(criterion='friedman_mse', max_depth=4,\n",
       "                              random_state=RandomState(MT19937) at 0x7EFE48183540)],\n",
       "       [DecisionTreeRegressor(criterion='friedman_mse', max_depth=4,\n",
       "                              random_state=RandomState(MT19937) at 0x7EFE48183540)],\n",
       "       [DecisionTreeRegressor(criterion='friedman_mse', max_depth=4,\n",
       "                              random_state=RandomState(MT19937) at 0x7EFE48183540)],\n",
       "       [DecisionTreeRegressor(criterion='friedman_mse', max_depth=4,\n",
       "                              random_state=RandomState(MT19937) at 0x7EFE48183540)],\n",
       "       [DecisionTreeRegressor(criterion='friedman_mse', max_depth=4,\n",
       "                              random_state=RandomState(MT19937) at 0x7EFE48183540)],\n",
       "       [DecisionTreeRegressor(criterion='friedman_mse', max_depth=4,\n",
       "                              random_state=RandomState(MT19937) at 0x7EFE48183540)],\n",
       "       [DecisionTreeRegressor(criterion='friedman_mse', max_depth=4,\n",
       "                              random_state=RandomState(MT19937) at 0x7EFE48183540)],\n",
       "       [DecisionTreeRegressor(criterion='friedman_mse', max_depth=4,\n",
       "                              random_state=RandomState(MT19937) at 0x7EFE48183540)],\n",
       "       [DecisionTreeRegressor(criterion='friedman_mse', max_depth=4,\n",
       "                              random_state=RandomState(MT19937) at 0x7EFE48183540)],\n",
       "       [DecisionTreeRegressor(criterion='friedman_mse', max_depth=4,\n",
       "                              random_state=RandomState(MT19937) at 0x7EFE48183540)],\n",
       "       [DecisionTreeRegressor(criterion='friedman_mse', max_depth=4,\n",
       "                              random_state=RandomState(MT19937) at 0x7EFE48183540)],\n",
       "       [DecisionTreeRegressor(criterion='friedman_mse', max_depth=4,\n",
       "                              random_state=RandomState(MT19937) at 0x7EFE48183540)],\n",
       "       [DecisionTreeRegressor(criterion='friedman_mse', max_depth=4,\n",
       "                              random_state=RandomState(MT19937) at 0x7EFE48183540)],\n",
       "       [DecisionTreeRegressor(criterion='friedman_mse', max_depth=4,\n",
       "                              random_state=RandomState(MT19937) at 0x7EFE48183540)],\n",
       "       [DecisionTreeRegressor(criterion='friedman_mse', max_depth=4,\n",
       "                              random_state=RandomState(MT19937) at 0x7EFE48183540)],\n",
       "       [DecisionTreeRegressor(criterion='friedman_mse', max_depth=4,\n",
       "                              random_state=RandomState(MT19937) at 0x7EFE48183540)],\n",
       "       [DecisionTreeRegressor(criterion='friedman_mse', max_depth=4,\n",
       "                              random_state=RandomState(MT19937) at 0x7EFE48183540)],\n",
       "       [DecisionTreeRegressor(criterion='friedman_mse', max_depth=4,\n",
       "                              random_state=RandomState(MT19937) at 0x7EFE48183540)],\n",
       "       [DecisionTreeRegressor(criterion='friedman_mse', max_depth=4,\n",
       "                              random_state=RandomState(MT19937) at 0x7EFE48183540)],\n",
       "       [DecisionTreeRegressor(criterion='friedman_mse', max_depth=4,\n",
       "                              random_state=RandomState(MT19937) at 0x7EFE48183540)],\n",
       "       [DecisionTreeRegressor(criterion='friedman_mse', max_depth=4,\n",
       "                              random_state=RandomState(MT19937) at 0x7EFE48183540)],\n",
       "       [DecisionTreeRegressor(criterion='friedman_mse', max_depth=4,\n",
       "                              random_state=RandomState(MT19937) at 0x7EFE48183540)],\n",
       "       [DecisionTreeRegressor(criterion='friedman_mse', max_depth=4,\n",
       "                              random_state=RandomState(MT19937) at 0x7EFE48183540)],\n",
       "       [DecisionTreeRegressor(criterion='friedman_mse', max_depth=4,\n",
       "                              random_state=RandomState(MT19937) at 0x7EFE48183540)],\n",
       "       [DecisionTreeRegressor(criterion='friedman_mse', max_depth=4,\n",
       "                              random_state=RandomState(MT19937) at 0x7EFE48183540)],\n",
       "       [DecisionTreeRegressor(criterion='friedman_mse', max_depth=4,\n",
       "                              random_state=RandomState(MT19937) at 0x7EFE48183540)],\n",
       "       [DecisionTreeRegressor(criterion='friedman_mse', max_depth=4,\n",
       "                              random_state=RandomState(MT19937) at 0x7EFE48183540)],\n",
       "       [DecisionTreeRegressor(criterion='friedman_mse', max_depth=4,\n",
       "                              random_state=RandomState(MT19937) at 0x7EFE48183540)],\n",
       "       [DecisionTreeRegressor(criterion='friedman_mse', max_depth=4,\n",
       "                              random_state=RandomState(MT19937) at 0x7EFE48183540)],\n",
       "       [DecisionTreeRegressor(criterion='friedman_mse', max_depth=4,\n",
       "                              random_state=RandomState(MT19937) at 0x7EFE48183540)],\n",
       "       [DecisionTreeRegressor(criterion='friedman_mse', max_depth=4,\n",
       "                              random_state=RandomState(MT19937) at 0x7EFE48183540)],\n",
       "       [DecisionTreeRegressor(criterion='friedman_mse', max_depth=4,\n",
       "                              random_state=RandomState(MT19937) at 0x7EFE48183540)],\n",
       "       [DecisionTreeRegressor(criterion='friedman_mse', max_depth=4,\n",
       "                              random_state=RandomState(MT19937) at 0x7EFE48183540)],\n",
       "       [DecisionTreeRegressor(criterion='friedman_mse', max_depth=4,\n",
       "                              random_state=RandomState(MT19937) at 0x7EFE48183540)],\n",
       "       [DecisionTreeRegressor(criterion='friedman_mse', max_depth=4,\n",
       "                              random_state=RandomState(MT19937) at 0x7EFE48183540)],\n",
       "       [DecisionTreeRegressor(criterion='friedman_mse', max_depth=4,\n",
       "                              random_state=RandomState(MT19937) at 0x7EFE48183540)],\n",
       "       [DecisionTreeRegressor(criterion='friedman_mse', max_depth=4,\n",
       "                              random_state=RandomState(MT19937) at 0x7EFE48183540)],\n",
       "       [DecisionTreeRegressor(criterion='friedman_mse', max_depth=4,\n",
       "                              random_state=RandomState(MT19937) at 0x7EFE48183540)],\n",
       "       [DecisionTreeRegressor(criterion='friedman_mse', max_depth=4,\n",
       "                              random_state=RandomState(MT19937) at 0x7EFE48183540)],\n",
       "       [DecisionTreeRegressor(criterion='friedman_mse', max_depth=4,\n",
       "                              random_state=RandomState(MT19937) at 0x7EFE48183540)],\n",
       "       [DecisionTreeRegressor(criterion='friedman_mse', max_depth=4,\n",
       "                              random_state=RandomState(MT19937) at 0x7EFE48183540)],\n",
       "       [DecisionTreeRegressor(criterion='friedman_mse', max_depth=4,\n",
       "                              random_state=RandomState(MT19937) at 0x7EFE48183540)],\n",
       "       [DecisionTreeRegressor(criterion='friedman_mse', max_depth=4,\n",
       "                              random_state=RandomState(MT19937) at 0x7EFE48183540)],\n",
       "       [DecisionTreeRegressor(criterion='friedman_mse', max_depth=4,\n",
       "                              random_state=RandomState(MT19937) at 0x7EFE48183540)],\n",
       "       [DecisionTreeRegressor(criterion='friedman_mse', max_depth=4,\n",
       "                              random_state=RandomState(MT19937) at 0x7EFE48183540)],\n",
       "       [DecisionTreeRegressor(criterion='friedman_mse', max_depth=4,\n",
       "                              random_state=RandomState(MT19937) at 0x7EFE48183540)],\n",
       "       [DecisionTreeRegressor(criterion='friedman_mse', max_depth=4,\n",
       "                              random_state=RandomState(MT19937) at 0x7EFE48183540)],\n",
       "       [DecisionTreeRegressor(criterion='friedman_mse', max_depth=4,\n",
       "                              random_state=RandomState(MT19937) at 0x7EFE48183540)],\n",
       "       [DecisionTreeRegressor(criterion='friedman_mse', max_depth=4,\n",
       "                              random_state=RandomState(MT19937) at 0x7EFE48183540)],\n",
       "       [DecisionTreeRegressor(criterion='friedman_mse', max_depth=4,\n",
       "                              random_state=RandomState(MT19937) at 0x7EFE48183540)],\n",
       "       [DecisionTreeRegressor(criterion='friedman_mse', max_depth=4,\n",
       "                              random_state=RandomState(MT19937) at 0x7EFE48183540)],\n",
       "       [DecisionTreeRegressor(criterion='friedman_mse', max_depth=4,\n",
       "                              random_state=RandomState(MT19937) at 0x7EFE48183540)],\n",
       "       [DecisionTreeRegressor(criterion='friedman_mse', max_depth=4,\n",
       "                              random_state=RandomState(MT19937) at 0x7EFE48183540)],\n",
       "       [DecisionTreeRegressor(criterion='friedman_mse', max_depth=4,\n",
       "                              random_state=RandomState(MT19937) at 0x7EFE48183540)],\n",
       "       [DecisionTreeRegressor(criterion='friedman_mse', max_depth=4,\n",
       "                              random_state=RandomState(MT19937) at 0x7EFE48183540)],\n",
       "       [DecisionTreeRegressor(criterion='friedman_mse', max_depth=4,\n",
       "                              random_state=RandomState(MT19937) at 0x7EFE48183540)],\n",
       "       [DecisionTreeRegressor(criterion='friedman_mse', max_depth=4,\n",
       "                              random_state=RandomState(MT19937) at 0x7EFE48183540)],\n",
       "       [DecisionTreeRegressor(criterion='friedman_mse', max_depth=4,\n",
       "                              random_state=RandomState(MT19937) at 0x7EFE48183540)],\n",
       "       [DecisionTreeRegressor(criterion='friedman_mse', max_depth=4,\n",
       "                              random_state=RandomState(MT19937) at 0x7EFE48183540)],\n",
       "       [DecisionTreeRegressor(criterion='friedman_mse', max_depth=4,\n",
       "                              random_state=RandomState(MT19937) at 0x7EFE48183540)],\n",
       "       [DecisionTreeRegressor(criterion='friedman_mse', max_depth=4,\n",
       "                              random_state=RandomState(MT19937) at 0x7EFE48183540)],\n",
       "       [DecisionTreeRegressor(criterion='friedman_mse', max_depth=4,\n",
       "                              random_state=RandomState(MT19937) at 0x7EFE48183540)],\n",
       "       [DecisionTreeRegressor(criterion='friedman_mse', max_depth=4,\n",
       "                              random_state=RandomState(MT19937) at 0x7EFE48183540)],\n",
       "       [DecisionTreeRegressor(criterion='friedman_mse', max_depth=4,\n",
       "                              random_state=RandomState(MT19937) at 0x7EFE48183540)],\n",
       "       [DecisionTreeRegressor(criterion='friedman_mse', max_depth=4,\n",
       "                              random_state=RandomState(MT19937) at 0x7EFE48183540)],\n",
       "       [DecisionTreeRegressor(criterion='friedman_mse', max_depth=4,\n",
       "                              random_state=RandomState(MT19937) at 0x7EFE48183540)],\n",
       "       [DecisionTreeRegressor(criterion='friedman_mse', max_depth=4,\n",
       "                              random_state=RandomState(MT19937) at 0x7EFE48183540)],\n",
       "       [DecisionTreeRegressor(criterion='friedman_mse', max_depth=4,\n",
       "                              random_state=RandomState(MT19937) at 0x7EFE48183540)],\n",
       "       [DecisionTreeRegressor(criterion='friedman_mse', max_depth=4,\n",
       "                              random_state=RandomState(MT19937) at 0x7EFE48183540)],\n",
       "       [DecisionTreeRegressor(criterion='friedman_mse', max_depth=4,\n",
       "                              random_state=RandomState(MT19937) at 0x7EFE48183540)],\n",
       "       [DecisionTreeRegressor(criterion='friedman_mse', max_depth=4,\n",
       "                              random_state=RandomState(MT19937) at 0x7EFE48183540)],\n",
       "       [DecisionTreeRegressor(criterion='friedman_mse', max_depth=4,\n",
       "                              random_state=RandomState(MT19937) at 0x7EFE48183540)],\n",
       "       [DecisionTreeRegressor(criterion='friedman_mse', max_depth=4,\n",
       "                              random_state=RandomState(MT19937) at 0x7EFE48183540)],\n",
       "       [DecisionTreeRegressor(criterion='friedman_mse', max_depth=4,\n",
       "                              random_state=RandomState(MT19937) at 0x7EFE48183540)],\n",
       "       [DecisionTreeRegressor(criterion='friedman_mse', max_depth=4,\n",
       "                              random_state=RandomState(MT19937) at 0x7EFE48183540)],\n",
       "       [DecisionTreeRegressor(criterion='friedman_mse', max_depth=4,\n",
       "                              random_state=RandomState(MT19937) at 0x7EFE48183540)],\n",
       "       [DecisionTreeRegressor(criterion='friedman_mse', max_depth=4,\n",
       "                              random_state=RandomState(MT19937) at 0x7EFE48183540)],\n",
       "       [DecisionTreeRegressor(criterion='friedman_mse', max_depth=4,\n",
       "                              random_state=RandomState(MT19937) at 0x7EFE48183540)],\n",
       "       [DecisionTreeRegressor(criterion='friedman_mse', max_depth=4,\n",
       "                              random_state=RandomState(MT19937) at 0x7EFE48183540)],\n",
       "       [DecisionTreeRegressor(criterion='friedman_mse', max_depth=4,\n",
       "                              random_state=RandomState(MT19937) at 0x7EFE48183540)],\n",
       "       [DecisionTreeRegressor(criterion='friedman_mse', max_depth=4,\n",
       "                              random_state=RandomState(MT19937) at 0x7EFE48183540)],\n",
       "       [DecisionTreeRegressor(criterion='friedman_mse', max_depth=4,\n",
       "                              random_state=RandomState(MT19937) at 0x7EFE48183540)],\n",
       "       [DecisionTreeRegressor(criterion='friedman_mse', max_depth=4,\n",
       "                              random_state=RandomState(MT19937) at 0x7EFE48183540)],\n",
       "       [DecisionTreeRegressor(criterion='friedman_mse', max_depth=4,\n",
       "                              random_state=RandomState(MT19937) at 0x7EFE48183540)],\n",
       "       [DecisionTreeRegressor(criterion='friedman_mse', max_depth=4,\n",
       "                              random_state=RandomState(MT19937) at 0x7EFE48183540)],\n",
       "       [DecisionTreeRegressor(criterion='friedman_mse', max_depth=4,\n",
       "                              random_state=RandomState(MT19937) at 0x7EFE48183540)],\n",
       "       [DecisionTreeRegressor(criterion='friedman_mse', max_depth=4,\n",
       "                              random_state=RandomState(MT19937) at 0x7EFE48183540)],\n",
       "       [DecisionTreeRegressor(criterion='friedman_mse', max_depth=4,\n",
       "                              random_state=RandomState(MT19937) at 0x7EFE48183540)],\n",
       "       [DecisionTreeRegressor(criterion='friedman_mse', max_depth=4,\n",
       "                              random_state=RandomState(MT19937) at 0x7EFE48183540)],\n",
       "       [DecisionTreeRegressor(criterion='friedman_mse', max_depth=4,\n",
       "                              random_state=RandomState(MT19937) at 0x7EFE48183540)],\n",
       "       [DecisionTreeRegressor(criterion='friedman_mse', max_depth=4,\n",
       "                              random_state=RandomState(MT19937) at 0x7EFE48183540)],\n",
       "       [DecisionTreeRegressor(criterion='friedman_mse', max_depth=4,\n",
       "                              random_state=RandomState(MT19937) at 0x7EFE48183540)],\n",
       "       [DecisionTreeRegressor(criterion='friedman_mse', max_depth=4,\n",
       "                              random_state=RandomState(MT19937) at 0x7EFE48183540)],\n",
       "       [DecisionTreeRegressor(criterion='friedman_mse', max_depth=4,\n",
       "                              random_state=RandomState(MT19937) at 0x7EFE48183540)],\n",
       "       [DecisionTreeRegressor(criterion='friedman_mse', max_depth=4,\n",
       "                              random_state=RandomState(MT19937) at 0x7EFE48183540)],\n",
       "       [DecisionTreeRegressor(criterion='friedman_mse', max_depth=4,\n",
       "                              random_state=RandomState(MT19937) at 0x7EFE48183540)],\n",
       "       [DecisionTreeRegressor(criterion='friedman_mse', max_depth=4,\n",
       "                              random_state=RandomState(MT19937) at 0x7EFE48183540)],\n",
       "       [DecisionTreeRegressor(criterion='friedman_mse', max_depth=4,\n",
       "                              random_state=RandomState(MT19937) at 0x7EFE48183540)],\n",
       "       [DecisionTreeRegressor(criterion='friedman_mse', max_depth=4,\n",
       "                              random_state=RandomState(MT19937) at 0x7EFE48183540)],\n",
       "       [DecisionTreeRegressor(criterion='friedman_mse', max_depth=4,\n",
       "                              random_state=RandomState(MT19937) at 0x7EFE48183540)],\n",
       "       [DecisionTreeRegressor(criterion='friedman_mse', max_depth=4,\n",
       "                              random_state=RandomState(MT19937) at 0x7EFE48183540)],\n",
       "       [DecisionTreeRegressor(criterion='friedman_mse', max_depth=4,\n",
       "                              random_state=RandomState(MT19937) at 0x7EFE48183540)],\n",
       "       [DecisionTreeRegressor(criterion='friedman_mse', max_depth=4,\n",
       "                              random_state=RandomState(MT19937) at 0x7EFE48183540)],\n",
       "       [DecisionTreeRegressor(criterion='friedman_mse', max_depth=4,\n",
       "                              random_state=RandomState(MT19937) at 0x7EFE48183540)],\n",
       "       [DecisionTreeRegressor(criterion='friedman_mse', max_depth=4,\n",
       "                              random_state=RandomState(MT19937) at 0x7EFE48183540)],\n",
       "       [DecisionTreeRegressor(criterion='friedman_mse', max_depth=4,\n",
       "                              random_state=RandomState(MT19937) at 0x7EFE48183540)],\n",
       "       [DecisionTreeRegressor(criterion='friedman_mse', max_depth=4,\n",
       "                              random_state=RandomState(MT19937) at 0x7EFE48183540)],\n",
       "       [DecisionTreeRegressor(criterion='friedman_mse', max_depth=4,\n",
       "                              random_state=RandomState(MT19937) at 0x7EFE48183540)],\n",
       "       [DecisionTreeRegressor(criterion='friedman_mse', max_depth=4,\n",
       "                              random_state=RandomState(MT19937) at 0x7EFE48183540)],\n",
       "       [DecisionTreeRegressor(criterion='friedman_mse', max_depth=4,\n",
       "                              random_state=RandomState(MT19937) at 0x7EFE48183540)],\n",
       "       [DecisionTreeRegressor(criterion='friedman_mse', max_depth=4,\n",
       "                              random_state=RandomState(MT19937) at 0x7EFE48183540)],\n",
       "       [DecisionTreeRegressor(criterion='friedman_mse', max_depth=4,\n",
       "                              random_state=RandomState(MT19937) at 0x7EFE48183540)],\n",
       "       [DecisionTreeRegressor(criterion='friedman_mse', max_depth=4,\n",
       "                              random_state=RandomState(MT19937) at 0x7EFE48183540)],\n",
       "       [DecisionTreeRegressor(criterion='friedman_mse', max_depth=4,\n",
       "                              random_state=RandomState(MT19937) at 0x7EFE48183540)],\n",
       "       [DecisionTreeRegressor(criterion='friedman_mse', max_depth=4,\n",
       "                              random_state=RandomState(MT19937) at 0x7EFE48183540)],\n",
       "       [DecisionTreeRegressor(criterion='friedman_mse', max_depth=4,\n",
       "                              random_state=RandomState(MT19937) at 0x7EFE48183540)],\n",
       "       [DecisionTreeRegressor(criterion='friedman_mse', max_depth=4,\n",
       "                              random_state=RandomState(MT19937) at 0x7EFE48183540)],\n",
       "       [DecisionTreeRegressor(criterion='friedman_mse', max_depth=4,\n",
       "                              random_state=RandomState(MT19937) at 0x7EFE48183540)],\n",
       "       [DecisionTreeRegressor(criterion='friedman_mse', max_depth=4,\n",
       "                              random_state=RandomState(MT19937) at 0x7EFE48183540)],\n",
       "       [DecisionTreeRegressor(criterion='friedman_mse', max_depth=4,\n",
       "                              random_state=RandomState(MT19937) at 0x7EFE48183540)],\n",
       "       [DecisionTreeRegressor(criterion='friedman_mse', max_depth=4,\n",
       "                              random_state=RandomState(MT19937) at 0x7EFE48183540)],\n",
       "       [DecisionTreeRegressor(criterion='friedman_mse', max_depth=4,\n",
       "                              random_state=RandomState(MT19937) at 0x7EFE48183540)],\n",
       "       [DecisionTreeRegressor(criterion='friedman_mse', max_depth=4,\n",
       "                              random_state=RandomState(MT19937) at 0x7EFE48183540)],\n",
       "       [DecisionTreeRegressor(criterion='friedman_mse', max_depth=4,\n",
       "                              random_state=RandomState(MT19937) at 0x7EFE48183540)],\n",
       "       [DecisionTreeRegressor(criterion='friedman_mse', max_depth=4,\n",
       "                              random_state=RandomState(MT19937) at 0x7EFE48183540)],\n",
       "       [DecisionTreeRegressor(criterion='friedman_mse', max_depth=4,\n",
       "                              random_state=RandomState(MT19937) at 0x7EFE48183540)],\n",
       "       [DecisionTreeRegressor(criterion='friedman_mse', max_depth=4,\n",
       "                              random_state=RandomState(MT19937) at 0x7EFE48183540)],\n",
       "       [DecisionTreeRegressor(criterion='friedman_mse', max_depth=4,\n",
       "                              random_state=RandomState(MT19937) at 0x7EFE48183540)],\n",
       "       [DecisionTreeRegressor(criterion='friedman_mse', max_depth=4,\n",
       "                              random_state=RandomState(MT19937) at 0x7EFE48183540)],\n",
       "       [DecisionTreeRegressor(criterion='friedman_mse', max_depth=4,\n",
       "                              random_state=RandomState(MT19937) at 0x7EFE48183540)],\n",
       "       [DecisionTreeRegressor(criterion='friedman_mse', max_depth=4,\n",
       "                              random_state=RandomState(MT19937) at 0x7EFE48183540)],\n",
       "       [DecisionTreeRegressor(criterion='friedman_mse', max_depth=4,\n",
       "                              random_state=RandomState(MT19937) at 0x7EFE48183540)],\n",
       "       [DecisionTreeRegressor(criterion='friedman_mse', max_depth=4,\n",
       "                              random_state=RandomState(MT19937) at 0x7EFE48183540)],\n",
       "       [DecisionTreeRegressor(criterion='friedman_mse', max_depth=4,\n",
       "                              random_state=RandomState(MT19937) at 0x7EFE48183540)],\n",
       "       [DecisionTreeRegressor(criterion='friedman_mse', max_depth=4,\n",
       "                              random_state=RandomState(MT19937) at 0x7EFE48183540)],\n",
       "       [DecisionTreeRegressor(criterion='friedman_mse', max_depth=4,\n",
       "                              random_state=RandomState(MT19937) at 0x7EFE48183540)],\n",
       "       [DecisionTreeRegressor(criterion='friedman_mse', max_depth=4,\n",
       "                              random_state=RandomState(MT19937) at 0x7EFE48183540)],\n",
       "       [DecisionTreeRegressor(criterion='friedman_mse', max_depth=4,\n",
       "                              random_state=RandomState(MT19937) at 0x7EFE48183540)],\n",
       "       [DecisionTreeRegressor(criterion='friedman_mse', max_depth=4,\n",
       "                              random_state=RandomState(MT19937) at 0x7EFE48183540)],\n",
       "       [DecisionTreeRegressor(criterion='friedman_mse', max_depth=4,\n",
       "                              random_state=RandomState(MT19937) at 0x7EFE48183540)],\n",
       "       [DecisionTreeRegressor(criterion='friedman_mse', max_depth=4,\n",
       "                              random_state=RandomState(MT19937) at 0x7EFE48183540)],\n",
       "       [DecisionTreeRegressor(criterion='friedman_mse', max_depth=4,\n",
       "                              random_state=RandomState(MT19937) at 0x7EFE48183540)],\n",
       "       [DecisionTreeRegressor(criterion='friedman_mse', max_depth=4,\n",
       "                              random_state=RandomState(MT19937) at 0x7EFE48183540)],\n",
       "       [DecisionTreeRegressor(criterion='friedman_mse', max_depth=4,\n",
       "                              random_state=RandomState(MT19937) at 0x7EFE48183540)],\n",
       "       [DecisionTreeRegressor(criterion='friedman_mse', max_depth=4,\n",
       "                              random_state=RandomState(MT19937) at 0x7EFE48183540)],\n",
       "       [DecisionTreeRegressor(criterion='friedman_mse', max_depth=4,\n",
       "                              random_state=RandomState(MT19937) at 0x7EFE48183540)],\n",
       "       [DecisionTreeRegressor(criterion='friedman_mse', max_depth=4,\n",
       "                              random_state=RandomState(MT19937) at 0x7EFE48183540)],\n",
       "       [DecisionTreeRegressor(criterion='friedman_mse', max_depth=4,\n",
       "                              random_state=RandomState(MT19937) at 0x7EFE48183540)],\n",
       "       [DecisionTreeRegressor(criterion='friedman_mse', max_depth=4,\n",
       "                              random_state=RandomState(MT19937) at 0x7EFE48183540)],\n",
       "       [DecisionTreeRegressor(criterion='friedman_mse', max_depth=4,\n",
       "                              random_state=RandomState(MT19937) at 0x7EFE48183540)],\n",
       "       [DecisionTreeRegressor(criterion='friedman_mse', max_depth=4,\n",
       "                              random_state=RandomState(MT19937) at 0x7EFE48183540)],\n",
       "       [DecisionTreeRegressor(criterion='friedman_mse', max_depth=4,\n",
       "                              random_state=RandomState(MT19937) at 0x7EFE48183540)],\n",
       "       [DecisionTreeRegressor(criterion='friedman_mse', max_depth=4,\n",
       "                              random_state=RandomState(MT19937) at 0x7EFE48183540)],\n",
       "       [DecisionTreeRegressor(criterion='friedman_mse', max_depth=4,\n",
       "                              random_state=RandomState(MT19937) at 0x7EFE48183540)],\n",
       "       [DecisionTreeRegressor(criterion='friedman_mse', max_depth=4,\n",
       "                              random_state=RandomState(MT19937) at 0x7EFE48183540)],\n",
       "       [DecisionTreeRegressor(criterion='friedman_mse', max_depth=4,\n",
       "                              random_state=RandomState(MT19937) at 0x7EFE48183540)],\n",
       "       [DecisionTreeRegressor(criterion='friedman_mse', max_depth=4,\n",
       "                              random_state=RandomState(MT19937) at 0x7EFE48183540)],\n",
       "       [DecisionTreeRegressor(criterion='friedman_mse', max_depth=4,\n",
       "                              random_state=RandomState(MT19937) at 0x7EFE48183540)],\n",
       "       [DecisionTreeRegressor(criterion='friedman_mse', max_depth=4,\n",
       "                              random_state=RandomState(MT19937) at 0x7EFE48183540)],\n",
       "       [DecisionTreeRegressor(criterion='friedman_mse', max_depth=4,\n",
       "                              random_state=RandomState(MT19937) at 0x7EFE48183540)],\n",
       "       [DecisionTreeRegressor(criterion='friedman_mse', max_depth=4,\n",
       "                              random_state=RandomState(MT19937) at 0x7EFE48183540)],\n",
       "       [DecisionTreeRegressor(criterion='friedman_mse', max_depth=4,\n",
       "                              random_state=RandomState(MT19937) at 0x7EFE48183540)],\n",
       "       [DecisionTreeRegressor(criterion='friedman_mse', max_depth=4,\n",
       "                              random_state=RandomState(MT19937) at 0x7EFE48183540)],\n",
       "       [DecisionTreeRegressor(criterion='friedman_mse', max_depth=4,\n",
       "                              random_state=RandomState(MT19937) at 0x7EFE48183540)],\n",
       "       [DecisionTreeRegressor(criterion='friedman_mse', max_depth=4,\n",
       "                              random_state=RandomState(MT19937) at 0x7EFE48183540)],\n",
       "       [DecisionTreeRegressor(criterion='friedman_mse', max_depth=4,\n",
       "                              random_state=RandomState(MT19937) at 0x7EFE48183540)],\n",
       "       [DecisionTreeRegressor(criterion='friedman_mse', max_depth=4,\n",
       "                              random_state=RandomState(MT19937) at 0x7EFE48183540)],\n",
       "       [DecisionTreeRegressor(criterion='friedman_mse', max_depth=4,\n",
       "                              random_state=RandomState(MT19937) at 0x7EFE48183540)],\n",
       "       [DecisionTreeRegressor(criterion='friedman_mse', max_depth=4,\n",
       "                              random_state=RandomState(MT19937) at 0x7EFE48183540)],\n",
       "       [DecisionTreeRegressor(criterion='friedman_mse', max_depth=4,\n",
       "                              random_state=RandomState(MT19937) at 0x7EFE48183540)],\n",
       "       [DecisionTreeRegressor(criterion='friedman_mse', max_depth=4,\n",
       "                              random_state=RandomState(MT19937) at 0x7EFE48183540)],\n",
       "       [DecisionTreeRegressor(criterion='friedman_mse', max_depth=4,\n",
       "                              random_state=RandomState(MT19937) at 0x7EFE48183540)],\n",
       "       [DecisionTreeRegressor(criterion='friedman_mse', max_depth=4,\n",
       "                              random_state=RandomState(MT19937) at 0x7EFE48183540)],\n",
       "       [DecisionTreeRegressor(criterion='friedman_mse', max_depth=4,\n",
       "                              random_state=RandomState(MT19937) at 0x7EFE48183540)],\n",
       "       [DecisionTreeRegressor(criterion='friedman_mse', max_depth=4,\n",
       "                              random_state=RandomState(MT19937) at 0x7EFE48183540)],\n",
       "       [DecisionTreeRegressor(criterion='friedman_mse', max_depth=4,\n",
       "                              random_state=RandomState(MT19937) at 0x7EFE48183540)],\n",
       "       [DecisionTreeRegressor(criterion='friedman_mse', max_depth=4,\n",
       "                              random_state=RandomState(MT19937) at 0x7EFE48183540)],\n",
       "       [DecisionTreeRegressor(criterion='friedman_mse', max_depth=4,\n",
       "                              random_state=RandomState(MT19937) at 0x7EFE48183540)],\n",
       "       [DecisionTreeRegressor(criterion='friedman_mse', max_depth=4,\n",
       "                              random_state=RandomState(MT19937) at 0x7EFE48183540)],\n",
       "       [DecisionTreeRegressor(criterion='friedman_mse', max_depth=4,\n",
       "                              random_state=RandomState(MT19937) at 0x7EFE48183540)],\n",
       "       [DecisionTreeRegressor(criterion='friedman_mse', max_depth=4,\n",
       "                              random_state=RandomState(MT19937) at 0x7EFE48183540)],\n",
       "       [DecisionTreeRegressor(criterion='friedman_mse', max_depth=4,\n",
       "                              random_state=RandomState(MT19937) at 0x7EFE48183540)],\n",
       "       [DecisionTreeRegressor(criterion='friedman_mse', max_depth=4,\n",
       "                              random_state=RandomState(MT19937) at 0x7EFE48183540)],\n",
       "       [DecisionTreeRegressor(criterion='friedman_mse', max_depth=4,\n",
       "                              random_state=RandomState(MT19937) at 0x7EFE48183540)],\n",
       "       [DecisionTreeRegressor(criterion='friedman_mse', max_depth=4,\n",
       "                              random_state=RandomState(MT19937) at 0x7EFE48183540)],\n",
       "       [DecisionTreeRegressor(criterion='friedman_mse', max_depth=4,\n",
       "                              random_state=RandomState(MT19937) at 0x7EFE48183540)],\n",
       "       [DecisionTreeRegressor(criterion='friedman_mse', max_depth=4,\n",
       "                              random_state=RandomState(MT19937) at 0x7EFE48183540)],\n",
       "       [DecisionTreeRegressor(criterion='friedman_mse', max_depth=4,\n",
       "                              random_state=RandomState(MT19937) at 0x7EFE48183540)],\n",
       "       [DecisionTreeRegressor(criterion='friedman_mse', max_depth=4,\n",
       "                              random_state=RandomState(MT19937) at 0x7EFE48183540)],\n",
       "       [DecisionTreeRegressor(criterion='friedman_mse', max_depth=4,\n",
       "                              random_state=RandomState(MT19937) at 0x7EFE48183540)],\n",
       "       [DecisionTreeRegressor(criterion='friedman_mse', max_depth=4,\n",
       "                              random_state=RandomState(MT19937) at 0x7EFE48183540)],\n",
       "       [DecisionTreeRegressor(criterion='friedman_mse', max_depth=4,\n",
       "                              random_state=RandomState(MT19937) at 0x7EFE48183540)],\n",
       "       [DecisionTreeRegressor(criterion='friedman_mse', max_depth=4,\n",
       "                              random_state=RandomState(MT19937) at 0x7EFE48183540)],\n",
       "       [DecisionTreeRegressor(criterion='friedman_mse', max_depth=4,\n",
       "                              random_state=RandomState(MT19937) at 0x7EFE48183540)],\n",
       "       [DecisionTreeRegressor(criterion='friedman_mse', max_depth=4,\n",
       "                              random_state=RandomState(MT19937) at 0x7EFE48183540)],\n",
       "       [DecisionTreeRegressor(criterion='friedman_mse', max_depth=4,\n",
       "                              random_state=RandomState(MT19937) at 0x7EFE48183540)],\n",
       "       [DecisionTreeRegressor(criterion='friedman_mse', max_depth=4,\n",
       "                              random_state=RandomState(MT19937) at 0x7EFE48183540)],\n",
       "       [DecisionTreeRegressor(criterion='friedman_mse', max_depth=4,\n",
       "                              random_state=RandomState(MT19937) at 0x7EFE48183540)],\n",
       "       [DecisionTreeRegressor(criterion='friedman_mse', max_depth=4,\n",
       "                              random_state=RandomState(MT19937) at 0x7EFE48183540)],\n",
       "       [DecisionTreeRegressor(criterion='friedman_mse', max_depth=4,\n",
       "                              random_state=RandomState(MT19937) at 0x7EFE48183540)],\n",
       "       [DecisionTreeRegressor(criterion='friedman_mse', max_depth=4,\n",
       "                              random_state=RandomState(MT19937) at 0x7EFE48183540)],\n",
       "       [DecisionTreeRegressor(criterion='friedman_mse', max_depth=4,\n",
       "                              random_state=RandomState(MT19937) at 0x7EFE48183540)],\n",
       "       [DecisionTreeRegressor(criterion='friedman_mse', max_depth=4,\n",
       "                              random_state=RandomState(MT19937) at 0x7EFE48183540)],\n",
       "       [DecisionTreeRegressor(criterion='friedman_mse', max_depth=4,\n",
       "                              random_state=RandomState(MT19937) at 0x7EFE48183540)],\n",
       "       [DecisionTreeRegressor(criterion='friedman_mse', max_depth=4,\n",
       "                              random_state=RandomState(MT19937) at 0x7EFE48183540)],\n",
       "       [DecisionTreeRegressor(criterion='friedman_mse', max_depth=4,\n",
       "                              random_state=RandomState(MT19937) at 0x7EFE48183540)],\n",
       "       [DecisionTreeRegressor(criterion='friedman_mse', max_depth=4,\n",
       "                              random_state=RandomState(MT19937) at 0x7EFE48183540)],\n",
       "       [DecisionTreeRegressor(criterion='friedman_mse', max_depth=4,\n",
       "                              random_state=RandomState(MT19937) at 0x7EFE48183540)],\n",
       "       [DecisionTreeRegressor(criterion='friedman_mse', max_depth=4,\n",
       "                              random_state=RandomState(MT19937) at 0x7EFE48183540)],\n",
       "       [DecisionTreeRegressor(criterion='friedman_mse', max_depth=4,\n",
       "                              random_state=RandomState(MT19937) at 0x7EFE48183540)],\n",
       "       [DecisionTreeRegressor(criterion='friedman_mse', max_depth=4,\n",
       "                              random_state=RandomState(MT19937) at 0x7EFE48183540)],\n",
       "       [DecisionTreeRegressor(criterion='friedman_mse', max_depth=4,\n",
       "                              random_state=RandomState(MT19937) at 0x7EFE48183540)],\n",
       "       [DecisionTreeRegressor(criterion='friedman_mse', max_depth=4,\n",
       "                              random_state=RandomState(MT19937) at 0x7EFE48183540)],\n",
       "       [DecisionTreeRegressor(criterion='friedman_mse', max_depth=4,\n",
       "                              random_state=RandomState(MT19937) at 0x7EFE48183540)],\n",
       "       [DecisionTreeRegressor(criterion='friedman_mse', max_depth=4,\n",
       "                              random_state=RandomState(MT19937) at 0x7EFE48183540)],\n",
       "       [DecisionTreeRegressor(criterion='friedman_mse', max_depth=4,\n",
       "                              random_state=RandomState(MT19937) at 0x7EFE48183540)],\n",
       "       [DecisionTreeRegressor(criterion='friedman_mse', max_depth=4,\n",
       "                              random_state=RandomState(MT19937) at 0x7EFE48183540)],\n",
       "       [DecisionTreeRegressor(criterion='friedman_mse', max_depth=4,\n",
       "                              random_state=RandomState(MT19937) at 0x7EFE48183540)],\n",
       "       [DecisionTreeRegressor(criterion='friedman_mse', max_depth=4,\n",
       "                              random_state=RandomState(MT19937) at 0x7EFE48183540)],\n",
       "       [DecisionTreeRegressor(criterion='friedman_mse', max_depth=4,\n",
       "                              random_state=RandomState(MT19937) at 0x7EFE48183540)],\n",
       "       [DecisionTreeRegressor(criterion='friedman_mse', max_depth=4,\n",
       "                              random_state=RandomState(MT19937) at 0x7EFE48183540)],\n",
       "       [DecisionTreeRegressor(criterion='friedman_mse', max_depth=4,\n",
       "                              random_state=RandomState(MT19937) at 0x7EFE48183540)],\n",
       "       [DecisionTreeRegressor(criterion='friedman_mse', max_depth=4,\n",
       "                              random_state=RandomState(MT19937) at 0x7EFE48183540)],\n",
       "       [DecisionTreeRegressor(criterion='friedman_mse', max_depth=4,\n",
       "                              random_state=RandomState(MT19937) at 0x7EFE48183540)],\n",
       "       [DecisionTreeRegressor(criterion='friedman_mse', max_depth=4,\n",
       "                              random_state=RandomState(MT19937) at 0x7EFE48183540)],\n",
       "       [DecisionTreeRegressor(criterion='friedman_mse', max_depth=4,\n",
       "                              random_state=RandomState(MT19937) at 0x7EFE48183540)],\n",
       "       [DecisionTreeRegressor(criterion='friedman_mse', max_depth=4,\n",
       "                              random_state=RandomState(MT19937) at 0x7EFE48183540)],\n",
       "       [DecisionTreeRegressor(criterion='friedman_mse', max_depth=4,\n",
       "                              random_state=RandomState(MT19937) at 0x7EFE48183540)],\n",
       "       [DecisionTreeRegressor(criterion='friedman_mse', max_depth=4,\n",
       "                              random_state=RandomState(MT19937) at 0x7EFE48183540)],\n",
       "       [DecisionTreeRegressor(criterion='friedman_mse', max_depth=4,\n",
       "                              random_state=RandomState(MT19937) at 0x7EFE48183540)],\n",
       "       [DecisionTreeRegressor(criterion='friedman_mse', max_depth=4,\n",
       "                              random_state=RandomState(MT19937) at 0x7EFE48183540)],\n",
       "       [DecisionTreeRegressor(criterion='friedman_mse', max_depth=4,\n",
       "                              random_state=RandomState(MT19937) at 0x7EFE48183540)],\n",
       "       [DecisionTreeRegressor(criterion='friedman_mse', max_depth=4,\n",
       "                              random_state=RandomState(MT19937) at 0x7EFE48183540)],\n",
       "       [DecisionTreeRegressor(criterion='friedman_mse', max_depth=4,\n",
       "                              random_state=RandomState(MT19937) at 0x7EFE48183540)],\n",
       "       [DecisionTreeRegressor(criterion='friedman_mse', max_depth=4,\n",
       "                              random_state=RandomState(MT19937) at 0x7EFE48183540)],\n",
       "       [DecisionTreeRegressor(criterion='friedman_mse', max_depth=4,\n",
       "                              random_state=RandomState(MT19937) at 0x7EFE48183540)],\n",
       "       [DecisionTreeRegressor(criterion='friedman_mse', max_depth=4,\n",
       "                              random_state=RandomState(MT19937) at 0x7EFE48183540)],\n",
       "       [DecisionTreeRegressor(criterion='friedman_mse', max_depth=4,\n",
       "                              random_state=RandomState(MT19937) at 0x7EFE48183540)],\n",
       "       [DecisionTreeRegressor(criterion='friedman_mse', max_depth=4,\n",
       "                              random_state=RandomState(MT19937) at 0x7EFE48183540)],\n",
       "       [DecisionTreeRegressor(criterion='friedman_mse', max_depth=4,\n",
       "                              random_state=RandomState(MT19937) at 0x7EFE48183540)],\n",
       "       [DecisionTreeRegressor(criterion='friedman_mse', max_depth=4,\n",
       "                              random_state=RandomState(MT19937) at 0x7EFE48183540)],\n",
       "       [DecisionTreeRegressor(criterion='friedman_mse', max_depth=4,\n",
       "                              random_state=RandomState(MT19937) at 0x7EFE48183540)],\n",
       "       [DecisionTreeRegressor(criterion='friedman_mse', max_depth=4,\n",
       "                              random_state=RandomState(MT19937) at 0x7EFE48183540)],\n",
       "       [DecisionTreeRegressor(criterion='friedman_mse', max_depth=4,\n",
       "                              random_state=RandomState(MT19937) at 0x7EFE48183540)],\n",
       "       [DecisionTreeRegressor(criterion='friedman_mse', max_depth=4,\n",
       "                              random_state=RandomState(MT19937) at 0x7EFE48183540)],\n",
       "       [DecisionTreeRegressor(criterion='friedman_mse', max_depth=4,\n",
       "                              random_state=RandomState(MT19937) at 0x7EFE48183540)],\n",
       "       [DecisionTreeRegressor(criterion='friedman_mse', max_depth=4,\n",
       "                              random_state=RandomState(MT19937) at 0x7EFE48183540)],\n",
       "       [DecisionTreeRegressor(criterion='friedman_mse', max_depth=4,\n",
       "                              random_state=RandomState(MT19937) at 0x7EFE48183540)],\n",
       "       [DecisionTreeRegressor(criterion='friedman_mse', max_depth=4,\n",
       "                              random_state=RandomState(MT19937) at 0x7EFE48183540)],\n",
       "       [DecisionTreeRegressor(criterion='friedman_mse', max_depth=4,\n",
       "                              random_state=RandomState(MT19937) at 0x7EFE48183540)],\n",
       "       [DecisionTreeRegressor(criterion='friedman_mse', max_depth=4,\n",
       "                              random_state=RandomState(MT19937) at 0x7EFE48183540)],\n",
       "       [DecisionTreeRegressor(criterion='friedman_mse', max_depth=4,\n",
       "                              random_state=RandomState(MT19937) at 0x7EFE48183540)],\n",
       "       [DecisionTreeRegressor(criterion='friedman_mse', max_depth=4,\n",
       "                              random_state=RandomState(MT19937) at 0x7EFE48183540)],\n",
       "       [DecisionTreeRegressor(criterion='friedman_mse', max_depth=4,\n",
       "                              random_state=RandomState(MT19937) at 0x7EFE48183540)],\n",
       "       [DecisionTreeRegressor(criterion='friedman_mse', max_depth=4,\n",
       "                              random_state=RandomState(MT19937) at 0x7EFE48183540)],\n",
       "       [DecisionTreeRegressor(criterion='friedman_mse', max_depth=4,\n",
       "                              random_state=RandomState(MT19937) at 0x7EFE48183540)],\n",
       "       [DecisionTreeRegressor(criterion='friedman_mse', max_depth=4,\n",
       "                              random_state=RandomState(MT19937) at 0x7EFE48183540)],\n",
       "       [DecisionTreeRegressor(criterion='friedman_mse', max_depth=4,\n",
       "                              random_state=RandomState(MT19937) at 0x7EFE48183540)],\n",
       "       [DecisionTreeRegressor(criterion='friedman_mse', max_depth=4,\n",
       "                              random_state=RandomState(MT19937) at 0x7EFE48183540)],\n",
       "       [DecisionTreeRegressor(criterion='friedman_mse', max_depth=4,\n",
       "                              random_state=RandomState(MT19937) at 0x7EFE48183540)],\n",
       "       [DecisionTreeRegressor(criterion='friedman_mse', max_depth=4,\n",
       "                              random_state=RandomState(MT19937) at 0x7EFE48183540)],\n",
       "       [DecisionTreeRegressor(criterion='friedman_mse', max_depth=4,\n",
       "                              random_state=RandomState(MT19937) at 0x7EFE48183540)],\n",
       "       [DecisionTreeRegressor(criterion='friedman_mse', max_depth=4,\n",
       "                              random_state=RandomState(MT19937) at 0x7EFE48183540)],\n",
       "       [DecisionTreeRegressor(criterion='friedman_mse', max_depth=4,\n",
       "                              random_state=RandomState(MT19937) at 0x7EFE48183540)],\n",
       "       [DecisionTreeRegressor(criterion='friedman_mse', max_depth=4,\n",
       "                              random_state=RandomState(MT19937) at 0x7EFE48183540)],\n",
       "       [DecisionTreeRegressor(criterion='friedman_mse', max_depth=4,\n",
       "                              random_state=RandomState(MT19937) at 0x7EFE48183540)],\n",
       "       [DecisionTreeRegressor(criterion='friedman_mse', max_depth=4,\n",
       "                              random_state=RandomState(MT19937) at 0x7EFE48183540)],\n",
       "       [DecisionTreeRegressor(criterion='friedman_mse', max_depth=4,\n",
       "                              random_state=RandomState(MT19937) at 0x7EFE48183540)],\n",
       "       [DecisionTreeRegressor(criterion='friedman_mse', max_depth=4,\n",
       "                              random_state=RandomState(MT19937) at 0x7EFE48183540)],\n",
       "       [DecisionTreeRegressor(criterion='friedman_mse', max_depth=4,\n",
       "                              random_state=RandomState(MT19937) at 0x7EFE48183540)],\n",
       "       [DecisionTreeRegressor(criterion='friedman_mse', max_depth=4,\n",
       "                              random_state=RandomState(MT19937) at 0x7EFE48183540)],\n",
       "       [DecisionTreeRegressor(criterion='friedman_mse', max_depth=4,\n",
       "                              random_state=RandomState(MT19937) at 0x7EFE48183540)],\n",
       "       [DecisionTreeRegressor(criterion='friedman_mse', max_depth=4,\n",
       "                              random_state=RandomState(MT19937) at 0x7EFE48183540)],\n",
       "       [DecisionTreeRegressor(criterion='friedman_mse', max_depth=4,\n",
       "                              random_state=RandomState(MT19937) at 0x7EFE48183540)],\n",
       "       [DecisionTreeRegressor(criterion='friedman_mse', max_depth=4,\n",
       "                              random_state=RandomState(MT19937) at 0x7EFE48183540)],\n",
       "       [DecisionTreeRegressor(criterion='friedman_mse', max_depth=4,\n",
       "                              random_state=RandomState(MT19937) at 0x7EFE48183540)],\n",
       "       [DecisionTreeRegressor(criterion='friedman_mse', max_depth=4,\n",
       "                              random_state=RandomState(MT19937) at 0x7EFE48183540)],\n",
       "       [DecisionTreeRegressor(criterion='friedman_mse', max_depth=4,\n",
       "                              random_state=RandomState(MT19937) at 0x7EFE48183540)],\n",
       "       [DecisionTreeRegressor(criterion='friedman_mse', max_depth=4,\n",
       "                              random_state=RandomState(MT19937) at 0x7EFE48183540)],\n",
       "       [DecisionTreeRegressor(criterion='friedman_mse', max_depth=4,\n",
       "                              random_state=RandomState(MT19937) at 0x7EFE48183540)],\n",
       "       [DecisionTreeRegressor(criterion='friedman_mse', max_depth=4,\n",
       "                              random_state=RandomState(MT19937) at 0x7EFE48183540)]],\n",
       "      dtype=object)"
      ]
     },
     "execution_count": 41,
     "metadata": {},
     "output_type": "execute_result"
    }
   ],
   "source": [
    "gb_clf.estimators_"
   ]
  },
  {
   "cell_type": "code",
   "execution_count": null,
   "metadata": {},
   "outputs": [],
   "source": []
  }
 ],
 "metadata": {
  "kernelspec": {
   "display_name": "Python 3 (ipykernel)",
   "language": "python",
   "name": "python3"
  },
  "language_info": {
   "codemirror_mode": {
    "name": "ipython",
    "version": 3
   },
   "file_extension": ".py",
   "mimetype": "text/x-python",
   "name": "python",
   "nbconvert_exporter": "python",
   "pygments_lexer": "ipython3",
   "version": "3.10.9"
  }
 },
 "nbformat": 4,
 "nbformat_minor": 2
}
