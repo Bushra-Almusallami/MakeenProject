{
 "cells": [
  {
   "cell_type": "code",
   "execution_count": 18,
   "id": "551116cc",
   "metadata": {},
   "outputs": [],
   "source": [
    "import numpy as np"
   ]
  },
  {
   "cell_type": "code",
   "execution_count": 4,
   "id": "f435e028",
   "metadata": {},
   "outputs": [],
   "source": [
    "arr1=np.array([[1,2],[21,23]])"
   ]
  },
  {
   "cell_type": "code",
   "execution_count": 5,
   "id": "9334b3e0",
   "metadata": {},
   "outputs": [
    {
     "data": {
      "text/plain": [
       "array([[ 2,  4],\n",
       "       [42, 46]])"
      ]
     },
     "execution_count": 5,
     "metadata": {},
     "output_type": "execute_result"
    }
   ],
   "source": [
    "arr1*2"
   ]
  },
  {
   "cell_type": "code",
   "execution_count": 6,
   "id": "4ee338bf",
   "metadata": {},
   "outputs": [],
   "source": [
    "arr2=np.array([[1,2,3],[21,23,33]])"
   ]
  },
  {
   "cell_type": "code",
   "execution_count": 7,
   "id": "d7266770",
   "metadata": {},
   "outputs": [
    {
     "data": {
      "text/plain": [
       "array([[ 6,  7,  8],\n",
       "       [26, 28, 38]])"
      ]
     },
     "execution_count": 7,
     "metadata": {},
     "output_type": "execute_result"
    }
   ],
   "source": [
    "arr2+5"
   ]
  },
  {
   "cell_type": "code",
   "execution_count": 9,
   "id": "ea53791f",
   "metadata": {},
   "outputs": [
    {
     "data": {
      "text/plain": [
       "array([[-9, -8, -7, -4],\n",
       "       [11, 13, 23, 30]])"
      ]
     },
     "execution_count": 9,
     "metadata": {},
     "output_type": "execute_result"
    }
   ],
   "source": [
    "arr3=np.array([[1,2,3,6],[21,23,33,40]])\n",
    "arr3-10"
   ]
  },
  {
   "cell_type": "code",
   "execution_count": 10,
   "id": "00b08930",
   "metadata": {},
   "outputs": [
    {
     "data": {
      "text/plain": [
       "array([[ 0.5,  1. ,  1.5,  3. ,  3.5],\n",
       "       [10.5, 11.5, 16.5, 20. ,  7.5]])"
      ]
     },
     "execution_count": 10,
     "metadata": {},
     "output_type": "execute_result"
    }
   ],
   "source": [
    "arr4=np.array([[1,2,3,6,7],[21,23,33,40,15]])\n",
    "arr4/2"
   ]
  },
  {
   "cell_type": "code",
   "execution_count": 17,
   "id": "e8c98a1e",
   "metadata": {},
   "outputs": [
    {
     "data": {
      "text/plain": [
       "array([[1.        , 1.41421356, 1.73205081, 2.44948974, 2.64575131,\n",
       "        3.        ],\n",
       "       [4.58257569, 4.79583152, 5.74456265, 6.32455532, 3.87298335,\n",
       "        4.47213595]])"
      ]
     },
     "execution_count": 17,
     "metadata": {},
     "output_type": "execute_result"
    }
   ],
   "source": [
    "arr5=np.array([[1,2,3,6,7,9],[21,23,33,40,15,20]])\n",
    "np.sqrt(arr5)"
   ]
  },
  {
   "cell_type": "code",
   "execution_count": 22,
   "id": "1542fabd",
   "metadata": {},
   "outputs": [
    {
     "data": {
      "text/plain": [
       "array([[ 1,  2],\n",
       "       [21, 23]])"
      ]
     },
     "execution_count": 22,
     "metadata": {},
     "output_type": "execute_result"
    }
   ],
   "source": [
    "a1=np.array([[1,2],[21,23]])\n",
    "a1"
   ]
  },
  {
   "cell_type": "code",
   "execution_count": 23,
   "id": "fbd4511b",
   "metadata": {},
   "outputs": [
    {
     "data": {
      "text/plain": [
       "array([[ 3,  4],\n",
       "       [33, 34]])"
      ]
     },
     "execution_count": 23,
     "metadata": {},
     "output_type": "execute_result"
    }
   ],
   "source": [
    "b1=np.array([[3,4],[33,34]])\n",
    "b1"
   ]
  },
  {
   "cell_type": "code",
   "execution_count": 24,
   "id": "f058d320",
   "metadata": {},
   "outputs": [
    {
     "data": {
      "text/plain": [
       "array([[ 69,  72],\n",
       "       [822, 866]])"
      ]
     },
     "execution_count": 24,
     "metadata": {},
     "output_type": "execute_result"
    }
   ],
   "source": [
    "np.matmul(a1,b1)"
   ]
  },
  {
   "cell_type": "code",
   "execution_count": 43,
   "id": "d6cbeef4",
   "metadata": {},
   "outputs": [
    {
     "data": {
      "text/plain": [
       "array([[ 1,  2,  3],\n",
       "       [21, 23, 33],\n",
       "       [ 3,  6,  9]])"
      ]
     },
     "execution_count": 43,
     "metadata": {},
     "output_type": "execute_result"
    }
   ],
   "source": [
    "a2=np.array([[1,2,3],[21,23,33],[3,6,9]])\n",
    "a2"
   ]
  },
  {
   "cell_type": "code",
   "execution_count": 44,
   "id": "154974b9",
   "metadata": {},
   "outputs": [
    {
     "data": {
      "text/plain": [
       "array([[ 3,  4,  6],\n",
       "       [33, 34, 39],\n",
       "       [ 1,  5,  7]])"
      ]
     },
     "execution_count": 44,
     "metadata": {},
     "output_type": "execute_result"
    }
   ],
   "source": [
    "b2=np.array([[3,4,6],[33,34,39],[1,5,7]])\n",
    "b2"
   ]
  },
  {
   "cell_type": "code",
   "execution_count": 48,
   "id": "b826222b",
   "metadata": {},
   "outputs": [
    {
     "data": {
      "text/plain": [
       "array([[  72,   87,  105],\n",
       "       [ 855, 1031, 1254],\n",
       "       [ 216,  261,  315]])"
      ]
     },
     "execution_count": 48,
     "metadata": {},
     "output_type": "execute_result"
    }
   ],
   "source": [
    "np.dot(a2,b2)"
   ]
  },
  {
   "cell_type": "code",
   "execution_count": 46,
   "id": "1eccf16d",
   "metadata": {},
   "outputs": [
    {
     "data": {
      "text/plain": [
       "array([[ 3, 33,  1],\n",
       "       [ 4, 34,  5],\n",
       "       [ 6, 39,  7]])"
      ]
     },
     "execution_count": 46,
     "metadata": {},
     "output_type": "execute_result"
    }
   ],
   "source": [
    "b2.T"
   ]
  },
  {
   "cell_type": "code",
   "execution_count": 50,
   "id": "3d2e79fe",
   "metadata": {},
   "outputs": [
    {
     "data": {
      "text/plain": [
       "array([[  29,  218,   32],\n",
       "       [ 353, 2762,  367],\n",
       "       [  87,  654,   96]])"
      ]
     },
     "execution_count": 50,
     "metadata": {},
     "output_type": "execute_result"
    }
   ],
   "source": [
    "np.dot(a2,b2.T)"
   ]
  }
 ],
 "metadata": {
  "kernelspec": {
   "display_name": "Python 3 (ipykernel)",
   "language": "python",
   "name": "python3"
  },
  "language_info": {
   "codemirror_mode": {
    "name": "ipython",
    "version": 3
   },
   "file_extension": ".py",
   "mimetype": "text/x-python",
   "name": "python",
   "nbconvert_exporter": "python",
   "pygments_lexer": "ipython3",
   "version": "3.9.13"
  }
 },
 "nbformat": 4,
 "nbformat_minor": 5
}
