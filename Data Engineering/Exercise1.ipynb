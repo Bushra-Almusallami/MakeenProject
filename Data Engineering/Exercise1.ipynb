import numpy as np

l1=[1,2,3,4]

array1=np.array(l1)

array1

l2=[11,22,33,44]
l2

l=[l1,l2]
l

arr_2D=np.array(l)
arr_2D

arr_2D.shape

arr_2D.dtype

np.zeros(3,'float')

np.ones(5)

np.ones([3,3])

np.zeros(3)
np.empty(3)

np.eye(6)

np.arange(23)

np.arange(0,50,3)

np.empty(5)



