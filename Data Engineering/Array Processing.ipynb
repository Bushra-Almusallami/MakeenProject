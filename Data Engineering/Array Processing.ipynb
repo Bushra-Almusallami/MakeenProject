{
 "cells": [
  {
   "cell_type": "code",
   "execution_count": 2,
   "id": "87c7b178",
   "metadata": {},
   "outputs": [],
   "source": [
    "import numpy as np\n",
    "from numpy.random import randn"
   ]
  },
  {
   "cell_type": "code",
   "execution_count": 3,
   "id": "b75d07b3",
   "metadata": {},
   "outputs": [],
   "source": [
    "A= np.array([1,2,3,4])\n",
    "B= np.array([100,200,300,400])"
   ]
  },
  {
   "cell_type": "code",
   "execution_count": 13,
   "id": "bbfaa890",
   "metadata": {},
   "outputs": [
    {
     "data": {
      "text/plain": [
       "array([[-0.45049408,  0.42988766, -0.84047313,  0.73311641, -1.37413106],\n",
       "       [ 0.03872854, -0.99143463,  0.42999965,  0.45423111, -0.4465583 ],\n",
       "       [-2.4067741 , -0.71375115,  0.00718069, -0.20173072,  1.00756298],\n",
       "       [-0.70226699,  0.87359261,  0.96105044, -0.29317756,  1.92964579],\n",
       "       [-0.95609106,  0.8863629 ,  0.07447396,  0.1155309 , -0.52715576]])"
      ]
     },
     "execution_count": 13,
     "metadata": {},
     "output_type": "execute_result"
    }
   ],
   "source": [
    "arr= randn(5,5)\n",
    "arr"
   ]
  },
  {
   "cell_type": "code",
   "execution_count": 14,
   "id": "9079a66c",
   "metadata": {},
   "outputs": [],
   "source": [
    "m=0"
   ]
  },
  {
   "cell_type": "code",
   "execution_count": 15,
   "id": "4f84a893",
   "metadata": {},
   "outputs": [],
   "source": [
    "sd=1"
   ]
  },
  {
   "cell_type": "code",
   "execution_count": 16,
   "id": "4df0cb8b",
   "metadata": {},
   "outputs": [
    {
     "data": {
      "text/plain": [
       "array([[-1.59835622,  0.9007222 , -0.78964593,  1.77537473, -1.2632295 ],\n",
       "       [-0.51239094,  0.1868367 , -1.3276592 ,  0.65652645, -1.88205732],\n",
       "       [-0.26426494, -0.76100648, -1.0414904 ,  1.62758626, -0.5517654 ],\n",
       "       [-0.65713436, -0.60954976, -0.34953356,  0.5931935 ,  0.17014813],\n",
       "       [-1.0369926 , -0.3796762 ,  0.50677771,  1.67755808,  0.49338423]])"
      ]
     },
     "execution_count": 16,
     "metadata": {},
     "output_type": "execute_result"
    }
   ],
   "source": [
    "arr= randn(5,5)+m*sd\n",
    "arr"
   ]
  },
  {
   "cell_type": "code",
   "execution_count": 24,
   "id": "475ea68a",
   "metadata": {},
   "outputs": [],
   "source": [
    "A=np.array([-2,5,4,-8,0])"
   ]
  },
  {
   "cell_type": "code",
   "execution_count": 25,
   "id": "154b2320",
   "metadata": {},
   "outputs": [
    {
     "name": "stdout",
     "output_type": "stream",
     "text": [
      "[-8 -2  0  4  5]\n"
     ]
    }
   ],
   "source": [
    "print(np.sort(A)) #Ascending"
   ]
  },
  {
   "cell_type": "code",
   "execution_count": 26,
   "id": "3c58fd9e",
   "metadata": {},
   "outputs": [
    {
     "name": "stdout",
     "output_type": "stream",
     "text": [
      "[ 5  4  0 -2 -8]\n"
     ]
    }
   ],
   "source": [
    "print(np.sort(A)[::-1]) #Descending"
   ]
  },
  {
   "cell_type": "code",
   "execution_count": 27,
   "id": "55e0fb71",
   "metadata": {},
   "outputs": [
    {
     "data": {
      "text/plain": [
       "array(['Asma', 'Bushra', 'Juhaina', 'Sara'], dtype='<U7')"
      ]
     },
     "execution_count": 27,
     "metadata": {},
     "output_type": "execute_result"
    }
   ],
   "source": [
    "names= np.array(['Bushra','Sara','Asma','Juhaina'])\n",
    "np.unique(names)"
   ]
  },
  {
   "cell_type": "code",
   "execution_count": 28,
   "id": "cf9ed226",
   "metadata": {},
   "outputs": [
    {
     "data": {
      "text/plain": [
       "array([ True, False,  True])"
      ]
     },
     "execution_count": 28,
     "metadata": {},
     "output_type": "execute_result"
    }
   ],
   "source": [
    "np.in1d(['Sara','US','Asma'],names)  #check if there"
   ]
  }
 ],
 "metadata": {
  "kernelspec": {
   "display_name": "Python 3 (ipykernel)",
   "language": "python",
   "name": "python3"
  },
  "language_info": {
   "codemirror_mode": {
    "name": "ipython",
    "version": 3
   },
   "file_extension": ".py",
   "mimetype": "text/x-python",
   "name": "python",
   "nbconvert_exporter": "python",
   "pygments_lexer": "ipython3",
   "version": "3.9.13"
  }
 },
 "nbformat": 4,
 "nbformat_minor": 5
}
